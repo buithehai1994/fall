{
 "cells": [
  {
   "cell_type": "code",
   "execution_count": 1,
   "metadata": {},
   "outputs": [],
   "source": [
    "import pandas as pd"
   ]
  },
  {
   "cell_type": "code",
   "execution_count": 14,
   "metadata": {},
   "outputs": [],
   "source": [
    "df=pd.read_excel(\"AIHW_INJCAT213_Machine_readable_21062024.xlsx\")"
   ]
  },
  {
   "cell_type": "code",
   "execution_count": 3,
   "metadata": {},
   "outputs": [
    {
     "data": {
      "text/html": [
       "<div>\n",
       "<style scoped>\n",
       "    .dataframe tbody tr th:only-of-type {\n",
       "        vertical-align: middle;\n",
       "    }\n",
       "\n",
       "    .dataframe tbody tr th {\n",
       "        vertical-align: top;\n",
       "    }\n",
       "\n",
       "    .dataframe thead th {\n",
       "        text-align: right;\n",
       "    }\n",
       "</style>\n",
       "<table border=\"1\" class=\"dataframe\">\n",
       "  <thead>\n",
       "    <tr style=\"text-align: right;\">\n",
       "      <th></th>\n",
       "      <th>TableReference</th>\n",
       "      <th>TableTitle</th>\n",
       "      <th>PeriodFrom</th>\n",
       "      <th>PeriodTo</th>\n",
       "      <th>ReportingCategory1</th>\n",
       "      <th>ReportingCategory2</th>\n",
       "      <th>ReportingCategory3</th>\n",
       "      <th>ReportingCategory4</th>\n",
       "      <th>MeasureName</th>\n",
       "      <th>Footnotes</th>\n",
       "      <th>MeasureValueLabel</th>\n",
       "      <th>MeasureValueNumber</th>\n",
       "    </tr>\n",
       "  </thead>\n",
       "  <tbody>\n",
       "    <tr>\n",
       "      <th>0</th>\n",
       "      <td>H1</td>\n",
       "      <td>Table H1: Number of injury hospitalisations by...</td>\n",
       "      <td>2022-2023</td>\n",
       "      <td>2022-2023</td>\n",
       "      <td>Males</td>\n",
       "      <td>Accidental poisoning</td>\n",
       "      <td>NaN</td>\n",
       "      <td>0–4</td>\n",
       "      <td>Hospitalisations</td>\n",
       "      <td>Source: AIHW National Hospital Morbidity Datab...</td>\n",
       "      <td>622</td>\n",
       "      <td>622.0</td>\n",
       "    </tr>\n",
       "    <tr>\n",
       "      <th>1</th>\n",
       "      <td>H1</td>\n",
       "      <td>Table H1: Number of injury hospitalisations by...</td>\n",
       "      <td>2022-2023</td>\n",
       "      <td>2022-2023</td>\n",
       "      <td>Males</td>\n",
       "      <td>Accidental poisoning</td>\n",
       "      <td>NaN</td>\n",
       "      <td>5–9</td>\n",
       "      <td>Hospitalisations</td>\n",
       "      <td>Source: AIHW National Hospital Morbidity Datab...</td>\n",
       "      <td>150</td>\n",
       "      <td>150.0</td>\n",
       "    </tr>\n",
       "  </tbody>\n",
       "</table>\n",
       "</div>"
      ],
      "text/plain": [
       "  TableReference                                         TableTitle  \\\n",
       "0             H1  Table H1: Number of injury hospitalisations by...   \n",
       "1             H1  Table H1: Number of injury hospitalisations by...   \n",
       "\n",
       "  PeriodFrom   PeriodTo ReportingCategory1    ReportingCategory2  \\\n",
       "0  2022-2023  2022-2023              Males  Accidental poisoning   \n",
       "1  2022-2023  2022-2023              Males  Accidental poisoning   \n",
       "\n",
       "  ReportingCategory3 ReportingCategory4       MeasureName  \\\n",
       "0                NaN                0–4  Hospitalisations   \n",
       "1                NaN                5–9  Hospitalisations   \n",
       "\n",
       "                                           Footnotes MeasureValueLabel  \\\n",
       "0  Source: AIHW National Hospital Morbidity Datab...               622   \n",
       "1  Source: AIHW National Hospital Morbidity Datab...               150   \n",
       "\n",
       "   MeasureValueNumber  \n",
       "0               622.0  \n",
       "1               150.0  "
      ]
     },
     "execution_count": 3,
     "metadata": {},
     "output_type": "execute_result"
    }
   ],
   "source": [
    "df.head(2)"
   ]
  },
  {
   "cell_type": "code",
   "execution_count": 4,
   "metadata": {},
   "outputs": [
    {
     "data": {
      "text/plain": [
       "array(['Hospitalisations', 'Hospitalisations per 100,000 population',\n",
       "       'Age standardised rate per 100,000 population',\n",
       "       'Number of injury deaths', 'Mortality rate per 100,000 population',\n",
       "       'ED Presentations', 'ED Presentations per 100,000 population'],\n",
       "      dtype=object)"
      ]
     },
     "execution_count": 4,
     "metadata": {},
     "output_type": "execute_result"
    }
   ],
   "source": [
    "df['MeasureName'].unique()"
   ]
  },
  {
   "cell_type": "code",
   "execution_count": 6,
   "metadata": {},
   "outputs": [
    {
     "data": {
      "text/plain": [
       "nan"
      ]
     },
     "execution_count": 6,
     "metadata": {},
     "output_type": "execute_result"
    }
   ],
   "source": [
    "sum(df[df['MeasureName']=='Hospitalisations']['MeasureValueNumber'])"
   ]
  },
  {
   "cell_type": "markdown",
   "metadata": {},
   "source": [
    "- Hospitalisations: The total number of hospitalisations.\n",
    "- Hospitalisations per 100,000 population: The number of hospitalisations per 100,000 people.\n",
    "- Age standardised rate per 100,000 population: The age-standardized rate per 100,000 people.\n",
    "- Number of injury deaths: The total number of injury-related deaths.\n",
    "- Mortality rate per 100,000 population: The mortality rate per 100,000 people due to injury.\n",
    "- ED Presentations: The number of presentations to the emergency department (ED) due to injuries.\n",
    "- ED Presentations per 100,000 population: The number of ED presentations per 100,000 people."
   ]
  },
  {
   "cell_type": "code",
   "execution_count": 15,
   "metadata": {},
   "outputs": [],
   "source": [
    "unique_tables = df[['TableReference', 'TableTitle']].drop_duplicates()"
   ]
  },
  {
   "cell_type": "code",
   "execution_count": 8,
   "metadata": {},
   "outputs": [
    {
     "data": {
      "text/plain": [
       "TableTitle\n",
       "Table H1: Number of injury hospitalisations by cause, 5 year age group and sex, Australia, 2022–23                                         1\n",
       "Table H2: Number and crude rate of injury hospitalisations by cause, age group and sex, Australia, 2022-23                                 1\n",
       "Table H3: Crude rate of injury hospitalisations by Indigenous status, cause, age group and sex, Australia, 2022-23                         1\n",
       "Table H4: Number and crude rate of injury hospitalisations for all causes by type of injury, sex, age group, Australia, 2022-23            1\n",
       "Table H5: Number and crude rate of injury hospitalisations for all causes by body part, sex and age group, Australia, 2022-23              1\n",
       "Table H6: Age standardised rates (ASR) of injury hospitalisations due to all causes by body part and type of injury, Australia, 2022-23    1\n",
       "Table H7: Number and crude rate of injury hospitalisations for all causes by place, sex and age group, Australia, 2022-23                  1\n",
       "Table H8: Timeseries, ASR of injury hospitalisations by cause, and sex, Australia, 2013-14 to 2022-23                                      1\n",
       "Table D1: Number and crude rate of deaths due to injuries, by cause, age group and sex, Australia, 2021-22                                 1\n",
       "Table D2: Timeseries, Age-standardised rate of deaths due to injuries, by cause and sex, Australia, 2012-13 to 2021-22                     1\n",
       "Table ED1: Number and crude rate of ED presentations, by age group and sex, Australia, 2022-23                                             1\n",
       "Table ED2: Number and crude rate of ED presentations by type of injury, age group and sex, Australia, 2022-23                              1\n",
       "Table ED3: Number and crude rate of ED presentations by body part, age group and sex, Australia, 2022-23                                   1\n",
       "Name: count, dtype: int64"
      ]
     },
     "execution_count": 8,
     "metadata": {},
     "output_type": "execute_result"
    }
   ],
   "source": [
    "unique_tables['TableTitle'].value_counts()"
   ]
  },
  {
   "cell_type": "code",
   "execution_count": 9,
   "metadata": {},
   "outputs": [
    {
     "name": "stdout",
     "output_type": "stream",
     "text": [
      "<class 'pandas.core.frame.DataFrame'>\n",
      "RangeIndex: 6245 entries, 0 to 6244\n",
      "Data columns (total 12 columns):\n",
      " #   Column              Non-Null Count  Dtype  \n",
      "---  ------              --------------  -----  \n",
      " 0   TableReference      6245 non-null   object \n",
      " 1   TableTitle          6245 non-null   object \n",
      " 2   PeriodFrom          6245 non-null   object \n",
      " 3   PeriodTo            6245 non-null   object \n",
      " 4   ReportingCategory1  6245 non-null   object \n",
      " 5   ReportingCategory2  6154 non-null   object \n",
      " 6   ReportingCategory3  2992 non-null   object \n",
      " 7   ReportingCategory4  5339 non-null   object \n",
      " 8   MeasureName         6245 non-null   object \n",
      " 9   Footnotes           6245 non-null   object \n",
      " 10  MeasureValueLabel   6245 non-null   object \n",
      " 11  MeasureValueNumber  5921 non-null   float64\n",
      "dtypes: float64(1), object(11)\n",
      "memory usage: 585.6+ KB\n"
     ]
    }
   ],
   "source": [
    "df.info()"
   ]
  },
  {
   "cell_type": "code",
   "execution_count": 10,
   "metadata": {},
   "outputs": [
    {
     "data": {
      "text/plain": [
       "0         0–4\n",
       "1         5–9\n",
       "2       10–14\n",
       "3       15–19\n",
       "4       20–24\n",
       "        ...  \n",
       "6240      NaN\n",
       "6241      NaN\n",
       "6242      NaN\n",
       "6243      NaN\n",
       "6244      NaN\n",
       "Name: ReportingCategory4, Length: 6245, dtype: object"
      ]
     },
     "execution_count": 10,
     "metadata": {},
     "output_type": "execute_result"
    }
   ],
   "source": [
    "df['ReportingCategory4']"
   ]
  },
  {
   "cell_type": "code",
   "execution_count": 16,
   "metadata": {},
   "outputs": [],
   "source": [
    "# Rename columns in df\n",
    "df = df.rename(columns={\n",
    "    'MeasureValueNumber': 'Number of Cases',\n",
    "    'ReportingCategory2': 'Injury Type'\n",
    "})"
   ]
  },
  {
   "cell_type": "code",
   "execution_count": 17,
   "metadata": {},
   "outputs": [],
   "source": [
    "import numpy as np\n",
    "population_2022 = 26010000\n",
    "population_2023 = 26640000\n",
    "average_population = np.mean([population_2022, population_2023])"
   ]
  },
  {
   "cell_type": "code",
   "execution_count": 88,
   "metadata": {},
   "outputs": [
    {
     "data": {
      "text/plain": [
       "26325000.0"
      ]
     },
     "execution_count": 88,
     "metadata": {},
     "output_type": "execute_result"
    }
   ],
   "source": [
    "average_population "
   ]
  },
  {
   "cell_type": "code",
   "execution_count": 50,
   "metadata": {},
   "outputs": [
    {
     "data": {
      "text/plain": [
       "TableTitle                                                                                                                             \n",
       "Table H1: Number of injury hospitalisations by cause, 5 year age group and sex, Australia, 2022–23                                         1008\n",
       "Table D1: Number and crude rate of deaths due to injuries, by cause, age group and sex, Australia, 2021-22                                  672\n",
       "Table H4: Number and crude rate of injury hospitalisations for all causes by type of injury, sex, age group, Australia, 2022-23             672\n",
       "Table H2: Number and crude rate of injury hospitalisations by cause, age group and sex, Australia, 2022-23                                  630\n",
       "Table H3: Crude rate of injury hospitalisations by Indigenous status, cause, age group and sex, Australia, 2022-23                          616\n",
       "Table ED2: Number and crude rate of ED presentations by type of injury, age group and sex, Australia, 2022-23                               576\n",
       "Table H7: Number and crude rate of injury hospitalisations for all causes by place, sex and age group, Australia, 2022-23                   504\n",
       "Table H8: Timeseries, ASR of injury hospitalisations by cause, and sex, Australia, 2013-14 to 2022-23                                       480\n",
       "Table H5: Number and crude rate of injury hospitalisations for all causes by body part, sex and age group, Australia, 2022-23               336\n",
       "Table D2: Timeseries, Age-standardised rate of deaths due to injuries, by cause and sex, Australia, 2012-13 to 2021-22                      330\n",
       "Table ED3: Number and crude rate of ED presentations by body part, age group and sex, Australia, 2022-23                                    288\n",
       "Table H6: Age standardised rates (ASR) of injury hospitalisations due to all causes by body part and type of injury, Australia, 2022-23      91\n",
       "Table ED1: Number and crude rate of ED presentations, by age group and sex, Australia, 2022-23                                               42\n",
       "Name: count, dtype: int64"
      ]
     },
     "execution_count": 50,
     "metadata": {},
     "output_type": "execute_result"
    }
   ],
   "source": [
    "df[['TableTitle']].value_counts()"
   ]
  },
  {
   "cell_type": "code",
   "execution_count": 234,
   "metadata": {},
   "outputs": [
    {
     "data": {
      "text/html": [
       "<div>\n",
       "<style scoped>\n",
       "    .dataframe tbody tr th:only-of-type {\n",
       "        vertical-align: middle;\n",
       "    }\n",
       "\n",
       "    .dataframe tbody tr th {\n",
       "        vertical-align: top;\n",
       "    }\n",
       "\n",
       "    .dataframe thead th {\n",
       "        text-align: right;\n",
       "    }\n",
       "</style>\n",
       "<table border=\"1\" class=\"dataframe\">\n",
       "  <thead>\n",
       "    <tr style=\"text-align: right;\">\n",
       "      <th></th>\n",
       "      <th>TableReference</th>\n",
       "      <th>TableTitle</th>\n",
       "      <th>PeriodFrom</th>\n",
       "      <th>PeriodTo</th>\n",
       "      <th>ReportingCategory1</th>\n",
       "      <th>Injury Type</th>\n",
       "      <th>ReportingCategory3</th>\n",
       "      <th>ReportingCategory4</th>\n",
       "      <th>MeasureName</th>\n",
       "      <th>Footnotes</th>\n",
       "      <th>MeasureValueLabel</th>\n",
       "      <th>Number of Cases</th>\n",
       "    </tr>\n",
       "  </thead>\n",
       "  <tbody>\n",
       "    <tr>\n",
       "      <th>3262</th>\n",
       "      <td>H6</td>\n",
       "      <td>Table H6: Age standardised rates (ASR) of inju...</td>\n",
       "      <td>2022-2023</td>\n",
       "      <td>2022-2023</td>\n",
       "      <td>Amputation</td>\n",
       "      <td>NaN</td>\n",
       "      <td>NaN</td>\n",
       "      <td>Ankle and foot</td>\n",
       "      <td>Age standardised rate per 100,000 population</td>\n",
       "      <td>Source: AIHW National Hospital Morbidity Datab...</td>\n",
       "      <td>n.p.</td>\n",
       "      <td>NaN</td>\n",
       "    </tr>\n",
       "    <tr>\n",
       "      <th>3263</th>\n",
       "      <td>H6</td>\n",
       "      <td>Table H6: Age standardised rates (ASR) of inju...</td>\n",
       "      <td>2022-2023</td>\n",
       "      <td>2022-2023</td>\n",
       "      <td>Amputation</td>\n",
       "      <td>NaN</td>\n",
       "      <td>NaN</td>\n",
       "      <td>Head and neck</td>\n",
       "      <td>Age standardised rate per 100,000 population</td>\n",
       "      <td>Source: AIHW National Hospital Morbidity Datab...</td>\n",
       "      <td>n.p.</td>\n",
       "      <td>NaN</td>\n",
       "    </tr>\n",
       "  </tbody>\n",
       "</table>\n",
       "</div>"
      ],
      "text/plain": [
       "     TableReference                                         TableTitle  \\\n",
       "3262             H6  Table H6: Age standardised rates (ASR) of inju...   \n",
       "3263             H6  Table H6: Age standardised rates (ASR) of inju...   \n",
       "\n",
       "     PeriodFrom   PeriodTo ReportingCategory1 Injury Type ReportingCategory3  \\\n",
       "3262  2022-2023  2022-2023         Amputation         NaN                NaN   \n",
       "3263  2022-2023  2022-2023         Amputation         NaN                NaN   \n",
       "\n",
       "     ReportingCategory4                                   MeasureName  \\\n",
       "3262     Ankle and foot  Age standardised rate per 100,000 population   \n",
       "3263      Head and neck  Age standardised rate per 100,000 population   \n",
       "\n",
       "                                              Footnotes MeasureValueLabel  \\\n",
       "3262  Source: AIHW National Hospital Morbidity Datab...              n.p.   \n",
       "3263  Source: AIHW National Hospital Morbidity Datab...              n.p.   \n",
       "\n",
       "      Number of Cases  \n",
       "3262              NaN  \n",
       "3263              NaN  "
      ]
     },
     "execution_count": 234,
     "metadata": {},
     "output_type": "execute_result"
    }
   ],
   "source": [
    "h6=df[df['TableReference']=='H6']\n",
    "h6.head(2)"
   ]
  },
  {
   "cell_type": "code",
   "execution_count": 51,
   "metadata": {},
   "outputs": [
    {
     "data": {
      "text/plain": [
       "TableReference\n",
       "H1     1\n",
       "H2     1\n",
       "H3     1\n",
       "H4     1\n",
       "H5     1\n",
       "H6     1\n",
       "H7     1\n",
       "H8     1\n",
       "D1     1\n",
       "D2     1\n",
       "ED1    1\n",
       "ED2    1\n",
       "ED3    1\n",
       "Name: count, dtype: int64"
      ]
     },
     "execution_count": 51,
     "metadata": {},
     "output_type": "execute_result"
    }
   ],
   "source": [
    "unique_tables['TableReference'].value_counts()"
   ]
  },
  {
   "cell_type": "markdown",
   "metadata": {},
   "source": [
    "# I. Table H1: Number of injury hospitalisations by cause, 5 year age group and sex, Australia, 2022–23    "
   ]
  },
  {
   "cell_type": "code",
   "execution_count": 246,
   "metadata": {},
   "outputs": [],
   "source": [
    "h1=df[df['TableReference']=='H1']"
   ]
  },
  {
   "cell_type": "code",
   "execution_count": 247,
   "metadata": {},
   "outputs": [],
   "source": [
    "# Rename columns in df\n",
    "h1 = h1.rename(columns={\n",
    "    'ReportingCategory4': 'Age Group',\n",
    "})"
   ]
  },
  {
   "cell_type": "code",
   "execution_count": 249,
   "metadata": {},
   "outputs": [],
   "source": [
    "h1=h1[h1['Age Group']!='All ages']\n",
    "h1=h1[h1['Injury Type']!='All external causes']\n",
    "h1=h1[h1['ReportingCategory1']!='Persons']"
   ]
  },
  {
   "cell_type": "code",
   "execution_count": 253,
   "metadata": {},
   "outputs": [
    {
     "data": {
      "text/plain": [
       "MeasureName\n",
       "Hospitalisations    600\n",
       "Name: count, dtype: int64"
      ]
     },
     "execution_count": 253,
     "metadata": {},
     "output_type": "execute_result"
    }
   ],
   "source": [
    "h1['MeasureName'].value_counts()"
   ]
  },
  {
   "cell_type": "code",
   "execution_count": 250,
   "metadata": {},
   "outputs": [
    {
     "data": {
      "text/html": [
       "<div>\n",
       "<style scoped>\n",
       "    .dataframe tbody tr th:only-of-type {\n",
       "        vertical-align: middle;\n",
       "    }\n",
       "\n",
       "    .dataframe tbody tr th {\n",
       "        vertical-align: top;\n",
       "    }\n",
       "\n",
       "    .dataframe thead th {\n",
       "        text-align: right;\n",
       "    }\n",
       "</style>\n",
       "<table border=\"1\" class=\"dataframe\">\n",
       "  <thead>\n",
       "    <tr style=\"text-align: right;\">\n",
       "      <th></th>\n",
       "      <th>TableReference</th>\n",
       "      <th>TableTitle</th>\n",
       "      <th>PeriodFrom</th>\n",
       "      <th>PeriodTo</th>\n",
       "      <th>ReportingCategory1</th>\n",
       "      <th>Injury Type</th>\n",
       "      <th>ReportingCategory3</th>\n",
       "      <th>Age Group</th>\n",
       "      <th>MeasureName</th>\n",
       "      <th>Footnotes</th>\n",
       "      <th>MeasureValueLabel</th>\n",
       "      <th>Number of Cases</th>\n",
       "    </tr>\n",
       "  </thead>\n",
       "  <tbody>\n",
       "    <tr>\n",
       "      <th>0</th>\n",
       "      <td>H1</td>\n",
       "      <td>Table H1: Number of injury hospitalisations by...</td>\n",
       "      <td>2022-2023</td>\n",
       "      <td>2022-2023</td>\n",
       "      <td>Males</td>\n",
       "      <td>Accidental poisoning</td>\n",
       "      <td>NaN</td>\n",
       "      <td>0–4</td>\n",
       "      <td>Hospitalisations</td>\n",
       "      <td>Source: AIHW National Hospital Morbidity Datab...</td>\n",
       "      <td>622</td>\n",
       "      <td>622.0</td>\n",
       "    </tr>\n",
       "    <tr>\n",
       "      <th>1</th>\n",
       "      <td>H1</td>\n",
       "      <td>Table H1: Number of injury hospitalisations by...</td>\n",
       "      <td>2022-2023</td>\n",
       "      <td>2022-2023</td>\n",
       "      <td>Males</td>\n",
       "      <td>Accidental poisoning</td>\n",
       "      <td>NaN</td>\n",
       "      <td>5–9</td>\n",
       "      <td>Hospitalisations</td>\n",
       "      <td>Source: AIHW National Hospital Morbidity Datab...</td>\n",
       "      <td>150</td>\n",
       "      <td>150.0</td>\n",
       "    </tr>\n",
       "    <tr>\n",
       "      <th>2</th>\n",
       "      <td>H1</td>\n",
       "      <td>Table H1: Number of injury hospitalisations by...</td>\n",
       "      <td>2022-2023</td>\n",
       "      <td>2022-2023</td>\n",
       "      <td>Males</td>\n",
       "      <td>Accidental poisoning</td>\n",
       "      <td>NaN</td>\n",
       "      <td>10–14</td>\n",
       "      <td>Hospitalisations</td>\n",
       "      <td>Source: AIHW National Hospital Morbidity Datab...</td>\n",
       "      <td>98</td>\n",
       "      <td>98.0</td>\n",
       "    </tr>\n",
       "    <tr>\n",
       "      <th>3</th>\n",
       "      <td>H1</td>\n",
       "      <td>Table H1: Number of injury hospitalisations by...</td>\n",
       "      <td>2022-2023</td>\n",
       "      <td>2022-2023</td>\n",
       "      <td>Males</td>\n",
       "      <td>Accidental poisoning</td>\n",
       "      <td>NaN</td>\n",
       "      <td>15–19</td>\n",
       "      <td>Hospitalisations</td>\n",
       "      <td>Source: AIHW National Hospital Morbidity Datab...</td>\n",
       "      <td>185</td>\n",
       "      <td>185.0</td>\n",
       "    </tr>\n",
       "    <tr>\n",
       "      <th>4</th>\n",
       "      <td>H1</td>\n",
       "      <td>Table H1: Number of injury hospitalisations by...</td>\n",
       "      <td>2022-2023</td>\n",
       "      <td>2022-2023</td>\n",
       "      <td>Males</td>\n",
       "      <td>Accidental poisoning</td>\n",
       "      <td>NaN</td>\n",
       "      <td>20–24</td>\n",
       "      <td>Hospitalisations</td>\n",
       "      <td>Source: AIHW National Hospital Morbidity Datab...</td>\n",
       "      <td>302</td>\n",
       "      <td>302.0</td>\n",
       "    </tr>\n",
       "    <tr>\n",
       "      <th>...</th>\n",
       "      <td>...</td>\n",
       "      <td>...</td>\n",
       "      <td>...</td>\n",
       "      <td>...</td>\n",
       "      <td>...</td>\n",
       "      <td>...</td>\n",
       "      <td>...</td>\n",
       "      <td>...</td>\n",
       "      <td>...</td>\n",
       "      <td>...</td>\n",
       "      <td>...</td>\n",
       "      <td>...</td>\n",
       "    </tr>\n",
       "    <tr>\n",
       "      <th>645</th>\n",
       "      <td>H1</td>\n",
       "      <td>Table H1: Number of injury hospitalisations by...</td>\n",
       "      <td>2022-2023</td>\n",
       "      <td>2022-2023</td>\n",
       "      <td>Females</td>\n",
       "      <td>Undetermined intent</td>\n",
       "      <td>NaN</td>\n",
       "      <td>75–79</td>\n",
       "      <td>Hospitalisations</td>\n",
       "      <td>Source: AIHW National Hospital Morbidity Datab...</td>\n",
       "      <td>29</td>\n",
       "      <td>29.0</td>\n",
       "    </tr>\n",
       "    <tr>\n",
       "      <th>646</th>\n",
       "      <td>H1</td>\n",
       "      <td>Table H1: Number of injury hospitalisations by...</td>\n",
       "      <td>2022-2023</td>\n",
       "      <td>2022-2023</td>\n",
       "      <td>Females</td>\n",
       "      <td>Undetermined intent</td>\n",
       "      <td>NaN</td>\n",
       "      <td>80–84</td>\n",
       "      <td>Hospitalisations</td>\n",
       "      <td>Source: AIHW National Hospital Morbidity Datab...</td>\n",
       "      <td>26</td>\n",
       "      <td>26.0</td>\n",
       "    </tr>\n",
       "    <tr>\n",
       "      <th>647</th>\n",
       "      <td>H1</td>\n",
       "      <td>Table H1: Number of injury hospitalisations by...</td>\n",
       "      <td>2022-2023</td>\n",
       "      <td>2022-2023</td>\n",
       "      <td>Females</td>\n",
       "      <td>Undetermined intent</td>\n",
       "      <td>NaN</td>\n",
       "      <td>85–89</td>\n",
       "      <td>Hospitalisations</td>\n",
       "      <td>Source: AIHW National Hospital Morbidity Datab...</td>\n",
       "      <td>24</td>\n",
       "      <td>24.0</td>\n",
       "    </tr>\n",
       "    <tr>\n",
       "      <th>648</th>\n",
       "      <td>H1</td>\n",
       "      <td>Table H1: Number of injury hospitalisations by...</td>\n",
       "      <td>2022-2023</td>\n",
       "      <td>2022-2023</td>\n",
       "      <td>Females</td>\n",
       "      <td>Undetermined intent</td>\n",
       "      <td>NaN</td>\n",
       "      <td>90–94</td>\n",
       "      <td>Hospitalisations</td>\n",
       "      <td>Source: AIHW National Hospital Morbidity Datab...</td>\n",
       "      <td>27</td>\n",
       "      <td>27.0</td>\n",
       "    </tr>\n",
       "    <tr>\n",
       "      <th>649</th>\n",
       "      <td>H1</td>\n",
       "      <td>Table H1: Number of injury hospitalisations by...</td>\n",
       "      <td>2022-2023</td>\n",
       "      <td>2022-2023</td>\n",
       "      <td>Females</td>\n",
       "      <td>Undetermined intent</td>\n",
       "      <td>NaN</td>\n",
       "      <td>95+</td>\n",
       "      <td>Hospitalisations</td>\n",
       "      <td>Source: AIHW National Hospital Morbidity Datab...</td>\n",
       "      <td>9</td>\n",
       "      <td>9.0</td>\n",
       "    </tr>\n",
       "  </tbody>\n",
       "</table>\n",
       "<p>600 rows × 12 columns</p>\n",
       "</div>"
      ],
      "text/plain": [
       "    TableReference                                         TableTitle  \\\n",
       "0               H1  Table H1: Number of injury hospitalisations by...   \n",
       "1               H1  Table H1: Number of injury hospitalisations by...   \n",
       "2               H1  Table H1: Number of injury hospitalisations by...   \n",
       "3               H1  Table H1: Number of injury hospitalisations by...   \n",
       "4               H1  Table H1: Number of injury hospitalisations by...   \n",
       "..             ...                                                ...   \n",
       "645             H1  Table H1: Number of injury hospitalisations by...   \n",
       "646             H1  Table H1: Number of injury hospitalisations by...   \n",
       "647             H1  Table H1: Number of injury hospitalisations by...   \n",
       "648             H1  Table H1: Number of injury hospitalisations by...   \n",
       "649             H1  Table H1: Number of injury hospitalisations by...   \n",
       "\n",
       "    PeriodFrom   PeriodTo ReportingCategory1           Injury Type  \\\n",
       "0    2022-2023  2022-2023              Males  Accidental poisoning   \n",
       "1    2022-2023  2022-2023              Males  Accidental poisoning   \n",
       "2    2022-2023  2022-2023              Males  Accidental poisoning   \n",
       "3    2022-2023  2022-2023              Males  Accidental poisoning   \n",
       "4    2022-2023  2022-2023              Males  Accidental poisoning   \n",
       "..         ...        ...                ...                   ...   \n",
       "645  2022-2023  2022-2023            Females   Undetermined intent   \n",
       "646  2022-2023  2022-2023            Females   Undetermined intent   \n",
       "647  2022-2023  2022-2023            Females   Undetermined intent   \n",
       "648  2022-2023  2022-2023            Females   Undetermined intent   \n",
       "649  2022-2023  2022-2023            Females   Undetermined intent   \n",
       "\n",
       "    ReportingCategory3 Age Group       MeasureName  \\\n",
       "0                  NaN       0–4  Hospitalisations   \n",
       "1                  NaN       5–9  Hospitalisations   \n",
       "2                  NaN     10–14  Hospitalisations   \n",
       "3                  NaN     15–19  Hospitalisations   \n",
       "4                  NaN     20–24  Hospitalisations   \n",
       "..                 ...       ...               ...   \n",
       "645                NaN     75–79  Hospitalisations   \n",
       "646                NaN     80–84  Hospitalisations   \n",
       "647                NaN     85–89  Hospitalisations   \n",
       "648                NaN     90–94  Hospitalisations   \n",
       "649                NaN       95+  Hospitalisations   \n",
       "\n",
       "                                             Footnotes MeasureValueLabel  \\\n",
       "0    Source: AIHW National Hospital Morbidity Datab...               622   \n",
       "1    Source: AIHW National Hospital Morbidity Datab...               150   \n",
       "2    Source: AIHW National Hospital Morbidity Datab...                98   \n",
       "3    Source: AIHW National Hospital Morbidity Datab...               185   \n",
       "4    Source: AIHW National Hospital Morbidity Datab...               302   \n",
       "..                                                 ...               ...   \n",
       "645  Source: AIHW National Hospital Morbidity Datab...                29   \n",
       "646  Source: AIHW National Hospital Morbidity Datab...                26   \n",
       "647  Source: AIHW National Hospital Morbidity Datab...                24   \n",
       "648  Source: AIHW National Hospital Morbidity Datab...                27   \n",
       "649  Source: AIHW National Hospital Morbidity Datab...                 9   \n",
       "\n",
       "     Number of Cases  \n",
       "0              622.0  \n",
       "1              150.0  \n",
       "2               98.0  \n",
       "3              185.0  \n",
       "4              302.0  \n",
       "..               ...  \n",
       "645             29.0  \n",
       "646             26.0  \n",
       "647             24.0  \n",
       "648             27.0  \n",
       "649              9.0  \n",
       "\n",
       "[600 rows x 12 columns]"
      ]
     },
     "execution_count": 250,
     "metadata": {},
     "output_type": "execute_result"
    }
   ],
   "source": [
    "h1"
   ]
  },
  {
   "cell_type": "code",
   "execution_count": 251,
   "metadata": {},
   "outputs": [
    {
     "data": {
      "text/plain": [
       "'Table H1: Number of injury hospitalisations by cause, 5 year age group and sex, Australia, 2022–23'"
      ]
     },
     "execution_count": 251,
     "metadata": {},
     "output_type": "execute_result"
    }
   ],
   "source": [
    "h1['TableTitle'][0]"
   ]
  },
  {
   "cell_type": "code",
   "execution_count": 93,
   "metadata": {},
   "outputs": [
    {
     "data": {
      "text/plain": [
       "'Table H1: Number of injury hospitalisations by cause, 5 year age group and sex, Australia, 2022–23'"
      ]
     },
     "execution_count": 93,
     "metadata": {},
     "output_type": "execute_result"
    }
   ],
   "source": [
    "h1['TableTitle'][0]"
   ]
  },
  {
   "cell_type": "code",
   "execution_count": 254,
   "metadata": {},
   "outputs": [
    {
     "name": "stdout",
     "output_type": "stream",
     "text": [
      "<class 'pandas.core.frame.DataFrame'>\n",
      "Index: 600 entries, 0 to 649\n",
      "Data columns (total 12 columns):\n",
      " #   Column              Non-Null Count  Dtype  \n",
      "---  ------              --------------  -----  \n",
      " 0   TableReference      600 non-null    object \n",
      " 1   TableTitle          600 non-null    object \n",
      " 2   PeriodFrom          600 non-null    object \n",
      " 3   PeriodTo            600 non-null    object \n",
      " 4   ReportingCategory1  600 non-null    object \n",
      " 5   Injury Type         600 non-null    object \n",
      " 6   ReportingCategory3  0 non-null      object \n",
      " 7   Age Group           600 non-null    object \n",
      " 8   MeasureName         600 non-null    object \n",
      " 9   Footnotes           600 non-null    object \n",
      " 10  MeasureValueLabel   600 non-null    object \n",
      " 11  Number of Cases     533 non-null    float64\n",
      "dtypes: float64(1), object(11)\n",
      "memory usage: 77.1+ KB\n"
     ]
    }
   ],
   "source": [
    "h1.info()"
   ]
  },
  {
   "cell_type": "code",
   "execution_count": 255,
   "metadata": {},
   "outputs": [
    {
     "data": {
      "text/html": [
       "<div>\n",
       "<style scoped>\n",
       "    .dataframe tbody tr th:only-of-type {\n",
       "        vertical-align: middle;\n",
       "    }\n",
       "\n",
       "    .dataframe tbody tr th {\n",
       "        vertical-align: top;\n",
       "    }\n",
       "\n",
       "    .dataframe thead th {\n",
       "        text-align: right;\n",
       "    }\n",
       "</style>\n",
       "<table border=\"1\" class=\"dataframe\">\n",
       "  <thead>\n",
       "    <tr style=\"text-align: right;\">\n",
       "      <th></th>\n",
       "      <th>TableReference</th>\n",
       "      <th>TableTitle</th>\n",
       "      <th>PeriodFrom</th>\n",
       "      <th>PeriodTo</th>\n",
       "      <th>ReportingCategory1</th>\n",
       "      <th>Injury Type</th>\n",
       "      <th>ReportingCategory3</th>\n",
       "      <th>Age Group</th>\n",
       "      <th>MeasureName</th>\n",
       "      <th>Footnotes</th>\n",
       "      <th>MeasureValueLabel</th>\n",
       "      <th>Number of Cases</th>\n",
       "    </tr>\n",
       "  </thead>\n",
       "  <tbody>\n",
       "    <tr>\n",
       "      <th>108</th>\n",
       "      <td>H1</td>\n",
       "      <td>Table H1: Number of injury hospitalisations by...</td>\n",
       "      <td>2022-2023</td>\n",
       "      <td>2022-2023</td>\n",
       "      <td>Males</td>\n",
       "      <td>Drowning and submersion</td>\n",
       "      <td>NaN</td>\n",
       "      <td>15–19</td>\n",
       "      <td>Hospitalisations</td>\n",
       "      <td>Source: AIHW National Hospital Morbidity Datab...</td>\n",
       "      <td>n.p.</td>\n",
       "      <td>NaN</td>\n",
       "    </tr>\n",
       "    <tr>\n",
       "      <th>109</th>\n",
       "      <td>H1</td>\n",
       "      <td>Table H1: Number of injury hospitalisations by...</td>\n",
       "      <td>2022-2023</td>\n",
       "      <td>2022-2023</td>\n",
       "      <td>Males</td>\n",
       "      <td>Drowning and submersion</td>\n",
       "      <td>NaN</td>\n",
       "      <td>20–24</td>\n",
       "      <td>Hospitalisations</td>\n",
       "      <td>Source: AIHW National Hospital Morbidity Datab...</td>\n",
       "      <td>n.p.</td>\n",
       "      <td>NaN</td>\n",
       "    </tr>\n",
       "    <tr>\n",
       "      <th>110</th>\n",
       "      <td>H1</td>\n",
       "      <td>Table H1: Number of injury hospitalisations by...</td>\n",
       "      <td>2022-2023</td>\n",
       "      <td>2022-2023</td>\n",
       "      <td>Males</td>\n",
       "      <td>Drowning and submersion</td>\n",
       "      <td>NaN</td>\n",
       "      <td>25–29</td>\n",
       "      <td>Hospitalisations</td>\n",
       "      <td>Source: AIHW National Hospital Morbidity Datab...</td>\n",
       "      <td>n.p.</td>\n",
       "      <td>NaN</td>\n",
       "    </tr>\n",
       "    <tr>\n",
       "      <th>111</th>\n",
       "      <td>H1</td>\n",
       "      <td>Table H1: Number of injury hospitalisations by...</td>\n",
       "      <td>2022-2023</td>\n",
       "      <td>2022-2023</td>\n",
       "      <td>Males</td>\n",
       "      <td>Drowning and submersion</td>\n",
       "      <td>NaN</td>\n",
       "      <td>30–34</td>\n",
       "      <td>Hospitalisations</td>\n",
       "      <td>Source: AIHW National Hospital Morbidity Datab...</td>\n",
       "      <td>n.p.</td>\n",
       "      <td>NaN</td>\n",
       "    </tr>\n",
       "    <tr>\n",
       "      <th>112</th>\n",
       "      <td>H1</td>\n",
       "      <td>Table H1: Number of injury hospitalisations by...</td>\n",
       "      <td>2022-2023</td>\n",
       "      <td>2022-2023</td>\n",
       "      <td>Males</td>\n",
       "      <td>Drowning and submersion</td>\n",
       "      <td>NaN</td>\n",
       "      <td>35–39</td>\n",
       "      <td>Hospitalisations</td>\n",
       "      <td>Source: AIHW National Hospital Morbidity Datab...</td>\n",
       "      <td>n.p.</td>\n",
       "      <td>NaN</td>\n",
       "    </tr>\n",
       "    <tr>\n",
       "      <th>...</th>\n",
       "      <td>...</td>\n",
       "      <td>...</td>\n",
       "      <td>...</td>\n",
       "      <td>...</td>\n",
       "      <td>...</td>\n",
       "      <td>...</td>\n",
       "      <td>...</td>\n",
       "      <td>...</td>\n",
       "      <td>...</td>\n",
       "      <td>...</td>\n",
       "      <td>...</td>\n",
       "      <td>...</td>\n",
       "    </tr>\n",
       "    <tr>\n",
       "      <th>515</th>\n",
       "      <td>H1</td>\n",
       "      <td>Table H1: Number of injury hospitalisations by...</td>\n",
       "      <td>2022-2023</td>\n",
       "      <td>2022-2023</td>\n",
       "      <td>Females</td>\n",
       "      <td>Forces of nature</td>\n",
       "      <td>NaN</td>\n",
       "      <td>55–59</td>\n",
       "      <td>Hospitalisations</td>\n",
       "      <td>Source: AIHW National Hospital Morbidity Datab...</td>\n",
       "      <td>n.p.</td>\n",
       "      <td>NaN</td>\n",
       "    </tr>\n",
       "    <tr>\n",
       "      <th>522</th>\n",
       "      <td>H1</td>\n",
       "      <td>Table H1: Number of injury hospitalisations by...</td>\n",
       "      <td>2022-2023</td>\n",
       "      <td>2022-2023</td>\n",
       "      <td>Females</td>\n",
       "      <td>Forces of nature</td>\n",
       "      <td>NaN</td>\n",
       "      <td>90–94</td>\n",
       "      <td>Hospitalisations</td>\n",
       "      <td>Source: AIHW National Hospital Morbidity Datab...</td>\n",
       "      <td>n.p.</td>\n",
       "      <td>NaN</td>\n",
       "    </tr>\n",
       "    <tr>\n",
       "      <th>523</th>\n",
       "      <td>H1</td>\n",
       "      <td>Table H1: Number of injury hospitalisations by...</td>\n",
       "      <td>2022-2023</td>\n",
       "      <td>2022-2023</td>\n",
       "      <td>Females</td>\n",
       "      <td>Forces of nature</td>\n",
       "      <td>NaN</td>\n",
       "      <td>95+</td>\n",
       "      <td>Hospitalisations</td>\n",
       "      <td>Source: AIHW National Hospital Morbidity Datab...</td>\n",
       "      <td>n.p.</td>\n",
       "      <td>NaN</td>\n",
       "    </tr>\n",
       "    <tr>\n",
       "      <th>525</th>\n",
       "      <td>H1</td>\n",
       "      <td>Table H1: Number of injury hospitalisations by...</td>\n",
       "      <td>2022-2023</td>\n",
       "      <td>2022-2023</td>\n",
       "      <td>Females</td>\n",
       "      <td>Intentional self-harm</td>\n",
       "      <td>NaN</td>\n",
       "      <td>0–4</td>\n",
       "      <td>Hospitalisations</td>\n",
       "      <td>Source: AIHW National Hospital Morbidity Datab...</td>\n",
       "      <td>. .</td>\n",
       "      <td>NaN</td>\n",
       "    </tr>\n",
       "    <tr>\n",
       "      <th>526</th>\n",
       "      <td>H1</td>\n",
       "      <td>Table H1: Number of injury hospitalisations by...</td>\n",
       "      <td>2022-2023</td>\n",
       "      <td>2022-2023</td>\n",
       "      <td>Females</td>\n",
       "      <td>Intentional self-harm</td>\n",
       "      <td>NaN</td>\n",
       "      <td>5–9</td>\n",
       "      <td>Hospitalisations</td>\n",
       "      <td>Source: AIHW National Hospital Morbidity Datab...</td>\n",
       "      <td>n.p.</td>\n",
       "      <td>NaN</td>\n",
       "    </tr>\n",
       "  </tbody>\n",
       "</table>\n",
       "<p>67 rows × 12 columns</p>\n",
       "</div>"
      ],
      "text/plain": [
       "    TableReference                                         TableTitle  \\\n",
       "108             H1  Table H1: Number of injury hospitalisations by...   \n",
       "109             H1  Table H1: Number of injury hospitalisations by...   \n",
       "110             H1  Table H1: Number of injury hospitalisations by...   \n",
       "111             H1  Table H1: Number of injury hospitalisations by...   \n",
       "112             H1  Table H1: Number of injury hospitalisations by...   \n",
       "..             ...                                                ...   \n",
       "515             H1  Table H1: Number of injury hospitalisations by...   \n",
       "522             H1  Table H1: Number of injury hospitalisations by...   \n",
       "523             H1  Table H1: Number of injury hospitalisations by...   \n",
       "525             H1  Table H1: Number of injury hospitalisations by...   \n",
       "526             H1  Table H1: Number of injury hospitalisations by...   \n",
       "\n",
       "    PeriodFrom   PeriodTo ReportingCategory1              Injury Type  \\\n",
       "108  2022-2023  2022-2023              Males  Drowning and submersion   \n",
       "109  2022-2023  2022-2023              Males  Drowning and submersion   \n",
       "110  2022-2023  2022-2023              Males  Drowning and submersion   \n",
       "111  2022-2023  2022-2023              Males  Drowning and submersion   \n",
       "112  2022-2023  2022-2023              Males  Drowning and submersion   \n",
       "..         ...        ...                ...                      ...   \n",
       "515  2022-2023  2022-2023            Females         Forces of nature   \n",
       "522  2022-2023  2022-2023            Females         Forces of nature   \n",
       "523  2022-2023  2022-2023            Females         Forces of nature   \n",
       "525  2022-2023  2022-2023            Females    Intentional self-harm   \n",
       "526  2022-2023  2022-2023            Females    Intentional self-harm   \n",
       "\n",
       "    ReportingCategory3 Age Group       MeasureName  \\\n",
       "108                NaN     15–19  Hospitalisations   \n",
       "109                NaN     20–24  Hospitalisations   \n",
       "110                NaN     25–29  Hospitalisations   \n",
       "111                NaN     30–34  Hospitalisations   \n",
       "112                NaN     35–39  Hospitalisations   \n",
       "..                 ...       ...               ...   \n",
       "515                NaN     55–59  Hospitalisations   \n",
       "522                NaN     90–94  Hospitalisations   \n",
       "523                NaN       95+  Hospitalisations   \n",
       "525                NaN       0–4  Hospitalisations   \n",
       "526                NaN       5–9  Hospitalisations   \n",
       "\n",
       "                                             Footnotes MeasureValueLabel  \\\n",
       "108  Source: AIHW National Hospital Morbidity Datab...              n.p.   \n",
       "109  Source: AIHW National Hospital Morbidity Datab...              n.p.   \n",
       "110  Source: AIHW National Hospital Morbidity Datab...              n.p.   \n",
       "111  Source: AIHW National Hospital Morbidity Datab...              n.p.   \n",
       "112  Source: AIHW National Hospital Morbidity Datab...              n.p.   \n",
       "..                                                 ...               ...   \n",
       "515  Source: AIHW National Hospital Morbidity Datab...              n.p.   \n",
       "522  Source: AIHW National Hospital Morbidity Datab...              n.p.   \n",
       "523  Source: AIHW National Hospital Morbidity Datab...              n.p.   \n",
       "525  Source: AIHW National Hospital Morbidity Datab...               . .   \n",
       "526  Source: AIHW National Hospital Morbidity Datab...              n.p.   \n",
       "\n",
       "     Number of Cases  \n",
       "108              NaN  \n",
       "109              NaN  \n",
       "110              NaN  \n",
       "111              NaN  \n",
       "112              NaN  \n",
       "..               ...  \n",
       "515              NaN  \n",
       "522              NaN  \n",
       "523              NaN  \n",
       "525              NaN  \n",
       "526              NaN  \n",
       "\n",
       "[67 rows x 12 columns]"
      ]
     },
     "execution_count": 255,
     "metadata": {},
     "output_type": "execute_result"
    }
   ],
   "source": [
    "# Filter rows where 'Number_of_Cases' is missing\n",
    "missing_cases = h1[h1['Number of Cases'].isna()]\n",
    "\n",
    "# Display the filtered rows with missing values\n",
    "missing_cases\n"
   ]
  },
  {
   "cell_type": "code",
   "execution_count": 256,
   "metadata": {},
   "outputs": [
    {
     "data": {
      "text/plain": [
       "Injury Type\n",
       "Drowning and submersion         27\n",
       "Electricity and air pressure    18\n",
       "Forces of nature                14\n",
       "Intentional self-harm            4\n",
       "Thermal causes                   2\n",
       "Undetermined intent              2\n",
       "Name: count, dtype: int64"
      ]
     },
     "execution_count": 256,
     "metadata": {},
     "output_type": "execute_result"
    }
   ],
   "source": [
    "missing_cases['Injury Type'].value_counts()"
   ]
  },
  {
   "cell_type": "code",
   "execution_count": 257,
   "metadata": {},
   "outputs": [
    {
     "data": {
      "text/plain": [
       "386"
      ]
     },
     "execution_count": 257,
     "metadata": {},
     "output_type": "execute_result"
    }
   ],
   "source": [
    "h1['Number of Cases'].nunique()"
   ]
  },
  {
   "cell_type": "code",
   "execution_count": 258,
   "metadata": {},
   "outputs": [
    {
     "name": "stdout",
     "output_type": "stream",
     "text": [
      "Total Number of Injuries: 548,044.0\n"
     ]
    }
   ],
   "source": [
    "sum_measure_value = h1['Number of Cases'].sum()\n",
    "formatted_sum = \"{:,}\".format(sum_measure_value)\n",
    "print(f\"Total Number of Injuries: {formatted_sum}\")"
   ]
  },
  {
   "cell_type": "code",
   "execution_count": 259,
   "metadata": {},
   "outputs": [
    {
     "data": {
      "text/plain": [
       "Index(['TableReference', 'TableTitle', 'PeriodFrom', 'PeriodTo',\n",
       "       'ReportingCategory1', 'Injury Type', 'ReportingCategory3', 'Age Group',\n",
       "       'MeasureName', 'Footnotes', 'MeasureValueLabel', 'Number of Cases'],\n",
       "      dtype='object')"
      ]
     },
     "execution_count": 259,
     "metadata": {},
     "output_type": "execute_result"
    }
   ],
   "source": [
    "h1.columns"
   ]
  },
  {
   "cell_type": "code",
   "execution_count": 260,
   "metadata": {},
   "outputs": [
    {
     "data": {
      "text/html": [
       "<div>\n",
       "<style scoped>\n",
       "    .dataframe tbody tr th:only-of-type {\n",
       "        vertical-align: middle;\n",
       "    }\n",
       "\n",
       "    .dataframe tbody tr th {\n",
       "        vertical-align: top;\n",
       "    }\n",
       "\n",
       "    .dataframe thead th {\n",
       "        text-align: right;\n",
       "    }\n",
       "</style>\n",
       "<table border=\"1\" class=\"dataframe\">\n",
       "  <thead>\n",
       "    <tr style=\"text-align: right;\">\n",
       "      <th></th>\n",
       "      <th>Age Group</th>\n",
       "      <th>MeasureName</th>\n",
       "      <th>Injury Type</th>\n",
       "      <th>Number of Cases</th>\n",
       "    </tr>\n",
       "  </thead>\n",
       "  <tbody>\n",
       "    <tr>\n",
       "      <th>0</th>\n",
       "      <td>0–4</td>\n",
       "      <td>Hospitalisations</td>\n",
       "      <td>Accidental poisoning</td>\n",
       "      <td>622.0</td>\n",
       "    </tr>\n",
       "    <tr>\n",
       "      <th>1</th>\n",
       "      <td>5–9</td>\n",
       "      <td>Hospitalisations</td>\n",
       "      <td>Accidental poisoning</td>\n",
       "      <td>150.0</td>\n",
       "    </tr>\n",
       "    <tr>\n",
       "      <th>2</th>\n",
       "      <td>10–14</td>\n",
       "      <td>Hospitalisations</td>\n",
       "      <td>Accidental poisoning</td>\n",
       "      <td>98.0</td>\n",
       "    </tr>\n",
       "    <tr>\n",
       "      <th>3</th>\n",
       "      <td>15–19</td>\n",
       "      <td>Hospitalisations</td>\n",
       "      <td>Accidental poisoning</td>\n",
       "      <td>185.0</td>\n",
       "    </tr>\n",
       "    <tr>\n",
       "      <th>4</th>\n",
       "      <td>20–24</td>\n",
       "      <td>Hospitalisations</td>\n",
       "      <td>Accidental poisoning</td>\n",
       "      <td>302.0</td>\n",
       "    </tr>\n",
       "    <tr>\n",
       "      <th>...</th>\n",
       "      <td>...</td>\n",
       "      <td>...</td>\n",
       "      <td>...</td>\n",
       "      <td>...</td>\n",
       "    </tr>\n",
       "    <tr>\n",
       "      <th>645</th>\n",
       "      <td>75–79</td>\n",
       "      <td>Hospitalisations</td>\n",
       "      <td>Undetermined intent</td>\n",
       "      <td>29.0</td>\n",
       "    </tr>\n",
       "    <tr>\n",
       "      <th>646</th>\n",
       "      <td>80–84</td>\n",
       "      <td>Hospitalisations</td>\n",
       "      <td>Undetermined intent</td>\n",
       "      <td>26.0</td>\n",
       "    </tr>\n",
       "    <tr>\n",
       "      <th>647</th>\n",
       "      <td>85–89</td>\n",
       "      <td>Hospitalisations</td>\n",
       "      <td>Undetermined intent</td>\n",
       "      <td>24.0</td>\n",
       "    </tr>\n",
       "    <tr>\n",
       "      <th>648</th>\n",
       "      <td>90–94</td>\n",
       "      <td>Hospitalisations</td>\n",
       "      <td>Undetermined intent</td>\n",
       "      <td>27.0</td>\n",
       "    </tr>\n",
       "    <tr>\n",
       "      <th>649</th>\n",
       "      <td>95+</td>\n",
       "      <td>Hospitalisations</td>\n",
       "      <td>Undetermined intent</td>\n",
       "      <td>9.0</td>\n",
       "    </tr>\n",
       "  </tbody>\n",
       "</table>\n",
       "<p>600 rows × 4 columns</p>\n",
       "</div>"
      ],
      "text/plain": [
       "    Age Group       MeasureName           Injury Type  Number of Cases\n",
       "0         0–4  Hospitalisations  Accidental poisoning            622.0\n",
       "1         5–9  Hospitalisations  Accidental poisoning            150.0\n",
       "2       10–14  Hospitalisations  Accidental poisoning             98.0\n",
       "3       15–19  Hospitalisations  Accidental poisoning            185.0\n",
       "4       20–24  Hospitalisations  Accidental poisoning            302.0\n",
       "..        ...               ...                   ...              ...\n",
       "645     75–79  Hospitalisations   Undetermined intent             29.0\n",
       "646     80–84  Hospitalisations   Undetermined intent             26.0\n",
       "647     85–89  Hospitalisations   Undetermined intent             24.0\n",
       "648     90–94  Hospitalisations   Undetermined intent             27.0\n",
       "649       95+  Hospitalisations   Undetermined intent              9.0\n",
       "\n",
       "[600 rows x 4 columns]"
      ]
     },
     "execution_count": 260,
     "metadata": {},
     "output_type": "execute_result"
    }
   ],
   "source": [
    "h1[['Age Group','MeasureName','Injury Type','Number of Cases']]"
   ]
  },
  {
   "cell_type": "code",
   "execution_count": 261,
   "metadata": {},
   "outputs": [
    {
     "data": {
      "application/vnd.plotly.v1+json": {
       "config": {
        "plotlyServerURL": "https://plot.ly"
       },
       "data": [
        {
         "alignmentgroup": "True",
         "hovertemplate": "Injury Type=%{x}<br>Number of Cases=%{y}<extra></extra>",
         "legendgroup": "",
         "marker": {
          "color": "#636efa",
          "pattern": {
           "shape": ""
          }
         },
         "name": "",
         "offsetgroup": "",
         "orientation": "v",
         "showlegend": false,
         "textposition": "auto",
         "type": "bar",
         "x": [
          "Accidental poisoning",
          "Assault",
          "Choking and suffocation",
          "Contact with living things",
          "Contact with objects",
          "Drowning and submersion",
          "Electricity and air pressure",
          "Falls",
          "Forces of nature",
          "Intentional self-harm",
          "Other unintentional causes",
          "Overexertion",
          "Thermal causes",
          "Transport",
          "Undetermined intent"
         ],
         "xaxis": "x",
         "y": [
          8917,
          20480,
          1430,
          30373,
          78718,
          326,
          649,
          238029,
          569,
          24327,
          60659,
          13391,
          5304,
          61166,
          3706
         ],
         "yaxis": "y"
        }
       ],
       "layout": {
        "barmode": "relative",
        "legend": {
         "tracegroupgap": 0
        },
        "template": {
         "data": {
          "bar": [
           {
            "error_x": {
             "color": "#2a3f5f"
            },
            "error_y": {
             "color": "#2a3f5f"
            },
            "marker": {
             "line": {
              "color": "#E5ECF6",
              "width": 0.5
             },
             "pattern": {
              "fillmode": "overlay",
              "size": 10,
              "solidity": 0.2
             }
            },
            "type": "bar"
           }
          ],
          "barpolar": [
           {
            "marker": {
             "line": {
              "color": "#E5ECF6",
              "width": 0.5
             },
             "pattern": {
              "fillmode": "overlay",
              "size": 10,
              "solidity": 0.2
             }
            },
            "type": "barpolar"
           }
          ],
          "carpet": [
           {
            "aaxis": {
             "endlinecolor": "#2a3f5f",
             "gridcolor": "white",
             "linecolor": "white",
             "minorgridcolor": "white",
             "startlinecolor": "#2a3f5f"
            },
            "baxis": {
             "endlinecolor": "#2a3f5f",
             "gridcolor": "white",
             "linecolor": "white",
             "minorgridcolor": "white",
             "startlinecolor": "#2a3f5f"
            },
            "type": "carpet"
           }
          ],
          "choropleth": [
           {
            "colorbar": {
             "outlinewidth": 0,
             "ticks": ""
            },
            "type": "choropleth"
           }
          ],
          "contour": [
           {
            "colorbar": {
             "outlinewidth": 0,
             "ticks": ""
            },
            "colorscale": [
             [
              0,
              "#0d0887"
             ],
             [
              0.1111111111111111,
              "#46039f"
             ],
             [
              0.2222222222222222,
              "#7201a8"
             ],
             [
              0.3333333333333333,
              "#9c179e"
             ],
             [
              0.4444444444444444,
              "#bd3786"
             ],
             [
              0.5555555555555556,
              "#d8576b"
             ],
             [
              0.6666666666666666,
              "#ed7953"
             ],
             [
              0.7777777777777778,
              "#fb9f3a"
             ],
             [
              0.8888888888888888,
              "#fdca26"
             ],
             [
              1,
              "#f0f921"
             ]
            ],
            "type": "contour"
           }
          ],
          "contourcarpet": [
           {
            "colorbar": {
             "outlinewidth": 0,
             "ticks": ""
            },
            "type": "contourcarpet"
           }
          ],
          "heatmap": [
           {
            "colorbar": {
             "outlinewidth": 0,
             "ticks": ""
            },
            "colorscale": [
             [
              0,
              "#0d0887"
             ],
             [
              0.1111111111111111,
              "#46039f"
             ],
             [
              0.2222222222222222,
              "#7201a8"
             ],
             [
              0.3333333333333333,
              "#9c179e"
             ],
             [
              0.4444444444444444,
              "#bd3786"
             ],
             [
              0.5555555555555556,
              "#d8576b"
             ],
             [
              0.6666666666666666,
              "#ed7953"
             ],
             [
              0.7777777777777778,
              "#fb9f3a"
             ],
             [
              0.8888888888888888,
              "#fdca26"
             ],
             [
              1,
              "#f0f921"
             ]
            ],
            "type": "heatmap"
           }
          ],
          "heatmapgl": [
           {
            "colorbar": {
             "outlinewidth": 0,
             "ticks": ""
            },
            "colorscale": [
             [
              0,
              "#0d0887"
             ],
             [
              0.1111111111111111,
              "#46039f"
             ],
             [
              0.2222222222222222,
              "#7201a8"
             ],
             [
              0.3333333333333333,
              "#9c179e"
             ],
             [
              0.4444444444444444,
              "#bd3786"
             ],
             [
              0.5555555555555556,
              "#d8576b"
             ],
             [
              0.6666666666666666,
              "#ed7953"
             ],
             [
              0.7777777777777778,
              "#fb9f3a"
             ],
             [
              0.8888888888888888,
              "#fdca26"
             ],
             [
              1,
              "#f0f921"
             ]
            ],
            "type": "heatmapgl"
           }
          ],
          "histogram": [
           {
            "marker": {
             "pattern": {
              "fillmode": "overlay",
              "size": 10,
              "solidity": 0.2
             }
            },
            "type": "histogram"
           }
          ],
          "histogram2d": [
           {
            "colorbar": {
             "outlinewidth": 0,
             "ticks": ""
            },
            "colorscale": [
             [
              0,
              "#0d0887"
             ],
             [
              0.1111111111111111,
              "#46039f"
             ],
             [
              0.2222222222222222,
              "#7201a8"
             ],
             [
              0.3333333333333333,
              "#9c179e"
             ],
             [
              0.4444444444444444,
              "#bd3786"
             ],
             [
              0.5555555555555556,
              "#d8576b"
             ],
             [
              0.6666666666666666,
              "#ed7953"
             ],
             [
              0.7777777777777778,
              "#fb9f3a"
             ],
             [
              0.8888888888888888,
              "#fdca26"
             ],
             [
              1,
              "#f0f921"
             ]
            ],
            "type": "histogram2d"
           }
          ],
          "histogram2dcontour": [
           {
            "colorbar": {
             "outlinewidth": 0,
             "ticks": ""
            },
            "colorscale": [
             [
              0,
              "#0d0887"
             ],
             [
              0.1111111111111111,
              "#46039f"
             ],
             [
              0.2222222222222222,
              "#7201a8"
             ],
             [
              0.3333333333333333,
              "#9c179e"
             ],
             [
              0.4444444444444444,
              "#bd3786"
             ],
             [
              0.5555555555555556,
              "#d8576b"
             ],
             [
              0.6666666666666666,
              "#ed7953"
             ],
             [
              0.7777777777777778,
              "#fb9f3a"
             ],
             [
              0.8888888888888888,
              "#fdca26"
             ],
             [
              1,
              "#f0f921"
             ]
            ],
            "type": "histogram2dcontour"
           }
          ],
          "mesh3d": [
           {
            "colorbar": {
             "outlinewidth": 0,
             "ticks": ""
            },
            "type": "mesh3d"
           }
          ],
          "parcoords": [
           {
            "line": {
             "colorbar": {
              "outlinewidth": 0,
              "ticks": ""
             }
            },
            "type": "parcoords"
           }
          ],
          "pie": [
           {
            "automargin": true,
            "type": "pie"
           }
          ],
          "scatter": [
           {
            "fillpattern": {
             "fillmode": "overlay",
             "size": 10,
             "solidity": 0.2
            },
            "type": "scatter"
           }
          ],
          "scatter3d": [
           {
            "line": {
             "colorbar": {
              "outlinewidth": 0,
              "ticks": ""
             }
            },
            "marker": {
             "colorbar": {
              "outlinewidth": 0,
              "ticks": ""
             }
            },
            "type": "scatter3d"
           }
          ],
          "scattercarpet": [
           {
            "marker": {
             "colorbar": {
              "outlinewidth": 0,
              "ticks": ""
             }
            },
            "type": "scattercarpet"
           }
          ],
          "scattergeo": [
           {
            "marker": {
             "colorbar": {
              "outlinewidth": 0,
              "ticks": ""
             }
            },
            "type": "scattergeo"
           }
          ],
          "scattergl": [
           {
            "marker": {
             "colorbar": {
              "outlinewidth": 0,
              "ticks": ""
             }
            },
            "type": "scattergl"
           }
          ],
          "scattermapbox": [
           {
            "marker": {
             "colorbar": {
              "outlinewidth": 0,
              "ticks": ""
             }
            },
            "type": "scattermapbox"
           }
          ],
          "scatterpolar": [
           {
            "marker": {
             "colorbar": {
              "outlinewidth": 0,
              "ticks": ""
             }
            },
            "type": "scatterpolar"
           }
          ],
          "scatterpolargl": [
           {
            "marker": {
             "colorbar": {
              "outlinewidth": 0,
              "ticks": ""
             }
            },
            "type": "scatterpolargl"
           }
          ],
          "scatterternary": [
           {
            "marker": {
             "colorbar": {
              "outlinewidth": 0,
              "ticks": ""
             }
            },
            "type": "scatterternary"
           }
          ],
          "surface": [
           {
            "colorbar": {
             "outlinewidth": 0,
             "ticks": ""
            },
            "colorscale": [
             [
              0,
              "#0d0887"
             ],
             [
              0.1111111111111111,
              "#46039f"
             ],
             [
              0.2222222222222222,
              "#7201a8"
             ],
             [
              0.3333333333333333,
              "#9c179e"
             ],
             [
              0.4444444444444444,
              "#bd3786"
             ],
             [
              0.5555555555555556,
              "#d8576b"
             ],
             [
              0.6666666666666666,
              "#ed7953"
             ],
             [
              0.7777777777777778,
              "#fb9f3a"
             ],
             [
              0.8888888888888888,
              "#fdca26"
             ],
             [
              1,
              "#f0f921"
             ]
            ],
            "type": "surface"
           }
          ],
          "table": [
           {
            "cells": {
             "fill": {
              "color": "#EBF0F8"
             },
             "line": {
              "color": "white"
             }
            },
            "header": {
             "fill": {
              "color": "#C8D4E3"
             },
             "line": {
              "color": "white"
             }
            },
            "type": "table"
           }
          ]
         },
         "layout": {
          "annotationdefaults": {
           "arrowcolor": "#2a3f5f",
           "arrowhead": 0,
           "arrowwidth": 1
          },
          "autotypenumbers": "strict",
          "coloraxis": {
           "colorbar": {
            "outlinewidth": 0,
            "ticks": ""
           }
          },
          "colorscale": {
           "diverging": [
            [
             0,
             "#8e0152"
            ],
            [
             0.1,
             "#c51b7d"
            ],
            [
             0.2,
             "#de77ae"
            ],
            [
             0.3,
             "#f1b6da"
            ],
            [
             0.4,
             "#fde0ef"
            ],
            [
             0.5,
             "#f7f7f7"
            ],
            [
             0.6,
             "#e6f5d0"
            ],
            [
             0.7,
             "#b8e186"
            ],
            [
             0.8,
             "#7fbc41"
            ],
            [
             0.9,
             "#4d9221"
            ],
            [
             1,
             "#276419"
            ]
           ],
           "sequential": [
            [
             0,
             "#0d0887"
            ],
            [
             0.1111111111111111,
             "#46039f"
            ],
            [
             0.2222222222222222,
             "#7201a8"
            ],
            [
             0.3333333333333333,
             "#9c179e"
            ],
            [
             0.4444444444444444,
             "#bd3786"
            ],
            [
             0.5555555555555556,
             "#d8576b"
            ],
            [
             0.6666666666666666,
             "#ed7953"
            ],
            [
             0.7777777777777778,
             "#fb9f3a"
            ],
            [
             0.8888888888888888,
             "#fdca26"
            ],
            [
             1,
             "#f0f921"
            ]
           ],
           "sequentialminus": [
            [
             0,
             "#0d0887"
            ],
            [
             0.1111111111111111,
             "#46039f"
            ],
            [
             0.2222222222222222,
             "#7201a8"
            ],
            [
             0.3333333333333333,
             "#9c179e"
            ],
            [
             0.4444444444444444,
             "#bd3786"
            ],
            [
             0.5555555555555556,
             "#d8576b"
            ],
            [
             0.6666666666666666,
             "#ed7953"
            ],
            [
             0.7777777777777778,
             "#fb9f3a"
            ],
            [
             0.8888888888888888,
             "#fdca26"
            ],
            [
             1,
             "#f0f921"
            ]
           ]
          },
          "colorway": [
           "#636efa",
           "#EF553B",
           "#00cc96",
           "#ab63fa",
           "#FFA15A",
           "#19d3f3",
           "#FF6692",
           "#B6E880",
           "#FF97FF",
           "#FECB52"
          ],
          "font": {
           "color": "#2a3f5f"
          },
          "geo": {
           "bgcolor": "white",
           "lakecolor": "white",
           "landcolor": "#E5ECF6",
           "showlakes": true,
           "showland": true,
           "subunitcolor": "white"
          },
          "hoverlabel": {
           "align": "left"
          },
          "hovermode": "closest",
          "mapbox": {
           "style": "light"
          },
          "paper_bgcolor": "white",
          "plot_bgcolor": "#E5ECF6",
          "polar": {
           "angularaxis": {
            "gridcolor": "white",
            "linecolor": "white",
            "ticks": ""
           },
           "bgcolor": "#E5ECF6",
           "radialaxis": {
            "gridcolor": "white",
            "linecolor": "white",
            "ticks": ""
           }
          },
          "scene": {
           "xaxis": {
            "backgroundcolor": "#E5ECF6",
            "gridcolor": "white",
            "gridwidth": 2,
            "linecolor": "white",
            "showbackground": true,
            "ticks": "",
            "zerolinecolor": "white"
           },
           "yaxis": {
            "backgroundcolor": "#E5ECF6",
            "gridcolor": "white",
            "gridwidth": 2,
            "linecolor": "white",
            "showbackground": true,
            "ticks": "",
            "zerolinecolor": "white"
           },
           "zaxis": {
            "backgroundcolor": "#E5ECF6",
            "gridcolor": "white",
            "gridwidth": 2,
            "linecolor": "white",
            "showbackground": true,
            "ticks": "",
            "zerolinecolor": "white"
           }
          },
          "shapedefaults": {
           "line": {
            "color": "#2a3f5f"
           }
          },
          "ternary": {
           "aaxis": {
            "gridcolor": "white",
            "linecolor": "white",
            "ticks": ""
           },
           "baxis": {
            "gridcolor": "white",
            "linecolor": "white",
            "ticks": ""
           },
           "bgcolor": "#E5ECF6",
           "caxis": {
            "gridcolor": "white",
            "linecolor": "white",
            "ticks": ""
           }
          },
          "title": {
           "x": 0.05
          },
          "xaxis": {
           "automargin": true,
           "gridcolor": "white",
           "linecolor": "white",
           "ticks": "",
           "title": {
            "standoff": 15
           },
           "zerolinecolor": "white",
           "zerolinewidth": 2
          },
          "yaxis": {
           "automargin": true,
           "gridcolor": "white",
           "linecolor": "white",
           "ticks": "",
           "title": {
            "standoff": 15
           },
           "zerolinecolor": "white",
           "zerolinewidth": 2
          }
         }
        },
        "title": {
         "text": "Total Number of Injuries by Type"
        },
        "xaxis": {
         "anchor": "y",
         "domain": [
          0,
          1
         ],
         "title": {
          "text": "Injury Type"
         }
        },
        "yaxis": {
         "anchor": "x",
         "domain": [
          0,
          1
         ],
         "title": {
          "text": "Number of Cases"
         }
        }
       }
      }
     },
     "metadata": {},
     "output_type": "display_data"
    }
   ],
   "source": [
    "import pandas as pd\n",
    "import plotly.express as px\n",
    "\n",
    "# Step 1: Group by Injury Type and sum Number of Cases\n",
    "grouped_by_type = h1.groupby('Injury Type', as_index=False)['Number of Cases'].sum()\n",
    "\n",
    "# Step 2: Create the bar chart\n",
    "fig = px.bar(\n",
    "    grouped_by_type,\n",
    "    x='Injury Type',\n",
    "    y='Number of Cases',\n",
    "    title=\"Total Number of Injuries by Type\"\n",
    ")\n",
    "\n",
    "# Step 3: Show the plot\n",
    "fig.show()\n"
   ]
  },
  {
   "cell_type": "code",
   "execution_count": 262,
   "metadata": {},
   "outputs": [],
   "source": [
    "fig.write_html(\"injures_by_type_bar_chart.html\")"
   ]
  },
  {
   "cell_type": "code",
   "execution_count": 263,
   "metadata": {},
   "outputs": [
    {
     "data": {
      "application/vnd.plotly.v1+json": {
       "config": {
        "plotlyServerURL": "https://plot.ly"
       },
       "data": [
        {
         "domain": {
          "x": [
           0,
           1
          ],
          "y": [
           0,
           1
          ]
         },
         "hovertemplate": "Injury Type=%{label}<br>Number of Cases=%{value}<extra></extra>",
         "labels": [
          "Accidental poisoning",
          "Assault",
          "Choking and suffocation",
          "Contact with living things",
          "Contact with objects",
          "Drowning and submersion",
          "Electricity and air pressure",
          "Falls",
          "Forces of nature",
          "Intentional self-harm",
          "Other unintentional causes",
          "Overexertion",
          "Thermal causes",
          "Transport",
          "Undetermined intent"
         ],
         "legendgroup": "",
         "name": "",
         "showlegend": true,
         "type": "pie",
         "values": [
          8917,
          20480,
          1430,
          30373,
          78718,
          326,
          649,
          238029,
          569,
          24327,
          60659,
          13391,
          5304,
          61166,
          3706
         ]
        }
       ],
       "layout": {
        "legend": {
         "tracegroupgap": 0
        },
        "template": {
         "data": {
          "bar": [
           {
            "error_x": {
             "color": "#2a3f5f"
            },
            "error_y": {
             "color": "#2a3f5f"
            },
            "marker": {
             "line": {
              "color": "#E5ECF6",
              "width": 0.5
             },
             "pattern": {
              "fillmode": "overlay",
              "size": 10,
              "solidity": 0.2
             }
            },
            "type": "bar"
           }
          ],
          "barpolar": [
           {
            "marker": {
             "line": {
              "color": "#E5ECF6",
              "width": 0.5
             },
             "pattern": {
              "fillmode": "overlay",
              "size": 10,
              "solidity": 0.2
             }
            },
            "type": "barpolar"
           }
          ],
          "carpet": [
           {
            "aaxis": {
             "endlinecolor": "#2a3f5f",
             "gridcolor": "white",
             "linecolor": "white",
             "minorgridcolor": "white",
             "startlinecolor": "#2a3f5f"
            },
            "baxis": {
             "endlinecolor": "#2a3f5f",
             "gridcolor": "white",
             "linecolor": "white",
             "minorgridcolor": "white",
             "startlinecolor": "#2a3f5f"
            },
            "type": "carpet"
           }
          ],
          "choropleth": [
           {
            "colorbar": {
             "outlinewidth": 0,
             "ticks": ""
            },
            "type": "choropleth"
           }
          ],
          "contour": [
           {
            "colorbar": {
             "outlinewidth": 0,
             "ticks": ""
            },
            "colorscale": [
             [
              0,
              "#0d0887"
             ],
             [
              0.1111111111111111,
              "#46039f"
             ],
             [
              0.2222222222222222,
              "#7201a8"
             ],
             [
              0.3333333333333333,
              "#9c179e"
             ],
             [
              0.4444444444444444,
              "#bd3786"
             ],
             [
              0.5555555555555556,
              "#d8576b"
             ],
             [
              0.6666666666666666,
              "#ed7953"
             ],
             [
              0.7777777777777778,
              "#fb9f3a"
             ],
             [
              0.8888888888888888,
              "#fdca26"
             ],
             [
              1,
              "#f0f921"
             ]
            ],
            "type": "contour"
           }
          ],
          "contourcarpet": [
           {
            "colorbar": {
             "outlinewidth": 0,
             "ticks": ""
            },
            "type": "contourcarpet"
           }
          ],
          "heatmap": [
           {
            "colorbar": {
             "outlinewidth": 0,
             "ticks": ""
            },
            "colorscale": [
             [
              0,
              "#0d0887"
             ],
             [
              0.1111111111111111,
              "#46039f"
             ],
             [
              0.2222222222222222,
              "#7201a8"
             ],
             [
              0.3333333333333333,
              "#9c179e"
             ],
             [
              0.4444444444444444,
              "#bd3786"
             ],
             [
              0.5555555555555556,
              "#d8576b"
             ],
             [
              0.6666666666666666,
              "#ed7953"
             ],
             [
              0.7777777777777778,
              "#fb9f3a"
             ],
             [
              0.8888888888888888,
              "#fdca26"
             ],
             [
              1,
              "#f0f921"
             ]
            ],
            "type": "heatmap"
           }
          ],
          "heatmapgl": [
           {
            "colorbar": {
             "outlinewidth": 0,
             "ticks": ""
            },
            "colorscale": [
             [
              0,
              "#0d0887"
             ],
             [
              0.1111111111111111,
              "#46039f"
             ],
             [
              0.2222222222222222,
              "#7201a8"
             ],
             [
              0.3333333333333333,
              "#9c179e"
             ],
             [
              0.4444444444444444,
              "#bd3786"
             ],
             [
              0.5555555555555556,
              "#d8576b"
             ],
             [
              0.6666666666666666,
              "#ed7953"
             ],
             [
              0.7777777777777778,
              "#fb9f3a"
             ],
             [
              0.8888888888888888,
              "#fdca26"
             ],
             [
              1,
              "#f0f921"
             ]
            ],
            "type": "heatmapgl"
           }
          ],
          "histogram": [
           {
            "marker": {
             "pattern": {
              "fillmode": "overlay",
              "size": 10,
              "solidity": 0.2
             }
            },
            "type": "histogram"
           }
          ],
          "histogram2d": [
           {
            "colorbar": {
             "outlinewidth": 0,
             "ticks": ""
            },
            "colorscale": [
             [
              0,
              "#0d0887"
             ],
             [
              0.1111111111111111,
              "#46039f"
             ],
             [
              0.2222222222222222,
              "#7201a8"
             ],
             [
              0.3333333333333333,
              "#9c179e"
             ],
             [
              0.4444444444444444,
              "#bd3786"
             ],
             [
              0.5555555555555556,
              "#d8576b"
             ],
             [
              0.6666666666666666,
              "#ed7953"
             ],
             [
              0.7777777777777778,
              "#fb9f3a"
             ],
             [
              0.8888888888888888,
              "#fdca26"
             ],
             [
              1,
              "#f0f921"
             ]
            ],
            "type": "histogram2d"
           }
          ],
          "histogram2dcontour": [
           {
            "colorbar": {
             "outlinewidth": 0,
             "ticks": ""
            },
            "colorscale": [
             [
              0,
              "#0d0887"
             ],
             [
              0.1111111111111111,
              "#46039f"
             ],
             [
              0.2222222222222222,
              "#7201a8"
             ],
             [
              0.3333333333333333,
              "#9c179e"
             ],
             [
              0.4444444444444444,
              "#bd3786"
             ],
             [
              0.5555555555555556,
              "#d8576b"
             ],
             [
              0.6666666666666666,
              "#ed7953"
             ],
             [
              0.7777777777777778,
              "#fb9f3a"
             ],
             [
              0.8888888888888888,
              "#fdca26"
             ],
             [
              1,
              "#f0f921"
             ]
            ],
            "type": "histogram2dcontour"
           }
          ],
          "mesh3d": [
           {
            "colorbar": {
             "outlinewidth": 0,
             "ticks": ""
            },
            "type": "mesh3d"
           }
          ],
          "parcoords": [
           {
            "line": {
             "colorbar": {
              "outlinewidth": 0,
              "ticks": ""
             }
            },
            "type": "parcoords"
           }
          ],
          "pie": [
           {
            "automargin": true,
            "type": "pie"
           }
          ],
          "scatter": [
           {
            "fillpattern": {
             "fillmode": "overlay",
             "size": 10,
             "solidity": 0.2
            },
            "type": "scatter"
           }
          ],
          "scatter3d": [
           {
            "line": {
             "colorbar": {
              "outlinewidth": 0,
              "ticks": ""
             }
            },
            "marker": {
             "colorbar": {
              "outlinewidth": 0,
              "ticks": ""
             }
            },
            "type": "scatter3d"
           }
          ],
          "scattercarpet": [
           {
            "marker": {
             "colorbar": {
              "outlinewidth": 0,
              "ticks": ""
             }
            },
            "type": "scattercarpet"
           }
          ],
          "scattergeo": [
           {
            "marker": {
             "colorbar": {
              "outlinewidth": 0,
              "ticks": ""
             }
            },
            "type": "scattergeo"
           }
          ],
          "scattergl": [
           {
            "marker": {
             "colorbar": {
              "outlinewidth": 0,
              "ticks": ""
             }
            },
            "type": "scattergl"
           }
          ],
          "scattermapbox": [
           {
            "marker": {
             "colorbar": {
              "outlinewidth": 0,
              "ticks": ""
             }
            },
            "type": "scattermapbox"
           }
          ],
          "scatterpolar": [
           {
            "marker": {
             "colorbar": {
              "outlinewidth": 0,
              "ticks": ""
             }
            },
            "type": "scatterpolar"
           }
          ],
          "scatterpolargl": [
           {
            "marker": {
             "colorbar": {
              "outlinewidth": 0,
              "ticks": ""
             }
            },
            "type": "scatterpolargl"
           }
          ],
          "scatterternary": [
           {
            "marker": {
             "colorbar": {
              "outlinewidth": 0,
              "ticks": ""
             }
            },
            "type": "scatterternary"
           }
          ],
          "surface": [
           {
            "colorbar": {
             "outlinewidth": 0,
             "ticks": ""
            },
            "colorscale": [
             [
              0,
              "#0d0887"
             ],
             [
              0.1111111111111111,
              "#46039f"
             ],
             [
              0.2222222222222222,
              "#7201a8"
             ],
             [
              0.3333333333333333,
              "#9c179e"
             ],
             [
              0.4444444444444444,
              "#bd3786"
             ],
             [
              0.5555555555555556,
              "#d8576b"
             ],
             [
              0.6666666666666666,
              "#ed7953"
             ],
             [
              0.7777777777777778,
              "#fb9f3a"
             ],
             [
              0.8888888888888888,
              "#fdca26"
             ],
             [
              1,
              "#f0f921"
             ]
            ],
            "type": "surface"
           }
          ],
          "table": [
           {
            "cells": {
             "fill": {
              "color": "#EBF0F8"
             },
             "line": {
              "color": "white"
             }
            },
            "header": {
             "fill": {
              "color": "#C8D4E3"
             },
             "line": {
              "color": "white"
             }
            },
            "type": "table"
           }
          ]
         },
         "layout": {
          "annotationdefaults": {
           "arrowcolor": "#2a3f5f",
           "arrowhead": 0,
           "arrowwidth": 1
          },
          "autotypenumbers": "strict",
          "coloraxis": {
           "colorbar": {
            "outlinewidth": 0,
            "ticks": ""
           }
          },
          "colorscale": {
           "diverging": [
            [
             0,
             "#8e0152"
            ],
            [
             0.1,
             "#c51b7d"
            ],
            [
             0.2,
             "#de77ae"
            ],
            [
             0.3,
             "#f1b6da"
            ],
            [
             0.4,
             "#fde0ef"
            ],
            [
             0.5,
             "#f7f7f7"
            ],
            [
             0.6,
             "#e6f5d0"
            ],
            [
             0.7,
             "#b8e186"
            ],
            [
             0.8,
             "#7fbc41"
            ],
            [
             0.9,
             "#4d9221"
            ],
            [
             1,
             "#276419"
            ]
           ],
           "sequential": [
            [
             0,
             "#0d0887"
            ],
            [
             0.1111111111111111,
             "#46039f"
            ],
            [
             0.2222222222222222,
             "#7201a8"
            ],
            [
             0.3333333333333333,
             "#9c179e"
            ],
            [
             0.4444444444444444,
             "#bd3786"
            ],
            [
             0.5555555555555556,
             "#d8576b"
            ],
            [
             0.6666666666666666,
             "#ed7953"
            ],
            [
             0.7777777777777778,
             "#fb9f3a"
            ],
            [
             0.8888888888888888,
             "#fdca26"
            ],
            [
             1,
             "#f0f921"
            ]
           ],
           "sequentialminus": [
            [
             0,
             "#0d0887"
            ],
            [
             0.1111111111111111,
             "#46039f"
            ],
            [
             0.2222222222222222,
             "#7201a8"
            ],
            [
             0.3333333333333333,
             "#9c179e"
            ],
            [
             0.4444444444444444,
             "#bd3786"
            ],
            [
             0.5555555555555556,
             "#d8576b"
            ],
            [
             0.6666666666666666,
             "#ed7953"
            ],
            [
             0.7777777777777778,
             "#fb9f3a"
            ],
            [
             0.8888888888888888,
             "#fdca26"
            ],
            [
             1,
             "#f0f921"
            ]
           ]
          },
          "colorway": [
           "#636efa",
           "#EF553B",
           "#00cc96",
           "#ab63fa",
           "#FFA15A",
           "#19d3f3",
           "#FF6692",
           "#B6E880",
           "#FF97FF",
           "#FECB52"
          ],
          "font": {
           "color": "#2a3f5f"
          },
          "geo": {
           "bgcolor": "white",
           "lakecolor": "white",
           "landcolor": "#E5ECF6",
           "showlakes": true,
           "showland": true,
           "subunitcolor": "white"
          },
          "hoverlabel": {
           "align": "left"
          },
          "hovermode": "closest",
          "mapbox": {
           "style": "light"
          },
          "paper_bgcolor": "white",
          "plot_bgcolor": "#E5ECF6",
          "polar": {
           "angularaxis": {
            "gridcolor": "white",
            "linecolor": "white",
            "ticks": ""
           },
           "bgcolor": "#E5ECF6",
           "radialaxis": {
            "gridcolor": "white",
            "linecolor": "white",
            "ticks": ""
           }
          },
          "scene": {
           "xaxis": {
            "backgroundcolor": "#E5ECF6",
            "gridcolor": "white",
            "gridwidth": 2,
            "linecolor": "white",
            "showbackground": true,
            "ticks": "",
            "zerolinecolor": "white"
           },
           "yaxis": {
            "backgroundcolor": "#E5ECF6",
            "gridcolor": "white",
            "gridwidth": 2,
            "linecolor": "white",
            "showbackground": true,
            "ticks": "",
            "zerolinecolor": "white"
           },
           "zaxis": {
            "backgroundcolor": "#E5ECF6",
            "gridcolor": "white",
            "gridwidth": 2,
            "linecolor": "white",
            "showbackground": true,
            "ticks": "",
            "zerolinecolor": "white"
           }
          },
          "shapedefaults": {
           "line": {
            "color": "#2a3f5f"
           }
          },
          "ternary": {
           "aaxis": {
            "gridcolor": "white",
            "linecolor": "white",
            "ticks": ""
           },
           "baxis": {
            "gridcolor": "white",
            "linecolor": "white",
            "ticks": ""
           },
           "bgcolor": "#E5ECF6",
           "caxis": {
            "gridcolor": "white",
            "linecolor": "white",
            "ticks": ""
           }
          },
          "title": {
           "x": 0.05
          },
          "xaxis": {
           "automargin": true,
           "gridcolor": "white",
           "linecolor": "white",
           "ticks": "",
           "title": {
            "standoff": 15
           },
           "zerolinecolor": "white",
           "zerolinewidth": 2
          },
          "yaxis": {
           "automargin": true,
           "gridcolor": "white",
           "linecolor": "white",
           "ticks": "",
           "title": {
            "standoff": 15
           },
           "zerolinecolor": "white",
           "zerolinewidth": 2
          }
         }
        },
        "title": {
         "text": "Total Number of Injuries by Type"
        }
       }
      }
     },
     "metadata": {},
     "output_type": "display_data"
    }
   ],
   "source": [
    "import plotly.express as px\n",
    "# Step 1: Group by Injury Type and sum MeasureValueNumber\n",
    "grouped_by_type = h1.groupby('Injury Type', as_index=False)['Number of Cases'].sum()\n",
    "\n",
    "# Step 2: Create the pie chart\n",
    "fig = px.pie(\n",
    "    grouped_by_type,\n",
    "    names='Injury Type',  # Labels for slices\n",
    "    values='Number of Cases',  # Values for the size of each slice\n",
    "    title=\"Total Number of Injuries by Type\"\n",
    ")\n",
    "\n",
    "# Step 3: Show the plot\n",
    "fig.show()"
   ]
  },
  {
   "cell_type": "code",
   "execution_count": 264,
   "metadata": {},
   "outputs": [],
   "source": [
    "fig.write_html(\"injures_by_type_pie_chart.html\")"
   ]
  },
  {
   "cell_type": "code",
   "execution_count": 265,
   "metadata": {},
   "outputs": [
    {
     "data": {
      "text/plain": [
       "Injury Type\n",
       "Accidental poisoning            40\n",
       "Assault                         40\n",
       "Choking and suffocation         40\n",
       "Contact with living things      40\n",
       "Contact with objects            40\n",
       "Drowning and submersion         40\n",
       "Electricity and air pressure    40\n",
       "Falls                           40\n",
       "Forces of nature                40\n",
       "Intentional self-harm           40\n",
       "Other unintentional causes      40\n",
       "Overexertion                    40\n",
       "Thermal causes                  40\n",
       "Transport                       40\n",
       "Undetermined intent             40\n",
       "Name: count, dtype: int64"
      ]
     },
     "execution_count": 265,
     "metadata": {},
     "output_type": "execute_result"
    }
   ],
   "source": [
    "h1['Injury Type'].value_counts()"
   ]
  },
  {
   "cell_type": "code",
   "execution_count": 266,
   "metadata": {},
   "outputs": [
    {
     "data": {
      "application/vnd.plotly.v1+json": {
       "config": {
        "plotlyServerURL": "https://plot.ly"
       },
       "data": [
        {
         "alignmentgroup": "True",
         "hovertemplate": "Injury Type=Accidental poisoning<br>Age Group=%{x}<br>Number of Cases=%{y}<extra></extra>",
         "legendgroup": "Accidental poisoning",
         "marker": {
          "color": "#FF6347",
          "pattern": {
           "shape": ""
          }
         },
         "name": "Accidental poisoning",
         "offsetgroup": "Accidental poisoning",
         "orientation": "v",
         "showlegend": true,
         "textposition": "auto",
         "type": "bar",
         "x": [
          "0–4",
          "5–9",
          "10–14",
          "15–19",
          "20–24",
          "25–29",
          "30–34",
          "35–39",
          "40–44",
          "45–49",
          "50–54",
          "55–59",
          "60–64",
          "65–69",
          "70–74",
          "75–79",
          "80–84",
          "85–89",
          "90–94",
          "95+"
         ],
         "xaxis": "x",
         "y": [
          1165,
          234,
          188,
          396,
          594,
          654,
          638,
          613,
          574,
          506,
          483,
          412,
          395,
          401,
          387,
          401,
          394,
          294,
          151,
          37
         ],
         "yaxis": "y"
        },
        {
         "alignmentgroup": "True",
         "hovertemplate": "Injury Type=Transport<br>Age Group=%{x}<br>Number of Cases=%{y}<extra></extra>",
         "legendgroup": "Transport",
         "marker": {
          "color": "#4682B4",
          "pattern": {
           "shape": ""
          }
         },
         "name": "Transport",
         "offsetgroup": "Transport",
         "orientation": "v",
         "showlegend": true,
         "textposition": "auto",
         "type": "bar",
         "x": [
          "0–4",
          "5–9",
          "10–14",
          "15–19",
          "20–24",
          "25–29",
          "30–34",
          "35–39",
          "40–44",
          "45–49",
          "50–54",
          "55–59",
          "60–64",
          "65–69",
          "70–74",
          "75–79",
          "80–84",
          "85–89",
          "90–94",
          "95+"
         ],
         "xaxis": "x",
         "y": [
          686,
          1636,
          4115,
          6013,
          5793,
          5197,
          4827,
          4337,
          4189,
          4067,
          4237,
          3670,
          3316,
          2602,
          2205,
          1741,
          1363,
          796,
          303,
          73
         ],
         "yaxis": "y"
        },
        {
         "alignmentgroup": "True",
         "hovertemplate": "Injury Type=Thermal causes<br>Age Group=%{x}<br>Number of Cases=%{y}<extra></extra>",
         "legendgroup": "Thermal causes",
         "marker": {
          "color": "#FF1493",
          "pattern": {
           "shape": ""
          }
         },
         "name": "Thermal causes",
         "offsetgroup": "Thermal causes",
         "orientation": "v",
         "showlegend": true,
         "textposition": "auto",
         "type": "bar",
         "x": [
          "0–4",
          "5–9",
          "10–14",
          "15–19",
          "20–24",
          "25–29",
          "30–34",
          "35–39",
          "40–44",
          "45–49",
          "50–54",
          "55–59",
          "60–64",
          "65–69",
          "70–74",
          "75–79",
          "80–84",
          "85–89",
          "90–94",
          "95+"
         ],
         "xaxis": "x",
         "y": [
          1159,
          324,
          225,
          236,
          295,
          305,
          301,
          267,
          283,
          260,
          344,
          279,
          227,
          208,
          205,
          145,
          124,
          82,
          27,
          8
         ],
         "yaxis": "y"
        },
        {
         "alignmentgroup": "True",
         "hovertemplate": "Injury Type=Overexertion<br>Age Group=%{x}<br>Number of Cases=%{y}<extra></extra>",
         "legendgroup": "Overexertion",
         "marker": {
          "color": "#32CD32",
          "pattern": {
           "shape": ""
          }
         },
         "name": "Overexertion",
         "offsetgroup": "Overexertion",
         "orientation": "v",
         "showlegend": true,
         "textposition": "auto",
         "type": "bar",
         "x": [
          "0–4",
          "5–9",
          "10–14",
          "15–19",
          "20–24",
          "25–29",
          "30–34",
          "35–39",
          "40–44",
          "45–49",
          "50–54",
          "55–59",
          "60–64",
          "65–69",
          "70–74",
          "75–79",
          "80–84",
          "85–89",
          "90–94",
          "95+"
         ],
         "xaxis": "x",
         "y": [
          62,
          136,
          596,
          998,
          1065,
          1237,
          1052,
          1061,
          962,
          893,
          900,
          728,
          720,
          619,
          633,
          633,
          508,
          360,
          176,
          52
         ],
         "yaxis": "y"
        },
        {
         "alignmentgroup": "True",
         "hovertemplate": "Injury Type=Other unintentional causes<br>Age Group=%{x}<br>Number of Cases=%{y}<extra></extra>",
         "legendgroup": "Other unintentional causes",
         "marker": {
          "color": "#FFD700",
          "pattern": {
           "shape": ""
          }
         },
         "name": "Other unintentional causes",
         "offsetgroup": "Other unintentional causes",
         "orientation": "v",
         "showlegend": true,
         "textposition": "auto",
         "type": "bar",
         "x": [
          "0–4",
          "5–9",
          "10–14",
          "15–19",
          "20–24",
          "25–29",
          "30–34",
          "35–39",
          "40–44",
          "45–49",
          "50–54",
          "55–59",
          "60–64",
          "65–69",
          "70–74",
          "75–79",
          "80–84",
          "85–89",
          "90–94",
          "95+"
         ],
         "xaxis": "x",
         "y": [
          1359,
          1052,
          2471,
          5982,
          6172,
          5424,
          4625,
          4354,
          4278,
          4135,
          4137,
          3564,
          3381,
          2649,
          2245,
          1781,
          1284,
          987,
          583,
          196
         ],
         "yaxis": "y"
        },
        {
         "alignmentgroup": "True",
         "hovertemplate": "Injury Type=Intentional self-harm<br>Age Group=%{x}<br>Number of Cases=%{y}<extra></extra>",
         "legendgroup": "Intentional self-harm",
         "marker": {
          "color": "#8A2BE2",
          "pattern": {
           "shape": ""
          }
         },
         "name": "Intentional self-harm",
         "offsetgroup": "Intentional self-harm",
         "orientation": "v",
         "showlegend": true,
         "textposition": "auto",
         "type": "bar",
         "x": [
          "0–4",
          "5–9",
          "10–14",
          "15–19",
          "20–24",
          "25–29",
          "30–34",
          "35–39",
          "40–44",
          "45–49",
          "50–54",
          "55–59",
          "60–64",
          "65–69",
          "70–74",
          "75–79",
          "80–84",
          "85–89",
          "90–94",
          "95+"
         ],
         "xaxis": "x",
         "y": [
          0,
          0,
          1738,
          4647,
          3262,
          2657,
          2191,
          1833,
          1641,
          1491,
          1465,
          989,
          792,
          496,
          385,
          312,
          194,
          133,
          79,
          22
         ],
         "yaxis": "y"
        },
        {
         "alignmentgroup": "True",
         "hovertemplate": "Injury Type=Forces of nature<br>Age Group=%{x}<br>Number of Cases=%{y}<extra></extra>",
         "legendgroup": "Forces of nature",
         "marker": {
          "color": "#A52A2A",
          "pattern": {
           "shape": ""
          }
         },
         "name": "Forces of nature",
         "offsetgroup": "Forces of nature",
         "orientation": "v",
         "showlegend": true,
         "textposition": "auto",
         "type": "bar",
         "x": [
          "0–4",
          "5–9",
          "10–14",
          "15–19",
          "20–24",
          "25–29",
          "30–34",
          "35–39",
          "40–44",
          "45–49",
          "50–54",
          "55–59",
          "60–64",
          "65–69",
          "70–74",
          "75–79",
          "80–84",
          "85–89",
          "90–94",
          "95+"
         ],
         "xaxis": "x",
         "y": [
          6,
          0,
          0,
          47,
          45,
          49,
          36,
          36,
          51,
          27,
          28,
          17,
          33,
          50,
          35,
          43,
          35,
          31,
          0,
          0
         ],
         "yaxis": "y"
        },
        {
         "alignmentgroup": "True",
         "hovertemplate": "Injury Type=Undetermined intent<br>Age Group=%{x}<br>Number of Cases=%{y}<extra></extra>",
         "legendgroup": "Undetermined intent",
         "marker": {
          "color": "#FF8C00",
          "pattern": {
           "shape": ""
          }
         },
         "name": "Undetermined intent",
         "offsetgroup": "Undetermined intent",
         "orientation": "v",
         "showlegend": true,
         "textposition": "auto",
         "type": "bar",
         "x": [
          "0–4",
          "5–9",
          "10–14",
          "15–19",
          "20–24",
          "25–29",
          "30–34",
          "35–39",
          "40–44",
          "45–49",
          "50–54",
          "55–59",
          "60–64",
          "65–69",
          "70–74",
          "75–79",
          "80–84",
          "85–89",
          "90–94",
          "95+"
         ],
         "xaxis": "x",
         "y": [
          114,
          90,
          127,
          314,
          371,
          389,
          413,
          367,
          327,
          276,
          216,
          167,
          138,
          104,
          94,
          68,
          49,
          46,
          27,
          9
         ],
         "yaxis": "y"
        },
        {
         "alignmentgroup": "True",
         "hovertemplate": "Injury Type=Electricity and air pressure<br>Age Group=%{x}<br>Number of Cases=%{y}<extra></extra>",
         "legendgroup": "Electricity and air pressure",
         "marker": {
          "color": "#6A5ACD",
          "pattern": {
           "shape": ""
          }
         },
         "name": "Electricity and air pressure",
         "offsetgroup": "Electricity and air pressure",
         "orientation": "v",
         "showlegend": true,
         "textposition": "auto",
         "type": "bar",
         "x": [
          "0–4",
          "5–9",
          "10–14",
          "15–19",
          "20–24",
          "25–29",
          "30–34",
          "35–39",
          "40–44",
          "45–49",
          "50–54",
          "55–59",
          "60–64",
          "65–69",
          "70–74",
          "75–79",
          "80–84",
          "85–89",
          "90–94",
          "95+"
         ],
         "xaxis": "x",
         "y": [
          7,
          0,
          0,
          39,
          120,
          114,
          91,
          66,
          46,
          43,
          43,
          32,
          33,
          0,
          15,
          0,
          0,
          0,
          0,
          0
         ],
         "yaxis": "y"
        },
        {
         "alignmentgroup": "True",
         "hovertemplate": "Injury Type=Drowning and submersion<br>Age Group=%{x}<br>Number of Cases=%{y}<extra></extra>",
         "legendgroup": "Drowning and submersion",
         "marker": {
          "color": "#98FB98",
          "pattern": {
           "shape": ""
          }
         },
         "name": "Drowning and submersion",
         "offsetgroup": "Drowning and submersion",
         "orientation": "v",
         "showlegend": true,
         "textposition": "auto",
         "type": "bar",
         "x": [
          "0–4",
          "5–9",
          "10–14",
          "15–19",
          "20–24",
          "25–29",
          "30–34",
          "35–39",
          "40–44",
          "45–49",
          "50–54",
          "55–59",
          "60–64",
          "65–69",
          "70–74",
          "75–79",
          "80–84",
          "85–89",
          "90–94",
          "95+"
         ],
         "xaxis": "x",
         "y": [
          181,
          56,
          31,
          0,
          0,
          0,
          0,
          0,
          6,
          13,
          8,
          0,
          0,
          17,
          6,
          8,
          0,
          0,
          0,
          0
         ],
         "yaxis": "y"
        },
        {
         "alignmentgroup": "True",
         "hovertemplate": "Injury Type=Contact with objects<br>Age Group=%{x}<br>Number of Cases=%{y}<extra></extra>",
         "legendgroup": "Contact with objects",
         "marker": {
          "color": "#D2691E",
          "pattern": {
           "shape": ""
          }
         },
         "name": "Contact with objects",
         "offsetgroup": "Contact with objects",
         "orientation": "v",
         "showlegend": true,
         "textposition": "auto",
         "type": "bar",
         "x": [
          "0–4",
          "5–9",
          "10–14",
          "15–19",
          "20–24",
          "25–29",
          "30–34",
          "35–39",
          "40–44",
          "45–49",
          "50–54",
          "55–59",
          "60–64",
          "65–69",
          "70–74",
          "75–79",
          "80–84",
          "85–89",
          "90–94",
          "95+"
         ],
         "xaxis": "x",
         "y": [
          4763,
          4130,
          3939,
          5644,
          6759,
          6946,
          6421,
          5808,
          5289,
          4732,
          4849,
          4215,
          4010,
          3299,
          2732,
          2151,
          1423,
          953,
          499,
          156
         ],
         "yaxis": "y"
        },
        {
         "alignmentgroup": "True",
         "hovertemplate": "Injury Type=Contact with living things<br>Age Group=%{x}<br>Number of Cases=%{y}<extra></extra>",
         "legendgroup": "Contact with living things",
         "marker": {
          "color": "#C71585",
          "pattern": {
           "shape": ""
          }
         },
         "name": "Contact with living things",
         "offsetgroup": "Contact with living things",
         "orientation": "v",
         "showlegend": true,
         "textposition": "auto",
         "type": "bar",
         "x": [
          "0–4",
          "5–9",
          "10–14",
          "15–19",
          "20–24",
          "25–29",
          "30–34",
          "35–39",
          "40–44",
          "45–49",
          "50–54",
          "55–59",
          "60–64",
          "65–69",
          "70–74",
          "75–79",
          "80–84",
          "85–89",
          "90–94",
          "95+"
         ],
         "xaxis": "x",
         "y": [
          1198,
          1361,
          2260,
          2864,
          2867,
          2761,
          2248,
          2054,
          1848,
          1879,
          2013,
          1634,
          1499,
          1265,
          968,
          794,
          468,
          250,
          117,
          25
         ],
         "yaxis": "y"
        },
        {
         "alignmentgroup": "True",
         "hovertemplate": "Injury Type=Choking and suffocation<br>Age Group=%{x}<br>Number of Cases=%{y}<extra></extra>",
         "legendgroup": "Choking and suffocation",
         "marker": {
          "color": "#40E0D0",
          "pattern": {
           "shape": ""
          }
         },
         "name": "Choking and suffocation",
         "offsetgroup": "Choking and suffocation",
         "orientation": "v",
         "showlegend": true,
         "textposition": "auto",
         "type": "bar",
         "x": [
          "0–4",
          "5–9",
          "10–14",
          "15–19",
          "20–24",
          "25–29",
          "30–34",
          "35–39",
          "40–44",
          "45–49",
          "50–54",
          "55–59",
          "60–64",
          "65–69",
          "70–74",
          "75–79",
          "80–84",
          "85–89",
          "90–94",
          "95+"
         ],
         "xaxis": "x",
         "y": [
          321,
          55,
          27,
          30,
          27,
          46,
          44,
          51,
          43,
          66,
          74,
          67,
          103,
          91,
          90,
          115,
          78,
          50,
          36,
          16
         ],
         "yaxis": "y"
        },
        {
         "alignmentgroup": "True",
         "hovertemplate": "Injury Type=Assault<br>Age Group=%{x}<br>Number of Cases=%{y}<extra></extra>",
         "legendgroup": "Assault",
         "marker": {
          "color": "#00BFFF",
          "pattern": {
           "shape": ""
          }
         },
         "name": "Assault",
         "offsetgroup": "Assault",
         "orientation": "v",
         "showlegend": true,
         "textposition": "auto",
         "type": "bar",
         "x": [
          "0–4",
          "5–9",
          "10–14",
          "15–19",
          "20–24",
          "25–29",
          "30–34",
          "35–39",
          "40–44",
          "45–49",
          "50–54",
          "55–59",
          "60–64",
          "65–69",
          "70–74",
          "75–79",
          "80–84",
          "85–89",
          "90–94",
          "95+"
         ],
         "xaxis": "x",
         "y": [
          180,
          87,
          408,
          1599,
          2450,
          2755,
          2756,
          2589,
          2215,
          1694,
          1430,
          813,
          516,
          329,
          231,
          144,
          121,
          106,
          38,
          19
         ],
         "yaxis": "y"
        },
        {
         "alignmentgroup": "True",
         "hovertemplate": "Injury Type=Falls<br>Age Group=%{x}<br>Number of Cases=%{y}<extra></extra>",
         "legendgroup": "Falls",
         "marker": {
          "color": "#000000",
          "pattern": {
           "shape": ""
          }
         },
         "name": "Falls",
         "offsetgroup": "Falls",
         "orientation": "v",
         "showlegend": true,
         "textposition": "auto",
         "type": "bar",
         "x": [
          "0–4",
          "5–9",
          "10–14",
          "15–19",
          "20–24",
          "25–29",
          "30–34",
          "35–39",
          "40–44",
          "45–49",
          "50–54",
          "55–59",
          "60–64",
          "65–69",
          "70–74",
          "75–79",
          "80–84",
          "85–89",
          "90–94",
          "95+"
         ],
         "xaxis": "x",
         "y": [
          8275,
          8772,
          7490,
          4915,
          4938,
          5309,
          5082,
          5090,
          5273,
          6062,
          8725,
          10280,
          13185,
          15029,
          19426,
          25136,
          28174,
          28294,
          20492,
          8082
         ],
         "yaxis": "y"
        }
       ],
       "layout": {
        "barmode": "stack",
        "legend": {
         "title": {
          "text": "Injury Type"
         },
         "tracegroupgap": 0
        },
        "template": {
         "data": {
          "bar": [
           {
            "error_x": {
             "color": "#2a3f5f"
            },
            "error_y": {
             "color": "#2a3f5f"
            },
            "marker": {
             "line": {
              "color": "#E5ECF6",
              "width": 0.5
             },
             "pattern": {
              "fillmode": "overlay",
              "size": 10,
              "solidity": 0.2
             }
            },
            "type": "bar"
           }
          ],
          "barpolar": [
           {
            "marker": {
             "line": {
              "color": "#E5ECF6",
              "width": 0.5
             },
             "pattern": {
              "fillmode": "overlay",
              "size": 10,
              "solidity": 0.2
             }
            },
            "type": "barpolar"
           }
          ],
          "carpet": [
           {
            "aaxis": {
             "endlinecolor": "#2a3f5f",
             "gridcolor": "white",
             "linecolor": "white",
             "minorgridcolor": "white",
             "startlinecolor": "#2a3f5f"
            },
            "baxis": {
             "endlinecolor": "#2a3f5f",
             "gridcolor": "white",
             "linecolor": "white",
             "minorgridcolor": "white",
             "startlinecolor": "#2a3f5f"
            },
            "type": "carpet"
           }
          ],
          "choropleth": [
           {
            "colorbar": {
             "outlinewidth": 0,
             "ticks": ""
            },
            "type": "choropleth"
           }
          ],
          "contour": [
           {
            "colorbar": {
             "outlinewidth": 0,
             "ticks": ""
            },
            "colorscale": [
             [
              0,
              "#0d0887"
             ],
             [
              0.1111111111111111,
              "#46039f"
             ],
             [
              0.2222222222222222,
              "#7201a8"
             ],
             [
              0.3333333333333333,
              "#9c179e"
             ],
             [
              0.4444444444444444,
              "#bd3786"
             ],
             [
              0.5555555555555556,
              "#d8576b"
             ],
             [
              0.6666666666666666,
              "#ed7953"
             ],
             [
              0.7777777777777778,
              "#fb9f3a"
             ],
             [
              0.8888888888888888,
              "#fdca26"
             ],
             [
              1,
              "#f0f921"
             ]
            ],
            "type": "contour"
           }
          ],
          "contourcarpet": [
           {
            "colorbar": {
             "outlinewidth": 0,
             "ticks": ""
            },
            "type": "contourcarpet"
           }
          ],
          "heatmap": [
           {
            "colorbar": {
             "outlinewidth": 0,
             "ticks": ""
            },
            "colorscale": [
             [
              0,
              "#0d0887"
             ],
             [
              0.1111111111111111,
              "#46039f"
             ],
             [
              0.2222222222222222,
              "#7201a8"
             ],
             [
              0.3333333333333333,
              "#9c179e"
             ],
             [
              0.4444444444444444,
              "#bd3786"
             ],
             [
              0.5555555555555556,
              "#d8576b"
             ],
             [
              0.6666666666666666,
              "#ed7953"
             ],
             [
              0.7777777777777778,
              "#fb9f3a"
             ],
             [
              0.8888888888888888,
              "#fdca26"
             ],
             [
              1,
              "#f0f921"
             ]
            ],
            "type": "heatmap"
           }
          ],
          "heatmapgl": [
           {
            "colorbar": {
             "outlinewidth": 0,
             "ticks": ""
            },
            "colorscale": [
             [
              0,
              "#0d0887"
             ],
             [
              0.1111111111111111,
              "#46039f"
             ],
             [
              0.2222222222222222,
              "#7201a8"
             ],
             [
              0.3333333333333333,
              "#9c179e"
             ],
             [
              0.4444444444444444,
              "#bd3786"
             ],
             [
              0.5555555555555556,
              "#d8576b"
             ],
             [
              0.6666666666666666,
              "#ed7953"
             ],
             [
              0.7777777777777778,
              "#fb9f3a"
             ],
             [
              0.8888888888888888,
              "#fdca26"
             ],
             [
              1,
              "#f0f921"
             ]
            ],
            "type": "heatmapgl"
           }
          ],
          "histogram": [
           {
            "marker": {
             "pattern": {
              "fillmode": "overlay",
              "size": 10,
              "solidity": 0.2
             }
            },
            "type": "histogram"
           }
          ],
          "histogram2d": [
           {
            "colorbar": {
             "outlinewidth": 0,
             "ticks": ""
            },
            "colorscale": [
             [
              0,
              "#0d0887"
             ],
             [
              0.1111111111111111,
              "#46039f"
             ],
             [
              0.2222222222222222,
              "#7201a8"
             ],
             [
              0.3333333333333333,
              "#9c179e"
             ],
             [
              0.4444444444444444,
              "#bd3786"
             ],
             [
              0.5555555555555556,
              "#d8576b"
             ],
             [
              0.6666666666666666,
              "#ed7953"
             ],
             [
              0.7777777777777778,
              "#fb9f3a"
             ],
             [
              0.8888888888888888,
              "#fdca26"
             ],
             [
              1,
              "#f0f921"
             ]
            ],
            "type": "histogram2d"
           }
          ],
          "histogram2dcontour": [
           {
            "colorbar": {
             "outlinewidth": 0,
             "ticks": ""
            },
            "colorscale": [
             [
              0,
              "#0d0887"
             ],
             [
              0.1111111111111111,
              "#46039f"
             ],
             [
              0.2222222222222222,
              "#7201a8"
             ],
             [
              0.3333333333333333,
              "#9c179e"
             ],
             [
              0.4444444444444444,
              "#bd3786"
             ],
             [
              0.5555555555555556,
              "#d8576b"
             ],
             [
              0.6666666666666666,
              "#ed7953"
             ],
             [
              0.7777777777777778,
              "#fb9f3a"
             ],
             [
              0.8888888888888888,
              "#fdca26"
             ],
             [
              1,
              "#f0f921"
             ]
            ],
            "type": "histogram2dcontour"
           }
          ],
          "mesh3d": [
           {
            "colorbar": {
             "outlinewidth": 0,
             "ticks": ""
            },
            "type": "mesh3d"
           }
          ],
          "parcoords": [
           {
            "line": {
             "colorbar": {
              "outlinewidth": 0,
              "ticks": ""
             }
            },
            "type": "parcoords"
           }
          ],
          "pie": [
           {
            "automargin": true,
            "type": "pie"
           }
          ],
          "scatter": [
           {
            "fillpattern": {
             "fillmode": "overlay",
             "size": 10,
             "solidity": 0.2
            },
            "type": "scatter"
           }
          ],
          "scatter3d": [
           {
            "line": {
             "colorbar": {
              "outlinewidth": 0,
              "ticks": ""
             }
            },
            "marker": {
             "colorbar": {
              "outlinewidth": 0,
              "ticks": ""
             }
            },
            "type": "scatter3d"
           }
          ],
          "scattercarpet": [
           {
            "marker": {
             "colorbar": {
              "outlinewidth": 0,
              "ticks": ""
             }
            },
            "type": "scattercarpet"
           }
          ],
          "scattergeo": [
           {
            "marker": {
             "colorbar": {
              "outlinewidth": 0,
              "ticks": ""
             }
            },
            "type": "scattergeo"
           }
          ],
          "scattergl": [
           {
            "marker": {
             "colorbar": {
              "outlinewidth": 0,
              "ticks": ""
             }
            },
            "type": "scattergl"
           }
          ],
          "scattermapbox": [
           {
            "marker": {
             "colorbar": {
              "outlinewidth": 0,
              "ticks": ""
             }
            },
            "type": "scattermapbox"
           }
          ],
          "scatterpolar": [
           {
            "marker": {
             "colorbar": {
              "outlinewidth": 0,
              "ticks": ""
             }
            },
            "type": "scatterpolar"
           }
          ],
          "scatterpolargl": [
           {
            "marker": {
             "colorbar": {
              "outlinewidth": 0,
              "ticks": ""
             }
            },
            "type": "scatterpolargl"
           }
          ],
          "scatterternary": [
           {
            "marker": {
             "colorbar": {
              "outlinewidth": 0,
              "ticks": ""
             }
            },
            "type": "scatterternary"
           }
          ],
          "surface": [
           {
            "colorbar": {
             "outlinewidth": 0,
             "ticks": ""
            },
            "colorscale": [
             [
              0,
              "#0d0887"
             ],
             [
              0.1111111111111111,
              "#46039f"
             ],
             [
              0.2222222222222222,
              "#7201a8"
             ],
             [
              0.3333333333333333,
              "#9c179e"
             ],
             [
              0.4444444444444444,
              "#bd3786"
             ],
             [
              0.5555555555555556,
              "#d8576b"
             ],
             [
              0.6666666666666666,
              "#ed7953"
             ],
             [
              0.7777777777777778,
              "#fb9f3a"
             ],
             [
              0.8888888888888888,
              "#fdca26"
             ],
             [
              1,
              "#f0f921"
             ]
            ],
            "type": "surface"
           }
          ],
          "table": [
           {
            "cells": {
             "fill": {
              "color": "#EBF0F8"
             },
             "line": {
              "color": "white"
             }
            },
            "header": {
             "fill": {
              "color": "#C8D4E3"
             },
             "line": {
              "color": "white"
             }
            },
            "type": "table"
           }
          ]
         },
         "layout": {
          "annotationdefaults": {
           "arrowcolor": "#2a3f5f",
           "arrowhead": 0,
           "arrowwidth": 1
          },
          "autotypenumbers": "strict",
          "coloraxis": {
           "colorbar": {
            "outlinewidth": 0,
            "ticks": ""
           }
          },
          "colorscale": {
           "diverging": [
            [
             0,
             "#8e0152"
            ],
            [
             0.1,
             "#c51b7d"
            ],
            [
             0.2,
             "#de77ae"
            ],
            [
             0.3,
             "#f1b6da"
            ],
            [
             0.4,
             "#fde0ef"
            ],
            [
             0.5,
             "#f7f7f7"
            ],
            [
             0.6,
             "#e6f5d0"
            ],
            [
             0.7,
             "#b8e186"
            ],
            [
             0.8,
             "#7fbc41"
            ],
            [
             0.9,
             "#4d9221"
            ],
            [
             1,
             "#276419"
            ]
           ],
           "sequential": [
            [
             0,
             "#0d0887"
            ],
            [
             0.1111111111111111,
             "#46039f"
            ],
            [
             0.2222222222222222,
             "#7201a8"
            ],
            [
             0.3333333333333333,
             "#9c179e"
            ],
            [
             0.4444444444444444,
             "#bd3786"
            ],
            [
             0.5555555555555556,
             "#d8576b"
            ],
            [
             0.6666666666666666,
             "#ed7953"
            ],
            [
             0.7777777777777778,
             "#fb9f3a"
            ],
            [
             0.8888888888888888,
             "#fdca26"
            ],
            [
             1,
             "#f0f921"
            ]
           ],
           "sequentialminus": [
            [
             0,
             "#0d0887"
            ],
            [
             0.1111111111111111,
             "#46039f"
            ],
            [
             0.2222222222222222,
             "#7201a8"
            ],
            [
             0.3333333333333333,
             "#9c179e"
            ],
            [
             0.4444444444444444,
             "#bd3786"
            ],
            [
             0.5555555555555556,
             "#d8576b"
            ],
            [
             0.6666666666666666,
             "#ed7953"
            ],
            [
             0.7777777777777778,
             "#fb9f3a"
            ],
            [
             0.8888888888888888,
             "#fdca26"
            ],
            [
             1,
             "#f0f921"
            ]
           ]
          },
          "colorway": [
           "#636efa",
           "#EF553B",
           "#00cc96",
           "#ab63fa",
           "#FFA15A",
           "#19d3f3",
           "#FF6692",
           "#B6E880",
           "#FF97FF",
           "#FECB52"
          ],
          "font": {
           "color": "#2a3f5f"
          },
          "geo": {
           "bgcolor": "white",
           "lakecolor": "white",
           "landcolor": "#E5ECF6",
           "showlakes": true,
           "showland": true,
           "subunitcolor": "white"
          },
          "hoverlabel": {
           "align": "left"
          },
          "hovermode": "closest",
          "mapbox": {
           "style": "light"
          },
          "paper_bgcolor": "white",
          "plot_bgcolor": "#E5ECF6",
          "polar": {
           "angularaxis": {
            "gridcolor": "white",
            "linecolor": "white",
            "ticks": ""
           },
           "bgcolor": "#E5ECF6",
           "radialaxis": {
            "gridcolor": "white",
            "linecolor": "white",
            "ticks": ""
           }
          },
          "scene": {
           "xaxis": {
            "backgroundcolor": "#E5ECF6",
            "gridcolor": "white",
            "gridwidth": 2,
            "linecolor": "white",
            "showbackground": true,
            "ticks": "",
            "zerolinecolor": "white"
           },
           "yaxis": {
            "backgroundcolor": "#E5ECF6",
            "gridcolor": "white",
            "gridwidth": 2,
            "linecolor": "white",
            "showbackground": true,
            "ticks": "",
            "zerolinecolor": "white"
           },
           "zaxis": {
            "backgroundcolor": "#E5ECF6",
            "gridcolor": "white",
            "gridwidth": 2,
            "linecolor": "white",
            "showbackground": true,
            "ticks": "",
            "zerolinecolor": "white"
           }
          },
          "shapedefaults": {
           "line": {
            "color": "#2a3f5f"
           }
          },
          "ternary": {
           "aaxis": {
            "gridcolor": "white",
            "linecolor": "white",
            "ticks": ""
           },
           "baxis": {
            "gridcolor": "white",
            "linecolor": "white",
            "ticks": ""
           },
           "bgcolor": "#E5ECF6",
           "caxis": {
            "gridcolor": "white",
            "linecolor": "white",
            "ticks": ""
           }
          },
          "title": {
           "x": 0.05
          },
          "xaxis": {
           "automargin": true,
           "gridcolor": "white",
           "linecolor": "white",
           "ticks": "",
           "title": {
            "standoff": 15
           },
           "zerolinecolor": "white",
           "zerolinewidth": 2
          },
          "yaxis": {
           "automargin": true,
           "gridcolor": "white",
           "linecolor": "white",
           "ticks": "",
           "title": {
            "standoff": 15
           },
           "zerolinecolor": "white",
           "zerolinewidth": 2
          }
         }
        },
        "title": {
         "text": "Interactive Stacked Bar Chart of Number of Injury Hospitalisations by Cause, Age Group Australia, 2022–23"
        },
        "xaxis": {
         "anchor": "y",
         "categoryarray": [
          "0–4",
          "5–9",
          "10–14",
          "15–19",
          "20–24",
          "25–29",
          "30–34",
          "35–39",
          "40–44",
          "45–49",
          "50–54",
          "55–59",
          "60–64",
          "65–69",
          "70–74",
          "75–79",
          "80–84",
          "85–89",
          "90–94",
          "95+"
         ],
         "categoryorder": "array",
         "domain": [
          0,
          1
         ],
         "title": {
          "text": "Age Group"
         }
        },
        "yaxis": {
         "anchor": "x",
         "domain": [
          0,
          1
         ],
         "title": {
          "text": "Number of Cases"
         }
        }
       }
      }
     },
     "metadata": {},
     "output_type": "display_data"
    }
   ],
   "source": [
    "import plotly.express as px\n",
    "\n",
    "# Define a custom list of 15 distinct colors\n",
    "custom_colors = [\n",
    "    '#FF6347', '#4682B4','#FF1493', '#32CD32', '#FFD700', '#8A2BE2', '#A52A2A', '#FF8C00' ,\n",
    "      '#6A5ACD', '#98FB98', '#D2691E', '#C71585', '#40E0D0', '#00BFFF','#000000'\n",
    "]\n",
    "\n",
    "# Group data\n",
    "grouped = h1.groupby(['Age Group', 'Injury Type'], as_index=False)['Number of Cases'].sum()\n",
    "\n",
    "# Data\n",
    "age_groups = ['0–4', '5–9', '10–14', '15–19', '20–24', '25–29', '30–34', '35–39', '40–44', \n",
    "              '45–49', '50–54', '55–59', '60–64', '65–69', '70–74', '75–79', '80–84', '85–89', \n",
    "              '90–94', '95+']\n",
    "\n",
    "# Add a new column 'Label' to assign a specific number to each age group\n",
    "label_mapping = {age_groups[i]: i+1 for i in range(len(age_groups))}\n",
    "grouped['Label'] = grouped['Age Group'].map(label_mapping)\n",
    "\n",
    "# Sort the DataFrame by 'Label'\n",
    "grouped = grouped.sort_values(by='Label').reset_index(drop=True)\n",
    "\n",
    "# Get unique injury types\n",
    "injury_types = grouped['Injury Type'].unique()\n",
    "\n",
    "# Generate a distinct color palette\n",
    "color_palette = px.colors.qualitative.Set1  # You can use different color sets like Set1, Set2, etc.\n",
    "\n",
    "# Ensure the color palette is large enough to cover all Injury Types\n",
    "if len(injury_types) > len(color_palette):\n",
    "    color_palette = px.colors.qualitative.Plotly  # You can switch to a larger palette if needed\n",
    "\n",
    "# Create interactive stacked bar chart\n",
    "fig = px.bar(\n",
    "    grouped,\n",
    "    x='Age Group',\n",
    "    y='Number of Cases',\n",
    "    color='Injury Type',\n",
    "    title=\"Interactive Stacked Bar Chart of Number of Injury Hospitalisations by Cause, Age Group Australia, 2022–23\",\n",
    "    color_discrete_sequence=custom_colors\n",
    ")\n",
    "\n",
    "# Update layout for better spacing\n",
    "fig.update_layout(barmode='stack', xaxis=dict(\n",
    "        categoryorder='array',\n",
    "        categoryarray=age_groups  # Explicitly set the order of age groups\n",
    "    ))\n",
    "\n",
    "# Show plot\n",
    "fig.show()\n"
   ]
  },
  {
   "cell_type": "code",
   "execution_count": 267,
   "metadata": {},
   "outputs": [
    {
     "data": {
      "text/plain": [
       "array(['Accidental poisoning', 'Transport', 'Thermal causes',\n",
       "       'Overexertion', 'Other unintentional causes',\n",
       "       'Intentional self-harm', 'Forces of nature', 'Undetermined intent',\n",
       "       'Electricity and air pressure', 'Drowning and submersion',\n",
       "       'Contact with objects', 'Contact with living things',\n",
       "       'Choking and suffocation', 'Assault', 'Falls'], dtype=object)"
      ]
     },
     "execution_count": 267,
     "metadata": {},
     "output_type": "execute_result"
    }
   ],
   "source": [
    "injury_types"
   ]
  },
  {
   "cell_type": "code",
   "execution_count": 268,
   "metadata": {},
   "outputs": [],
   "source": [
    "fig.write_html(\"injures_by_age_causes_stacked_bar_chart.html\")"
   ]
  },
  {
   "cell_type": "code",
   "execution_count": 269,
   "metadata": {},
   "outputs": [
    {
     "data": {
      "application/vnd.plotly.v1+json": {
       "config": {
        "plotlyServerURL": "https://plot.ly"
       },
       "data": [
        {
         "alignmentgroup": "True",
         "hovertemplate": "Injury Type=Accidental poisoning<br>Age Group=%{x}<br>Percentage=%{y}<extra></extra>",
         "legendgroup": "Accidental poisoning",
         "marker": {
          "color": "#FF6347",
          "pattern": {
           "shape": ""
          }
         },
         "name": "Accidental poisoning",
         "offsetgroup": "Accidental poisoning",
         "orientation": "v",
         "showlegend": true,
         "textposition": "auto",
         "type": "bar",
         "x": [
          "0–4",
          "5–9",
          "10–14",
          "15–19",
          "20–24",
          "25–29",
          "30–34",
          "35–39",
          "40–44",
          "45–49",
          "50–54",
          "55–59",
          "60–64",
          "65–69",
          "70–74",
          "75–79",
          "80–84",
          "85–89",
          "90–94",
          "95+"
         ],
         "xaxis": "x",
         "y": [
          0.059817210926268224,
          0.013048569676016282,
          0.007961041710777049,
          0.011742379314434824,
          0.017089590885551526,
          0.01932452796737878,
          0.02076484947111473,
          0.021489167776765055,
          0.021239592969472712,
          0.01935434516523868,
          0.016682785299806577,
          0.015334797335020658,
          0.013933963595315365,
          0.01476490297875474,
          0.013049195805374786,
          0.011980162523900573,
          0.011515417214671928,
          0.009079118028534372,
          0.006702769886363636,
          0.00425531914893617
         ],
         "yaxis": "y"
        },
        {
         "alignmentgroup": "True",
         "hovertemplate": "Injury Type=Transport<br>Age Group=%{x}<br>Percentage=%{y}<extra></extra>",
         "legendgroup": "Transport",
         "marker": {
          "color": "#4682B4",
          "pattern": {
           "shape": ""
          }
         },
         "name": "Transport",
         "offsetgroup": "Transport",
         "orientation": "v",
         "showlegend": true,
         "textposition": "auto",
         "type": "bar",
         "x": [
          "0–4",
          "5–9",
          "10–14",
          "15–19",
          "20–24",
          "25–29",
          "30–34",
          "35–39",
          "40–44",
          "45–49",
          "50–54",
          "55–59",
          "60–64",
          "65–69",
          "70–74",
          "75–79",
          "80–84",
          "85–89",
          "90–94",
          "95+"
         ],
         "xaxis": "x",
         "y": [
          0.03522283836516739,
          0.09122846149556683,
          0.17425365233961465,
          0.17830032024670858,
          0.16666666666666666,
          0.15356203646248856,
          0.1571033360455655,
          0.1520367384140784,
          0.15500462534690101,
          0.15556150550795594,
          0.14634567560099476,
          0.13659880150370343,
          0.11697474248624241,
          0.09580617843072278,
          0.07435006912364703,
          0.05201362332695985,
          0.03983632909542598,
          0.024581557655487616,
          0.013449928977272728,
          0.008395629672225418
         ],
         "yaxis": "y"
        },
        {
         "alignmentgroup": "True",
         "hovertemplate": "Injury Type=Thermal causes<br>Age Group=%{x}<br>Percentage=%{y}<extra></extra>",
         "legendgroup": "Thermal causes",
         "marker": {
          "color": "#FF1493",
          "pattern": {
           "shape": ""
          }
         },
         "name": "Thermal causes",
         "offsetgroup": "Thermal causes",
         "orientation": "v",
         "showlegend": true,
         "textposition": "auto",
         "type": "bar",
         "x": [
          "0–4",
          "5–9",
          "10–14",
          "15–19",
          "20–24",
          "25–29",
          "30–34",
          "35–39",
          "40–44",
          "45–49",
          "50–54",
          "55–59",
          "60–64",
          "65–69",
          "70–74",
          "75–79",
          "80–84",
          "85–89",
          "90–94",
          "95+"
         ],
         "xaxis": "x",
         "y": [
          0.05950913945368659,
          0.01806725032063793,
          0.009527842473004446,
          0.006997983631834895,
          0.008487254732723402,
          0.009012203409863192,
          0.009796582587469488,
          0.009359882212718221,
          0.010471785383903793,
          0.009944920440636475,
          0.011881735285990605,
          0.01038448654483195,
          0.008007619585155919,
          0.0076586030413490925,
          0.006912364703105506,
          0.00433197896749522,
          0.0036241414584246676,
          0.0025322710147612872,
          0.0011985085227272727,
          0.0009200690051753881
         ],
         "yaxis": "y"
        },
        {
         "alignmentgroup": "True",
         "hovertemplate": "Injury Type=Overexertion<br>Age Group=%{x}<br>Percentage=%{y}<extra></extra>",
         "legendgroup": "Overexertion",
         "marker": {
          "color": "#32CD32",
          "pattern": {
           "shape": ""
          }
         },
         "name": "Overexertion",
         "offsetgroup": "Overexertion",
         "orientation": "v",
         "showlegend": true,
         "textposition": "auto",
         "type": "bar",
         "x": [
          "0–4",
          "5–9",
          "10–14",
          "15–19",
          "20–24",
          "25–29",
          "30–34",
          "35–39",
          "40–44",
          "45–49",
          "50–54",
          "55–59",
          "60–64",
          "65–69",
          "70–74",
          "75–79",
          "80–84",
          "85–89",
          "90–94",
          "95+"
         ],
         "xaxis": "x",
         "y": [
          0.0031834052166769358,
          0.007583784085206045,
          0.025238196061825112,
          0.029593168070217057,
          0.03064042810288279,
          0.03655113317377301,
          0.03423921887713588,
          0.037194138680502,
          0.03559666975023127,
          0.034156976744186045,
          0.03108593534125449,
          0.027096438009453976,
          0.02539861718639763,
          0.02279170808939946,
          0.021344033449101393,
          0.018911328871892924,
          0.014847289200642993,
          0.011117287381878822,
          0.0078125,
          0.005980448533640023
         ],
         "yaxis": "y"
        },
        {
         "alignmentgroup": "True",
         "hovertemplate": "Injury Type=Other unintentional causes<br>Age Group=%{x}<br>Percentage=%{y}<extra></extra>",
         "legendgroup": "Other unintentional causes",
         "marker": {
          "color": "#FFD700",
          "pattern": {
           "shape": ""
          }
         },
         "name": "Other unintentional causes",
         "offsetgroup": "Other unintentional causes",
         "orientation": "v",
         "showlegend": true,
         "textposition": "auto",
         "type": "bar",
         "x": [
          "0–4",
          "5–9",
          "10–14",
          "15–19",
          "20–24",
          "25–29",
          "30–34",
          "35–39",
          "40–44",
          "45–49",
          "50–54",
          "55–59",
          "60–64",
          "65–69",
          "70–74",
          "75–79",
          "80–84",
          "85–89",
          "90–94",
          "95+"
         ],
         "xaxis": "x",
         "y": [
          0.06977818853974121,
          0.0586628004237997,
          0.10463688333686216,
          0.17738109358320484,
          0.17757063122158928,
          0.16026947965605887,
          0.15052888527257932,
          0.1526326859706934,
          0.15829787234042553,
          0.1581624847001224,
          0.14289168278529982,
          0.1326534410243049,
          0.11926767320445887,
          0.09753672815641223,
          0.07569882321205786,
          0.05320865200764818,
          0.03752740026304253,
          0.0304798962386511,
          0.02587890625,
          0.02254169062679701
         ],
         "yaxis": "y"
        },
        {
         "alignmentgroup": "True",
         "hovertemplate": "Injury Type=Intentional self-harm<br>Age Group=%{x}<br>Percentage=%{y}<extra></extra>",
         "legendgroup": "Intentional self-harm",
         "marker": {
          "color": "#8A2BE2",
          "pattern": {
           "shape": ""
          }
         },
         "name": "Intentional self-harm",
         "offsetgroup": "Intentional self-harm",
         "orientation": "v",
         "showlegend": true,
         "textposition": "auto",
         "type": "bar",
         "x": [
          "0–4",
          "5–9",
          "10–14",
          "15–19",
          "20–24",
          "25–29",
          "30–34",
          "35–39",
          "40–44",
          "45–49",
          "50–54",
          "55–59",
          "60–64",
          "65–69",
          "70–74",
          "75–79",
          "80–84",
          "85–89",
          "90–94",
          "95+"
         ],
         "xaxis": "x",
         "y": [
          0,
          0,
          0.07359728985814101,
          0.1377950421065117,
          0.09384889809540249,
          0.07850958839346393,
          0.0713100081366965,
          0.0642571688985487,
          0.06072155411655874,
          0.05703029375764994,
          0.05060099474993092,
          0.036810957680425804,
          0.02793847890503739,
          0.01826282263706322,
          0.012981758100954243,
          0.009321223709369025,
          0.005670027765599883,
          0.004107220060527454,
          0.003506747159090909,
          0.0025301897642323176
         ],
         "yaxis": "y"
        },
        {
         "alignmentgroup": "True",
         "hovertemplate": "Injury Type=Forces of nature<br>Age Group=%{x}<br>Percentage=%{y}<extra></extra>",
         "legendgroup": "Forces of nature",
         "marker": {
          "color": "#A52A2A",
          "pattern": {
           "shape": ""
          }
         },
         "name": "Forces of nature",
         "offsetgroup": "Forces of nature",
         "orientation": "v",
         "showlegend": true,
         "textposition": "auto",
         "type": "bar",
         "x": [
          "0–4",
          "5–9",
          "10–14",
          "15–19",
          "20–24",
          "25–29",
          "30–34",
          "35–39",
          "40–44",
          "45–49",
          "50–54",
          "55–59",
          "60–64",
          "65–69",
          "70–74",
          "75–79",
          "80–84",
          "85–89",
          "90–94",
          "95+"
         ],
         "xaxis": "x",
         "y": [
          0.00030807147258163895,
          0,
          0,
          0.001393666231763729,
          0.001294665976178146,
          0.0014478621871583488,
          0.0011716842961757526,
          0.0012620065904788613,
          0.001887141535615171,
          0.0010327417380660954,
          0.0009671179883945841,
          0.0006327464919790077,
          0.0011641032877098914,
          0.0018410103464781473,
          0.0011801598273594768,
          0.0012846558317399618,
          0.0010229431535876078,
          0.0009573219689951207,
          0,
          0
         ],
         "yaxis": "y"
        },
        {
         "alignmentgroup": "True",
         "hovertemplate": "Injury Type=Undetermined intent<br>Age Group=%{x}<br>Percentage=%{y}<extra></extra>",
         "legendgroup": "Undetermined intent",
         "marker": {
          "color": "#FF8C00",
          "pattern": {
           "shape": ""
          }
         },
         "name": "Undetermined intent",
         "offsetgroup": "Undetermined intent",
         "orientation": "v",
         "showlegend": true,
         "textposition": "auto",
         "type": "bar",
         "x": [
          "0–4",
          "5–9",
          "10–14",
          "15–19",
          "20–24",
          "25–29",
          "30–34",
          "35–39",
          "40–44",
          "45–49",
          "50–54",
          "55–59",
          "60–64",
          "65–69",
          "70–74",
          "75–79",
          "80–84",
          "85–89",
          "90–94",
          "95+"
         ],
         "xaxis": "x",
         "y": [
          0.00585335797905114,
          0.005018680644621647,
          0.005377937751429176,
          0.009310876527102361,
          0.01067380171471316,
          0.011494252873563218,
          0.013441822620016274,
          0.012865456075159504,
          0.01209990749306198,
          0.010556915544675643,
          0.007460624481901078,
          0.006215803774146723,
          0.0048680682940595455,
          0.0038293015206745462,
          0.003169572107765452,
          0.0020315487571701723,
          0.0014321204150226508,
          0.001420542276573405,
          0.0011985085227272727,
          0.0010350776308223116
         ],
         "yaxis": "y"
        },
        {
         "alignmentgroup": "True",
         "hovertemplate": "Injury Type=Electricity and air pressure<br>Age Group=%{x}<br>Percentage=%{y}<extra></extra>",
         "legendgroup": "Electricity and air pressure",
         "marker": {
          "color": "#6A5ACD",
          "pattern": {
           "shape": ""
          }
         },
         "name": "Electricity and air pressure",
         "offsetgroup": "Electricity and air pressure",
         "orientation": "v",
         "showlegend": true,
         "textposition": "auto",
         "type": "bar",
         "x": [
          "0–4",
          "5–9",
          "10–14",
          "15–19",
          "20–24",
          "25–29",
          "30–34",
          "35–39",
          "40–44",
          "45–49",
          "50–54",
          "55–59",
          "60–64",
          "65–69",
          "70–74",
          "75–79",
          "80–84",
          "85–89",
          "90–94",
          "95+"
         ],
         "xaxis": "x",
         "y": [
          0.0003594167180119121,
          0,
          0,
          0.0011564464476337326,
          0.0034524426031417228,
          0.0033684957007357502,
          0.002961757526444264,
          0.002313678749211246,
          0.001702127659574468,
          0.001644736842105263,
          0.0014852169107488257,
          0.0011910522201957793,
          0.0011641032877098914,
          0,
          0.0005057827831540614,
          0,
          0,
          0,
          0,
          0
         ],
         "yaxis": "y"
        },
        {
         "alignmentgroup": "True",
         "hovertemplate": "Injury Type=Drowning and submersion<br>Age Group=%{x}<br>Percentage=%{y}<extra></extra>",
         "legendgroup": "Drowning and submersion",
         "marker": {
          "color": "#98FB98",
          "pattern": {
           "shape": ""
          }
         },
         "name": "Drowning and submersion",
         "offsetgroup": "Drowning and submersion",
         "orientation": "v",
         "showlegend": true,
         "textposition": "auto",
         "type": "bar",
         "x": [
          "0–4",
          "5–9",
          "10–14",
          "15–19",
          "20–24",
          "25–29",
          "30–34",
          "35–39",
          "40–44",
          "45–49",
          "50–54",
          "55–59",
          "60–64",
          "65–69",
          "70–74",
          "75–79",
          "80–84",
          "85–89",
          "90–94",
          "95+"
         ],
         "xaxis": "x",
         "y": [
          0.009293489422879442,
          0.0031227346233201362,
          0.0013127249629472793,
          0,
          0,
          0,
          0,
          0,
          0.00022201665124884365,
          0.0004972460220318238,
          0.00027631942525559546,
          0,
          0,
          0.00062594351780257,
          0.00020231311326162458,
          0.0002390057361376673,
          0,
          0,
          0,
          0
         ],
         "yaxis": "y"
        },
        {
         "alignmentgroup": "True",
         "hovertemplate": "Injury Type=Contact with objects<br>Age Group=%{x}<br>Percentage=%{y}<extra></extra>",
         "legendgroup": "Contact with objects",
         "marker": {
          "color": "#D2691E",
          "pattern": {
           "shape": ""
          }
         },
         "name": "Contact with objects",
         "offsetgroup": "Contact with objects",
         "orientation": "v",
         "showlegend": true,
         "textposition": "auto",
         "type": "bar",
         "x": [
          "0–4",
          "5–9",
          "10–14",
          "15–19",
          "20–24",
          "25–29",
          "30–34",
          "35–39",
          "40–44",
          "45–49",
          "50–54",
          "55–59",
          "60–64",
          "65–69",
          "70–74",
          "75–79",
          "80–84",
          "85–89",
          "90–94",
          "95+"
         ],
         "xaxis": "x",
         "y": [
          0.24455740398439105,
          0.23030167846986002,
          0.16680076222739784,
          0.1673585577037125,
          0.19445882962195754,
          0.20524185208167126,
          0.20898291293734744,
          0.20360372993058964,
          0.19570767807585568,
          0.18099755201958384,
          0.1674841116330478,
          0.1568839096289128,
          0.14145618738535345,
          0.12146986266062815,
          0.09211990423845973,
          0.0642626673040153,
          0.041589945930147594,
          0.029429930208140324,
          0.02215021306818182,
          0.017941345600920068
         ],
         "yaxis": "y"
        },
        {
         "alignmentgroup": "True",
         "hovertemplate": "Injury Type=Contact with living things<br>Age Group=%{x}<br>Percentage=%{y}<extra></extra>",
         "legendgroup": "Contact with living things",
         "marker": {
          "color": "#C71585",
          "pattern": {
           "shape": ""
          }
         },
         "name": "Contact with living things",
         "offsetgroup": "Contact with living things",
         "orientation": "v",
         "showlegend": true,
         "textposition": "auto",
         "type": "bar",
         "x": [
          "0–4",
          "5–9",
          "10–14",
          "15–19",
          "20–24",
          "25–29",
          "30–34",
          "35–39",
          "40–44",
          "45–49",
          "50–54",
          "55–59",
          "60–64",
          "65–69",
          "70–74",
          "75–79",
          "80–84",
          "85–89",
          "90–94",
          "95+"
         ],
         "xaxis": "x",
         "y": [
          0.061511604025467244,
          0.07589360397033403,
          0.09570188439551133,
          0.08492468271853873,
          0.082484607860061,
          0.08158260201518779,
          0.07316517493897477,
          0.07200448713454392,
          0.06838112858464385,
          0.07187117503059975,
          0.06952887537993921,
          0.06081810399374698,
          0.05287850994779173,
          0.04657756176589713,
          0.032639848939542096,
          0.02372131931166348,
          0.013678211310828584,
          0.007720338459638071,
          0.005193536931818182,
          0.002875215641173088
         ],
         "yaxis": "y"
        },
        {
         "alignmentgroup": "True",
         "hovertemplate": "Injury Type=Choking and suffocation<br>Age Group=%{x}<br>Percentage=%{y}<extra></extra>",
         "legendgroup": "Choking and suffocation",
         "marker": {
          "color": "#40E0D0",
          "pattern": {
           "shape": ""
          }
         },
         "name": "Choking and suffocation",
         "offsetgroup": "Choking and suffocation",
         "orientation": "v",
         "showlegend": true,
         "textposition": "auto",
         "type": "bar",
         "x": [
          "0–4",
          "5–9",
          "10–14",
          "15–19",
          "20–24",
          "25–29",
          "30–34",
          "35–39",
          "40–44",
          "45–49",
          "50–54",
          "55–59",
          "60–64",
          "65–69",
          "70–74",
          "75–79",
          "80–84",
          "85–89",
          "90–94",
          "95+"
         ],
         "xaxis": "x",
         "y": [
          0.016481823783117685,
          0.0030669715050465622,
          0.0011433410967605336,
          0.0008895741904874866,
          0.0007767995857068876,
          0.0013592175634547766,
          0.0014320585842148089,
          0.0017878426698450535,
          0.0015911193339500462,
          0.002524479804161567,
          0.002555954683614258,
          0.0024937655860349127,
          0.0036334132919429944,
          0.003350638830590228,
          0.003034696698924369,
          0.0034357074569789673,
          0.0022797018851380972,
          0.001544067691927614,
          0.0015980113636363637,
          0.0018401380103507763
         ],
         "yaxis": "y"
        },
        {
         "alignmentgroup": "True",
         "hovertemplate": "Injury Type=Assault<br>Age Group=%{x}<br>Percentage=%{y}<extra></extra>",
         "legendgroup": "Assault",
         "marker": {
          "color": "#00BFFF",
          "pattern": {
           "shape": ""
          }
         },
         "name": "Assault",
         "offsetgroup": "Assault",
         "orientation": "v",
         "showlegend": true,
         "textposition": "auto",
         "type": "bar",
         "x": [
          "0–4",
          "5–9",
          "10–14",
          "15–19",
          "20–24",
          "25–29",
          "30–34",
          "35–39",
          "40–44",
          "45–49",
          "50–54",
          "55–59",
          "60–64",
          "65–69",
          "70–74",
          "75–79",
          "80–84",
          "85–89",
          "90–94",
          "95+"
         ],
         "xaxis": "x",
         "y": [
          0.009242144177449169,
          0.0048513912898009255,
          0.01727715435104806,
          0.047414304352983036,
          0.07048736981414351,
          0.08140531276778064,
          0.08969894222945485,
          0.09075930729860478,
          0.08196114708603146,
          0.06479498164014688,
          0.04939209726443769,
          0.030260170469349014,
          0.0182023423169183,
          0.012113848079826208,
          0.0077890548605725465,
          0.004302103250478011,
          0.003536460616688587,
          0.003273423506886542,
          0.0016867897727272727,
          0.002185163887291547
         ],
         "yaxis": "y"
        },
        {
         "alignmentgroup": "True",
         "hovertemplate": "Injury Type=Falls<br>Age Group=%{x}<br>Percentage=%{y}<extra></extra>",
         "legendgroup": "Falls",
         "marker": {
          "color": "#000000",
          "pattern": {
           "shape": ""
          }
         },
         "name": "Falls",
         "offsetgroup": "Falls",
         "orientation": "v",
         "showlegend": true,
         "textposition": "auto",
         "type": "bar",
         "x": [
          "0–4",
          "5–9",
          "10–14",
          "15–19",
          "20–24",
          "25–29",
          "30–34",
          "35–39",
          "40–44",
          "45–49",
          "50–54",
          "55–59",
          "60–64",
          "65–69",
          "70–74",
          "75–79",
          "80–84",
          "85–89",
          "90–94",
          "95+"
         ],
         "xaxis": "x",
         "y": [
          0.4248819059355104,
          0.4891540734957899,
          0.31717128943468137,
          0.14574190487486657,
          0.14206801311928188,
          0.1568714357474219,
          0.1654027664768104,
          0.17843370959826124,
          0.19511563367252543,
          0.23186964504283966,
          0.3013608731693838,
          0.38262552573789405,
          0.4651121772259066,
          0.5533708899444015,
          0.6550224230367199,
          0.7509560229445507,
          0.8234400116907789,
          0.8737570255079983,
          0.9096235795454546,
          0.9294997124784359
         ],
         "yaxis": "y"
        }
       ],
       "layout": {
        "barmode": "stack",
        "legend": {
         "title": {
          "text": "Injury Type"
         },
         "tracegroupgap": 0
        },
        "template": {
         "data": {
          "bar": [
           {
            "error_x": {
             "color": "#2a3f5f"
            },
            "error_y": {
             "color": "#2a3f5f"
            },
            "marker": {
             "line": {
              "color": "#E5ECF6",
              "width": 0.5
             },
             "pattern": {
              "fillmode": "overlay",
              "size": 10,
              "solidity": 0.2
             }
            },
            "type": "bar"
           }
          ],
          "barpolar": [
           {
            "marker": {
             "line": {
              "color": "#E5ECF6",
              "width": 0.5
             },
             "pattern": {
              "fillmode": "overlay",
              "size": 10,
              "solidity": 0.2
             }
            },
            "type": "barpolar"
           }
          ],
          "carpet": [
           {
            "aaxis": {
             "endlinecolor": "#2a3f5f",
             "gridcolor": "white",
             "linecolor": "white",
             "minorgridcolor": "white",
             "startlinecolor": "#2a3f5f"
            },
            "baxis": {
             "endlinecolor": "#2a3f5f",
             "gridcolor": "white",
             "linecolor": "white",
             "minorgridcolor": "white",
             "startlinecolor": "#2a3f5f"
            },
            "type": "carpet"
           }
          ],
          "choropleth": [
           {
            "colorbar": {
             "outlinewidth": 0,
             "ticks": ""
            },
            "type": "choropleth"
           }
          ],
          "contour": [
           {
            "colorbar": {
             "outlinewidth": 0,
             "ticks": ""
            },
            "colorscale": [
             [
              0,
              "#0d0887"
             ],
             [
              0.1111111111111111,
              "#46039f"
             ],
             [
              0.2222222222222222,
              "#7201a8"
             ],
             [
              0.3333333333333333,
              "#9c179e"
             ],
             [
              0.4444444444444444,
              "#bd3786"
             ],
             [
              0.5555555555555556,
              "#d8576b"
             ],
             [
              0.6666666666666666,
              "#ed7953"
             ],
             [
              0.7777777777777778,
              "#fb9f3a"
             ],
             [
              0.8888888888888888,
              "#fdca26"
             ],
             [
              1,
              "#f0f921"
             ]
            ],
            "type": "contour"
           }
          ],
          "contourcarpet": [
           {
            "colorbar": {
             "outlinewidth": 0,
             "ticks": ""
            },
            "type": "contourcarpet"
           }
          ],
          "heatmap": [
           {
            "colorbar": {
             "outlinewidth": 0,
             "ticks": ""
            },
            "colorscale": [
             [
              0,
              "#0d0887"
             ],
             [
              0.1111111111111111,
              "#46039f"
             ],
             [
              0.2222222222222222,
              "#7201a8"
             ],
             [
              0.3333333333333333,
              "#9c179e"
             ],
             [
              0.4444444444444444,
              "#bd3786"
             ],
             [
              0.5555555555555556,
              "#d8576b"
             ],
             [
              0.6666666666666666,
              "#ed7953"
             ],
             [
              0.7777777777777778,
              "#fb9f3a"
             ],
             [
              0.8888888888888888,
              "#fdca26"
             ],
             [
              1,
              "#f0f921"
             ]
            ],
            "type": "heatmap"
           }
          ],
          "heatmapgl": [
           {
            "colorbar": {
             "outlinewidth": 0,
             "ticks": ""
            },
            "colorscale": [
             [
              0,
              "#0d0887"
             ],
             [
              0.1111111111111111,
              "#46039f"
             ],
             [
              0.2222222222222222,
              "#7201a8"
             ],
             [
              0.3333333333333333,
              "#9c179e"
             ],
             [
              0.4444444444444444,
              "#bd3786"
             ],
             [
              0.5555555555555556,
              "#d8576b"
             ],
             [
              0.6666666666666666,
              "#ed7953"
             ],
             [
              0.7777777777777778,
              "#fb9f3a"
             ],
             [
              0.8888888888888888,
              "#fdca26"
             ],
             [
              1,
              "#f0f921"
             ]
            ],
            "type": "heatmapgl"
           }
          ],
          "histogram": [
           {
            "marker": {
             "pattern": {
              "fillmode": "overlay",
              "size": 10,
              "solidity": 0.2
             }
            },
            "type": "histogram"
           }
          ],
          "histogram2d": [
           {
            "colorbar": {
             "outlinewidth": 0,
             "ticks": ""
            },
            "colorscale": [
             [
              0,
              "#0d0887"
             ],
             [
              0.1111111111111111,
              "#46039f"
             ],
             [
              0.2222222222222222,
              "#7201a8"
             ],
             [
              0.3333333333333333,
              "#9c179e"
             ],
             [
              0.4444444444444444,
              "#bd3786"
             ],
             [
              0.5555555555555556,
              "#d8576b"
             ],
             [
              0.6666666666666666,
              "#ed7953"
             ],
             [
              0.7777777777777778,
              "#fb9f3a"
             ],
             [
              0.8888888888888888,
              "#fdca26"
             ],
             [
              1,
              "#f0f921"
             ]
            ],
            "type": "histogram2d"
           }
          ],
          "histogram2dcontour": [
           {
            "colorbar": {
             "outlinewidth": 0,
             "ticks": ""
            },
            "colorscale": [
             [
              0,
              "#0d0887"
             ],
             [
              0.1111111111111111,
              "#46039f"
             ],
             [
              0.2222222222222222,
              "#7201a8"
             ],
             [
              0.3333333333333333,
              "#9c179e"
             ],
             [
              0.4444444444444444,
              "#bd3786"
             ],
             [
              0.5555555555555556,
              "#d8576b"
             ],
             [
              0.6666666666666666,
              "#ed7953"
             ],
             [
              0.7777777777777778,
              "#fb9f3a"
             ],
             [
              0.8888888888888888,
              "#fdca26"
             ],
             [
              1,
              "#f0f921"
             ]
            ],
            "type": "histogram2dcontour"
           }
          ],
          "mesh3d": [
           {
            "colorbar": {
             "outlinewidth": 0,
             "ticks": ""
            },
            "type": "mesh3d"
           }
          ],
          "parcoords": [
           {
            "line": {
             "colorbar": {
              "outlinewidth": 0,
              "ticks": ""
             }
            },
            "type": "parcoords"
           }
          ],
          "pie": [
           {
            "automargin": true,
            "type": "pie"
           }
          ],
          "scatter": [
           {
            "fillpattern": {
             "fillmode": "overlay",
             "size": 10,
             "solidity": 0.2
            },
            "type": "scatter"
           }
          ],
          "scatter3d": [
           {
            "line": {
             "colorbar": {
              "outlinewidth": 0,
              "ticks": ""
             }
            },
            "marker": {
             "colorbar": {
              "outlinewidth": 0,
              "ticks": ""
             }
            },
            "type": "scatter3d"
           }
          ],
          "scattercarpet": [
           {
            "marker": {
             "colorbar": {
              "outlinewidth": 0,
              "ticks": ""
             }
            },
            "type": "scattercarpet"
           }
          ],
          "scattergeo": [
           {
            "marker": {
             "colorbar": {
              "outlinewidth": 0,
              "ticks": ""
             }
            },
            "type": "scattergeo"
           }
          ],
          "scattergl": [
           {
            "marker": {
             "colorbar": {
              "outlinewidth": 0,
              "ticks": ""
             }
            },
            "type": "scattergl"
           }
          ],
          "scattermapbox": [
           {
            "marker": {
             "colorbar": {
              "outlinewidth": 0,
              "ticks": ""
             }
            },
            "type": "scattermapbox"
           }
          ],
          "scatterpolar": [
           {
            "marker": {
             "colorbar": {
              "outlinewidth": 0,
              "ticks": ""
             }
            },
            "type": "scatterpolar"
           }
          ],
          "scatterpolargl": [
           {
            "marker": {
             "colorbar": {
              "outlinewidth": 0,
              "ticks": ""
             }
            },
            "type": "scatterpolargl"
           }
          ],
          "scatterternary": [
           {
            "marker": {
             "colorbar": {
              "outlinewidth": 0,
              "ticks": ""
             }
            },
            "type": "scatterternary"
           }
          ],
          "surface": [
           {
            "colorbar": {
             "outlinewidth": 0,
             "ticks": ""
            },
            "colorscale": [
             [
              0,
              "#0d0887"
             ],
             [
              0.1111111111111111,
              "#46039f"
             ],
             [
              0.2222222222222222,
              "#7201a8"
             ],
             [
              0.3333333333333333,
              "#9c179e"
             ],
             [
              0.4444444444444444,
              "#bd3786"
             ],
             [
              0.5555555555555556,
              "#d8576b"
             ],
             [
              0.6666666666666666,
              "#ed7953"
             ],
             [
              0.7777777777777778,
              "#fb9f3a"
             ],
             [
              0.8888888888888888,
              "#fdca26"
             ],
             [
              1,
              "#f0f921"
             ]
            ],
            "type": "surface"
           }
          ],
          "table": [
           {
            "cells": {
             "fill": {
              "color": "#EBF0F8"
             },
             "line": {
              "color": "white"
             }
            },
            "header": {
             "fill": {
              "color": "#C8D4E3"
             },
             "line": {
              "color": "white"
             }
            },
            "type": "table"
           }
          ]
         },
         "layout": {
          "annotationdefaults": {
           "arrowcolor": "#2a3f5f",
           "arrowhead": 0,
           "arrowwidth": 1
          },
          "autotypenumbers": "strict",
          "coloraxis": {
           "colorbar": {
            "outlinewidth": 0,
            "ticks": ""
           }
          },
          "colorscale": {
           "diverging": [
            [
             0,
             "#8e0152"
            ],
            [
             0.1,
             "#c51b7d"
            ],
            [
             0.2,
             "#de77ae"
            ],
            [
             0.3,
             "#f1b6da"
            ],
            [
             0.4,
             "#fde0ef"
            ],
            [
             0.5,
             "#f7f7f7"
            ],
            [
             0.6,
             "#e6f5d0"
            ],
            [
             0.7,
             "#b8e186"
            ],
            [
             0.8,
             "#7fbc41"
            ],
            [
             0.9,
             "#4d9221"
            ],
            [
             1,
             "#276419"
            ]
           ],
           "sequential": [
            [
             0,
             "#0d0887"
            ],
            [
             0.1111111111111111,
             "#46039f"
            ],
            [
             0.2222222222222222,
             "#7201a8"
            ],
            [
             0.3333333333333333,
             "#9c179e"
            ],
            [
             0.4444444444444444,
             "#bd3786"
            ],
            [
             0.5555555555555556,
             "#d8576b"
            ],
            [
             0.6666666666666666,
             "#ed7953"
            ],
            [
             0.7777777777777778,
             "#fb9f3a"
            ],
            [
             0.8888888888888888,
             "#fdca26"
            ],
            [
             1,
             "#f0f921"
            ]
           ],
           "sequentialminus": [
            [
             0,
             "#0d0887"
            ],
            [
             0.1111111111111111,
             "#46039f"
            ],
            [
             0.2222222222222222,
             "#7201a8"
            ],
            [
             0.3333333333333333,
             "#9c179e"
            ],
            [
             0.4444444444444444,
             "#bd3786"
            ],
            [
             0.5555555555555556,
             "#d8576b"
            ],
            [
             0.6666666666666666,
             "#ed7953"
            ],
            [
             0.7777777777777778,
             "#fb9f3a"
            ],
            [
             0.8888888888888888,
             "#fdca26"
            ],
            [
             1,
             "#f0f921"
            ]
           ]
          },
          "colorway": [
           "#636efa",
           "#EF553B",
           "#00cc96",
           "#ab63fa",
           "#FFA15A",
           "#19d3f3",
           "#FF6692",
           "#B6E880",
           "#FF97FF",
           "#FECB52"
          ],
          "font": {
           "color": "#2a3f5f"
          },
          "geo": {
           "bgcolor": "white",
           "lakecolor": "white",
           "landcolor": "#E5ECF6",
           "showlakes": true,
           "showland": true,
           "subunitcolor": "white"
          },
          "hoverlabel": {
           "align": "left"
          },
          "hovermode": "closest",
          "mapbox": {
           "style": "light"
          },
          "paper_bgcolor": "white",
          "plot_bgcolor": "#E5ECF6",
          "polar": {
           "angularaxis": {
            "gridcolor": "white",
            "linecolor": "white",
            "ticks": ""
           },
           "bgcolor": "#E5ECF6",
           "radialaxis": {
            "gridcolor": "white",
            "linecolor": "white",
            "ticks": ""
           }
          },
          "scene": {
           "xaxis": {
            "backgroundcolor": "#E5ECF6",
            "gridcolor": "white",
            "gridwidth": 2,
            "linecolor": "white",
            "showbackground": true,
            "ticks": "",
            "zerolinecolor": "white"
           },
           "yaxis": {
            "backgroundcolor": "#E5ECF6",
            "gridcolor": "white",
            "gridwidth": 2,
            "linecolor": "white",
            "showbackground": true,
            "ticks": "",
            "zerolinecolor": "white"
           },
           "zaxis": {
            "backgroundcolor": "#E5ECF6",
            "gridcolor": "white",
            "gridwidth": 2,
            "linecolor": "white",
            "showbackground": true,
            "ticks": "",
            "zerolinecolor": "white"
           }
          },
          "shapedefaults": {
           "line": {
            "color": "#2a3f5f"
           }
          },
          "ternary": {
           "aaxis": {
            "gridcolor": "white",
            "linecolor": "white",
            "ticks": ""
           },
           "baxis": {
            "gridcolor": "white",
            "linecolor": "white",
            "ticks": ""
           },
           "bgcolor": "#E5ECF6",
           "caxis": {
            "gridcolor": "white",
            "linecolor": "white",
            "ticks": ""
           }
          },
          "title": {
           "x": 0.05
          },
          "xaxis": {
           "automargin": true,
           "gridcolor": "white",
           "linecolor": "white",
           "ticks": "",
           "title": {
            "standoff": 15
           },
           "zerolinecolor": "white",
           "zerolinewidth": 2
          },
          "yaxis": {
           "automargin": true,
           "gridcolor": "white",
           "linecolor": "white",
           "ticks": "",
           "title": {
            "standoff": 15
           },
           "zerolinecolor": "white",
           "zerolinewidth": 2
          }
         }
        },
        "title": {
         "text": "Interactive Stacked Bar Chart of Percentage of Injury Hospitalisations by Cause, Age Group Australia, 2022–23"
        },
        "xaxis": {
         "anchor": "y",
         "categoryarray": [
          "0–4",
          "5–9",
          "10–14",
          "15–19",
          "20–24",
          "25–29",
          "30–34",
          "35–39",
          "40–44",
          "45–49",
          "50–54",
          "55–59",
          "60–64",
          "65–69",
          "70–74",
          "75–79",
          "80–84",
          "85–89",
          "90–94",
          "95+"
         ],
         "categoryorder": "array",
         "domain": [
          0,
          1
         ],
         "title": {
          "text": "Age Group"
         }
        },
        "yaxis": {
         "anchor": "x",
         "domain": [
          0,
          1
         ],
         "tickformat": "%",
         "title": {
          "text": "Percentage of Cases"
         }
        }
       }
      }
     },
     "metadata": {},
     "output_type": "display_data"
    }
   ],
   "source": [
    "import plotly.express as px\n",
    "\n",
    "# Define a custom list of 15 distinct colors\n",
    "custom_colors = [\n",
    "    '#FF6347', '#4682B4', '#FF1493', '#32CD32', '#FFD700', '#8A2BE2', '#A52A2A', '#FF8C00',\n",
    "    '#6A5ACD', '#98FB98', '#D2691E', '#C71585', '#40E0D0', '#00BFFF', '#000000'\n",
    "]\n",
    "\n",
    "# Group data\n",
    "grouped = h1.groupby(['Age Group', 'Injury Type'], as_index=False)['Number of Cases'].sum()\n",
    "\n",
    "# Data\n",
    "age_groups = ['0–4', '5–9', '10–14', '15–19', '20–24', '25–29', '30–34', '35–39', '40–44', \n",
    "              '45–49', '50–54', '55–59', '60–64', '65–69', '70–74', '75–79', '80–84', '85–89', \n",
    "              '90–94', '95+']\n",
    "\n",
    "# Add a new column 'Label' to assign a specific number to each age group\n",
    "label_mapping = {age_groups[i]: i+1 for i in range(len(age_groups))}\n",
    "grouped['Label'] = grouped['Age Group'].map(label_mapping)\n",
    "\n",
    "# Sort the DataFrame by 'Label'\n",
    "grouped = grouped.sort_values(by='Label').reset_index(drop=True)\n",
    "\n",
    "# Calculate the total number of cases per age group\n",
    "total_cases_per_group = grouped.groupby('Age Group')['Number of Cases'].transform('sum')\n",
    "\n",
    "# Calculate the percentage for each injury type in each age group\n",
    "grouped['Percentage'] = (grouped['Number of Cases'] / total_cases_per_group)\n",
    "\n",
    "# Get unique injury types\n",
    "injury_types = grouped['Injury Type'].unique()\n",
    "\n",
    "# Create interactive stacked bar chart with percentages\n",
    "fig = px.bar(\n",
    "    grouped,\n",
    "    x='Age Group',\n",
    "    y='Percentage',\n",
    "    color='Injury Type',\n",
    "    title=\"Interactive Stacked Bar Chart of Percentage of Injury Hospitalisations by Cause, Age Group Australia, 2022–23\",\n",
    "    color_discrete_sequence=custom_colors\n",
    ")\n",
    "\n",
    "# Update layout for better spacing\n",
    "fig.update_layout(\n",
    "    barmode='stack',\n",
    "    xaxis=dict(\n",
    "        categoryorder='array',\n",
    "        categoryarray=age_groups  # Explicitly set the order of age groups\n",
    "    ),\n",
    "    yaxis=dict(title=\"Percentage of Cases\", tickformat=\"%\")\n",
    ")\n",
    "\n",
    "# Show plot\n",
    "fig.show()\n"
   ]
  },
  {
   "cell_type": "code",
   "execution_count": 270,
   "metadata": {},
   "outputs": [],
   "source": [
    "fig.write_html(\"injures_by_age_causes_stacked_bar_percentage.html\")"
   ]
  },
  {
   "cell_type": "markdown",
   "metadata": {},
   "source": [
    "# II. Table D2: Timeseries, Age-standardised rate of deaths due to injuries, by cause and sex, Australia, 2012-13 to 2021-22   "
   ]
  },
  {
   "cell_type": "code",
   "execution_count": 292,
   "metadata": {},
   "outputs": [],
   "source": [
    "d2=df[df['TableReference']=='D2']"
   ]
  },
  {
   "cell_type": "code",
   "execution_count": 294,
   "metadata": {},
   "outputs": [],
   "source": [
    "d2=d2[d2['Injury Type']!='All external causes']\n",
    "d2=d2[d2['ReportingCategory1']!='Persons']"
   ]
  },
  {
   "cell_type": "code",
   "execution_count": 295,
   "metadata": {},
   "outputs": [
    {
     "data": {
      "text/html": [
       "<div>\n",
       "<style scoped>\n",
       "    .dataframe tbody tr th:only-of-type {\n",
       "        vertical-align: middle;\n",
       "    }\n",
       "\n",
       "    .dataframe tbody tr th {\n",
       "        vertical-align: top;\n",
       "    }\n",
       "\n",
       "    .dataframe thead th {\n",
       "        text-align: right;\n",
       "    }\n",
       "</style>\n",
       "<table border=\"1\" class=\"dataframe\">\n",
       "  <thead>\n",
       "    <tr style=\"text-align: right;\">\n",
       "      <th></th>\n",
       "      <th>TableReference</th>\n",
       "      <th>TableTitle</th>\n",
       "      <th>PeriodFrom</th>\n",
       "      <th>PeriodTo</th>\n",
       "      <th>ReportingCategory1</th>\n",
       "      <th>Injury Type</th>\n",
       "      <th>ReportingCategory3</th>\n",
       "      <th>ReportingCategory4</th>\n",
       "      <th>MeasureName</th>\n",
       "      <th>Footnotes</th>\n",
       "      <th>MeasureValueLabel</th>\n",
       "      <th>Number of Cases</th>\n",
       "    </tr>\n",
       "  </thead>\n",
       "  <tbody>\n",
       "    <tr>\n",
       "      <th>5009</th>\n",
       "      <td>D2</td>\n",
       "      <td>Table D2: Timeseries, Age-standardised rate of...</td>\n",
       "      <td>2012</td>\n",
       "      <td>2013</td>\n",
       "      <td>Females</td>\n",
       "      <td>Accidental poisoning</td>\n",
       "      <td>NaN</td>\n",
       "      <td>2012-13</td>\n",
       "      <td>Age standardised rate per 100,000 population</td>\n",
       "      <td>Source: AIHW National Mortality Database.\\nNot...</td>\n",
       "      <td>3.8</td>\n",
       "      <td>3.8</td>\n",
       "    </tr>\n",
       "    <tr>\n",
       "      <th>5010</th>\n",
       "      <td>D2</td>\n",
       "      <td>Table D2: Timeseries, Age-standardised rate of...</td>\n",
       "      <td>2013</td>\n",
       "      <td>2014</td>\n",
       "      <td>Females</td>\n",
       "      <td>Accidental poisoning</td>\n",
       "      <td>NaN</td>\n",
       "      <td>2013-14</td>\n",
       "      <td>Age standardised rate per 100,000 population</td>\n",
       "      <td>Source: AIHW National Mortality Database.\\nNot...</td>\n",
       "      <td>3.5</td>\n",
       "      <td>3.5</td>\n",
       "    </tr>\n",
       "  </tbody>\n",
       "</table>\n",
       "</div>"
      ],
      "text/plain": [
       "     TableReference                                         TableTitle  \\\n",
       "5009             D2  Table D2: Timeseries, Age-standardised rate of...   \n",
       "5010             D2  Table D2: Timeseries, Age-standardised rate of...   \n",
       "\n",
       "     PeriodFrom PeriodTo ReportingCategory1           Injury Type  \\\n",
       "5009       2012     2013            Females  Accidental poisoning   \n",
       "5010       2013     2014            Females  Accidental poisoning   \n",
       "\n",
       "     ReportingCategory3 ReportingCategory4  \\\n",
       "5009                NaN            2012-13   \n",
       "5010                NaN            2013-14   \n",
       "\n",
       "                                       MeasureName  \\\n",
       "5009  Age standardised rate per 100,000 population   \n",
       "5010  Age standardised rate per 100,000 population   \n",
       "\n",
       "                                              Footnotes MeasureValueLabel  \\\n",
       "5009  Source: AIHW National Mortality Database.\\nNot...               3.8   \n",
       "5010  Source: AIHW National Mortality Database.\\nNot...               3.5   \n",
       "\n",
       "      Number of Cases  \n",
       "5009              3.8  \n",
       "5010              3.5  "
      ]
     },
     "execution_count": 295,
     "metadata": {},
     "output_type": "execute_result"
    }
   ],
   "source": [
    "d2.head(2)"
   ]
  },
  {
   "cell_type": "code",
   "execution_count": 296,
   "metadata": {},
   "outputs": [
    {
     "data": {
      "text/plain": [
       "ReportingCategory1\n",
       "Females    100\n",
       "Males      100\n",
       "Name: count, dtype: int64"
      ]
     },
     "execution_count": 296,
     "metadata": {},
     "output_type": "execute_result"
    }
   ],
   "source": [
    "d2['ReportingCategory1'].value_counts()"
   ]
  },
  {
   "cell_type": "code",
   "execution_count": 297,
   "metadata": {},
   "outputs": [
    {
     "data": {
      "text/plain": [
       "ReportingCategory4\n",
       "2012-13    20\n",
       "2013-14    20\n",
       "2014-15    20\n",
       "2015-16    20\n",
       "2016-17    20\n",
       "2017-18    20\n",
       "2018-19    20\n",
       "2019-20    20\n",
       "2020-21    20\n",
       "2021-22    20\n",
       "Name: count, dtype: int64"
      ]
     },
     "execution_count": 297,
     "metadata": {},
     "output_type": "execute_result"
    }
   ],
   "source": [
    "d2['ReportingCategory4'].value_counts()"
   ]
  },
  {
   "cell_type": "code",
   "execution_count": 299,
   "metadata": {},
   "outputs": [
    {
     "data": {
      "text/plain": [
       "'Table D2:\\xa0Timeseries, Age-standardised rate of deaths due to injuries, by cause and sex, Australia, 2012-13 to 2021-22'"
      ]
     },
     "execution_count": 299,
     "metadata": {},
     "output_type": "execute_result"
    }
   ],
   "source": [
    "d2['TableTitle'].iloc[0]"
   ]
  },
  {
   "cell_type": "code",
   "execution_count": 300,
   "metadata": {},
   "outputs": [
    {
     "name": "stdout",
     "output_type": "stream",
     "text": [
      "<class 'pandas.core.frame.DataFrame'>\n",
      "Index: 200 entries, 5009 to 5218\n",
      "Data columns (total 12 columns):\n",
      " #   Column              Non-Null Count  Dtype  \n",
      "---  ------              --------------  -----  \n",
      " 0   TableReference      200 non-null    object \n",
      " 1   TableTitle          200 non-null    object \n",
      " 2   PeriodFrom          200 non-null    object \n",
      " 3   PeriodTo            200 non-null    object \n",
      " 4   ReportingCategory1  200 non-null    object \n",
      " 5   Injury Type         200 non-null    object \n",
      " 6   ReportingCategory3  0 non-null      object \n",
      " 7   ReportingCategory4  200 non-null    object \n",
      " 8   MeasureName         200 non-null    object \n",
      " 9   Footnotes           200 non-null    object \n",
      " 10  MeasureValueLabel   200 non-null    object \n",
      " 11  Number of Cases     200 non-null    float64\n",
      "dtypes: float64(1), object(11)\n",
      "memory usage: 20.3+ KB\n"
     ]
    }
   ],
   "source": [
    "d2.info()"
   ]
  },
  {
   "cell_type": "code",
   "execution_count": 302,
   "metadata": {},
   "outputs": [
    {
     "data": {
      "text/plain": [
       "PeriodFrom\n",
       "2012    20\n",
       "2013    20\n",
       "2014    20\n",
       "2015    20\n",
       "2016    20\n",
       "2017    20\n",
       "2018    20\n",
       "2019    20\n",
       "2020    20\n",
       "2021    20\n",
       "Name: count, dtype: int64"
      ]
     },
     "execution_count": 302,
     "metadata": {},
     "output_type": "execute_result"
    }
   ],
   "source": [
    "d2['PeriodFrom'].value_counts()"
   ]
  },
  {
   "cell_type": "code",
   "execution_count": 303,
   "metadata": {},
   "outputs": [
    {
     "data": {
      "application/vnd.plotly.v1+json": {
       "config": {
        "plotlyServerURL": "https://plot.ly"
       },
       "data": [
        {
         "alignmentgroup": "True",
         "hovertemplate": "ReportingCategory1=Females<br>Injury Type=Accidental poisoning<br>Time Period=%{x}<br>ASR (per 100,000 population)=%{text}<extra></extra>",
         "insidetextanchor": "middle",
         "legendgroup": "Females",
         "marker": {
          "color": "#636efa",
          "pattern": {
           "shape": ""
          }
         },
         "name": "Females",
         "offsetgroup": "Females",
         "orientation": "v",
         "showlegend": true,
         "text": [
          3.8,
          3.5,
          3.9,
          4.2,
          4.1,
          3.7,
          3.9,
          3.9,
          3.5,
          3.4
         ],
         "textposition": "inside",
         "texttemplate": "%{text}",
         "type": "bar",
         "x": [
          "2012-13",
          "2013-14",
          "2014-15",
          "2015-16",
          "2016-17",
          "2017-18",
          "2018-19",
          "2019-20",
          "2020-21",
          "2021-22"
         ],
         "xaxis": "x",
         "y": [
          3.8,
          3.5,
          3.9,
          4.2,
          4.1,
          3.7,
          3.9,
          3.9,
          3.5,
          3.4
         ],
         "yaxis": "y"
        },
        {
         "alignmentgroup": "True",
         "hovertemplate": "ReportingCategory1=Females<br>Injury Type=Choking and suffocation<br>Time Period=%{x}<br>ASR (per 100,000 population)=%{text}<extra></extra>",
         "insidetextanchor": "middle",
         "legendgroup": "Females",
         "marker": {
          "color": "#636efa",
          "pattern": {
           "shape": ""
          }
         },
         "name": "Females",
         "offsetgroup": "Females",
         "orientation": "v",
         "showlegend": false,
         "text": [
          2.9,
          2.8,
          3,
          2.7,
          2.9,
          2.8,
          2.9,
          2.4,
          2.9,
          2.9
         ],
         "textposition": "inside",
         "texttemplate": "%{text}",
         "type": "bar",
         "x": [
          "2012-13",
          "2013-14",
          "2014-15",
          "2015-16",
          "2016-17",
          "2017-18",
          "2018-19",
          "2019-20",
          "2020-21",
          "2021-22"
         ],
         "xaxis": "x2",
         "y": [
          2.9,
          2.8,
          3,
          2.7,
          2.9,
          2.8,
          2.9,
          2.4,
          2.9,
          2.9
         ],
         "yaxis": "y2"
        },
        {
         "alignmentgroup": "True",
         "hovertemplate": "ReportingCategory1=Females<br>Injury Type=Drowning and submersion<br>Time Period=%{x}<br>ASR (per 100,000 population)=%{text}<extra></extra>",
         "insidetextanchor": "middle",
         "legendgroup": "Females",
         "marker": {
          "color": "#636efa",
          "pattern": {
           "shape": ""
          }
         },
         "name": "Females",
         "offsetgroup": "Females",
         "orientation": "v",
         "showlegend": false,
         "text": [
          0.5,
          0.4,
          0.4,
          0.4,
          0.5,
          0.5,
          0.4,
          0.4,
          0.4,
          0.4
         ],
         "textposition": "inside",
         "texttemplate": "%{text}",
         "type": "bar",
         "x": [
          "2012-13",
          "2013-14",
          "2014-15",
          "2015-16",
          "2016-17",
          "2017-18",
          "2018-19",
          "2019-20",
          "2020-21",
          "2021-22"
         ],
         "xaxis": "x3",
         "y": [
          0.5,
          0.4,
          0.4,
          0.4,
          0.5,
          0.5,
          0.4,
          0.4,
          0.4,
          0.4
         ],
         "yaxis": "y3"
        },
        {
         "alignmentgroup": "True",
         "hovertemplate": "ReportingCategory1=Females<br>Injury Type=Falls<br>Time Period=%{x}<br>ASR (per 100,000 population)=%{text}<extra></extra>",
         "insidetextanchor": "middle",
         "legendgroup": "Females",
         "marker": {
          "color": "#636efa",
          "pattern": {
           "shape": ""
          }
         },
         "name": "Females",
         "offsetgroup": "Females",
         "orientation": "v",
         "showlegend": false,
         "text": [
          14,
          14.1,
          14.9,
          15.1,
          14.8,
          15,
          14.6,
          14,
          15,
          15.6
         ],
         "textposition": "inside",
         "texttemplate": "%{text}",
         "type": "bar",
         "x": [
          "2012-13",
          "2013-14",
          "2014-15",
          "2015-16",
          "2016-17",
          "2017-18",
          "2018-19",
          "2019-20",
          "2020-21",
          "2021-22"
         ],
         "xaxis": "x4",
         "y": [
          14,
          14.1,
          14.9,
          15.1,
          14.8,
          15,
          14.6,
          14,
          15,
          15.6
         ],
         "yaxis": "y4"
        },
        {
         "alignmentgroup": "True",
         "hovertemplate": "ReportingCategory1=Females<br>Injury Type=Homicide<br>Time Period=%{x}<br>ASR (per 100,000 population)=%{text}<extra></extra>",
         "insidetextanchor": "middle",
         "legendgroup": "Females",
         "marker": {
          "color": "#636efa",
          "pattern": {
           "shape": ""
          }
         },
         "name": "Females",
         "offsetgroup": "Females",
         "orientation": "v",
         "showlegend": false,
         "text": [
          0.7,
          0.8,
          0.7,
          0.6,
          0.6,
          0.4,
          0.6,
          0.6,
          0.4,
          0.4
         ],
         "textposition": "inside",
         "texttemplate": "%{text}",
         "type": "bar",
         "x": [
          "2012-13",
          "2013-14",
          "2014-15",
          "2015-16",
          "2016-17",
          "2017-18",
          "2018-19",
          "2019-20",
          "2020-21",
          "2021-22"
         ],
         "xaxis": "x5",
         "y": [
          0.7,
          0.8,
          0.7,
          0.6,
          0.6,
          0.4,
          0.6,
          0.6,
          0.4,
          0.4
         ],
         "yaxis": "y5"
        },
        {
         "alignmentgroup": "True",
         "hovertemplate": "ReportingCategory1=Females<br>Injury Type=Other unintentional causes<br>Time Period=%{x}<br>ASR (per 100,000 population)=%{text}<extra></extra>",
         "insidetextanchor": "middle",
         "legendgroup": "Females",
         "marker": {
          "color": "#636efa",
          "pattern": {
           "shape": ""
          }
         },
         "name": "Females",
         "offsetgroup": "Females",
         "orientation": "v",
         "showlegend": false,
         "text": [
          0.9,
          0.8,
          1,
          0.9,
          0.8,
          0.8,
          0.6,
          0.4,
          0.5,
          0.6
         ],
         "textposition": "inside",
         "texttemplate": "%{text}",
         "type": "bar",
         "x": [
          "2012-13",
          "2013-14",
          "2014-15",
          "2015-16",
          "2016-17",
          "2017-18",
          "2018-19",
          "2019-20",
          "2020-21",
          "2021-22"
         ],
         "xaxis": "x6",
         "y": [
          0.9,
          0.8,
          1,
          0.9,
          0.8,
          0.8,
          0.6,
          0.4,
          0.5,
          0.6
         ],
         "yaxis": "y6"
        },
        {
         "alignmentgroup": "True",
         "hovertemplate": "ReportingCategory1=Females<br>Injury Type=Suicide<br>Time Period=%{x}<br>ASR (per 100,000 population)=%{text}<extra></extra>",
         "insidetextanchor": "middle",
         "legendgroup": "Females",
         "marker": {
          "color": "#636efa",
          "pattern": {
           "shape": ""
          }
         },
         "name": "Females",
         "offsetgroup": "Females",
         "orientation": "v",
         "showlegend": false,
         "text": [
          5.9,
          5.7,
          6,
          6.1,
          6.5,
          5.8,
          6.4,
          6.1,
          6,
          5.9
         ],
         "textposition": "inside",
         "texttemplate": "%{text}",
         "type": "bar",
         "x": [
          "2012-13",
          "2013-14",
          "2014-15",
          "2015-16",
          "2016-17",
          "2017-18",
          "2018-19",
          "2019-20",
          "2020-21",
          "2021-22"
         ],
         "xaxis": "x7",
         "y": [
          5.9,
          5.7,
          6,
          6.1,
          6.5,
          5.8,
          6.4,
          6.1,
          6,
          5.9
         ],
         "yaxis": "y7"
        },
        {
         "alignmentgroup": "True",
         "hovertemplate": "ReportingCategory1=Females<br>Injury Type=Thermal causes<br>Time Period=%{x}<br>ASR (per 100,000 population)=%{text}<extra></extra>",
         "insidetextanchor": "middle",
         "legendgroup": "Females",
         "marker": {
          "color": "#636efa",
          "pattern": {
           "shape": ""
          }
         },
         "name": "Females",
         "offsetgroup": "Females",
         "orientation": "v",
         "showlegend": false,
         "text": [
          0.3,
          0.3,
          0.3,
          0.3,
          0.2,
          0.2,
          0.2,
          0.2,
          0.3,
          0.3
         ],
         "textposition": "inside",
         "texttemplate": "%{text}",
         "type": "bar",
         "x": [
          "2012-13",
          "2013-14",
          "2014-15",
          "2015-16",
          "2016-17",
          "2017-18",
          "2018-19",
          "2019-20",
          "2020-21",
          "2021-22"
         ],
         "xaxis": "x8",
         "y": [
          0.3,
          0.3,
          0.3,
          0.3,
          0.2,
          0.2,
          0.2,
          0.2,
          0.3,
          0.3
         ],
         "yaxis": "y8"
        },
        {
         "alignmentgroup": "True",
         "hovertemplate": "ReportingCategory1=Females<br>Injury Type=Transport<br>Time Period=%{x}<br>ASR (per 100,000 population)=%{text}<extra></extra>",
         "insidetextanchor": "middle",
         "legendgroup": "Females",
         "marker": {
          "color": "#636efa",
          "pattern": {
           "shape": ""
          }
         },
         "name": "Females",
         "offsetgroup": "Females",
         "orientation": "v",
         "showlegend": false,
         "text": [
          3.3,
          2.9,
          3.1,
          3,
          2.8,
          2.8,
          2.5,
          2.3,
          2.4,
          2.3
         ],
         "textposition": "inside",
         "texttemplate": "%{text}",
         "type": "bar",
         "x": [
          "2012-13",
          "2013-14",
          "2014-15",
          "2015-16",
          "2016-17",
          "2017-18",
          "2018-19",
          "2019-20",
          "2020-21",
          "2021-22"
         ],
         "xaxis": "x9",
         "y": [
          3.3,
          2.9,
          3.1,
          3,
          2.8,
          2.8,
          2.5,
          2.3,
          2.4,
          2.3
         ],
         "yaxis": "y9"
        },
        {
         "alignmentgroup": "True",
         "hovertemplate": "ReportingCategory1=Females<br>Injury Type=Undetermined intent<br>Time Period=%{x}<br>ASR (per 100,000 population)=%{text}<extra></extra>",
         "insidetextanchor": "middle",
         "legendgroup": "Females",
         "marker": {
          "color": "#636efa",
          "pattern": {
           "shape": ""
          }
         },
         "name": "Females",
         "offsetgroup": "Females",
         "orientation": "v",
         "showlegend": false,
         "text": [
          0.5,
          0.6,
          0.5,
          0.4,
          0.4,
          0.3,
          0.4,
          0.4,
          0.5,
          0.4
         ],
         "textposition": "inside",
         "texttemplate": "%{text}",
         "type": "bar",
         "x": [
          "2012-13",
          "2013-14",
          "2014-15",
          "2015-16",
          "2016-17",
          "2017-18",
          "2018-19",
          "2019-20",
          "2020-21",
          "2021-22"
         ],
         "xaxis": "x10",
         "y": [
          0.5,
          0.6,
          0.5,
          0.4,
          0.4,
          0.3,
          0.4,
          0.4,
          0.5,
          0.4
         ],
         "yaxis": "y10"
        },
        {
         "alignmentgroup": "True",
         "hovertemplate": "ReportingCategory1=Males<br>Injury Type=Accidental poisoning<br>Time Period=%{x}<br>ASR (per 100,000 population)=%{text}<extra></extra>",
         "insidetextanchor": "middle",
         "legendgroup": "Males",
         "marker": {
          "color": "#EF553B",
          "pattern": {
           "shape": ""
          }
         },
         "name": "Males",
         "offsetgroup": "Males",
         "orientation": "v",
         "showlegend": true,
         "text": [
          7,
          8.2,
          9.3,
          9,
          9.8,
          8.9,
          9.3,
          9.4,
          8.2,
          8.3
         ],
         "textposition": "inside",
         "texttemplate": "%{text}",
         "type": "bar",
         "x": [
          "2012-13",
          "2013-14",
          "2014-15",
          "2015-16",
          "2016-17",
          "2017-18",
          "2018-19",
          "2019-20",
          "2020-21",
          "2021-22"
         ],
         "xaxis": "x",
         "y": [
          7,
          8.2,
          9.3,
          9,
          9.8,
          8.9,
          9.3,
          9.4,
          8.2,
          8.3
         ],
         "yaxis": "y"
        },
        {
         "alignmentgroup": "True",
         "hovertemplate": "ReportingCategory1=Males<br>Injury Type=Choking and suffocation<br>Time Period=%{x}<br>ASR (per 100,000 population)=%{text}<extra></extra>",
         "insidetextanchor": "middle",
         "legendgroup": "Males",
         "marker": {
          "color": "#EF553B",
          "pattern": {
           "shape": ""
          }
         },
         "name": "Males",
         "offsetgroup": "Males",
         "orientation": "v",
         "showlegend": false,
         "text": [
          5.2,
          4.6,
          5,
          4.6,
          4.8,
          5,
          4.6,
          4,
          4.6,
          5.1
         ],
         "textposition": "inside",
         "texttemplate": "%{text}",
         "type": "bar",
         "x": [
          "2012-13",
          "2013-14",
          "2014-15",
          "2015-16",
          "2016-17",
          "2017-18",
          "2018-19",
          "2019-20",
          "2020-21",
          "2021-22"
         ],
         "xaxis": "x2",
         "y": [
          5.2,
          4.6,
          5,
          4.6,
          4.8,
          5,
          4.6,
          4,
          4.6,
          5.1
         ],
         "yaxis": "y2"
        },
        {
         "alignmentgroup": "True",
         "hovertemplate": "ReportingCategory1=Males<br>Injury Type=Drowning and submersion<br>Time Period=%{x}<br>ASR (per 100,000 population)=%{text}<extra></extra>",
         "insidetextanchor": "middle",
         "legendgroup": "Males",
         "marker": {
          "color": "#EF553B",
          "pattern": {
           "shape": ""
          }
         },
         "name": "Males",
         "offsetgroup": "Males",
         "orientation": "v",
         "showlegend": false,
         "text": [
          1.9,
          1.6,
          1.6,
          1.8,
          1.5,
          1.2,
          1.6,
          1.4,
          1.7,
          1.9
         ],
         "textposition": "inside",
         "texttemplate": "%{text}",
         "type": "bar",
         "x": [
          "2012-13",
          "2013-14",
          "2014-15",
          "2015-16",
          "2016-17",
          "2017-18",
          "2018-19",
          "2019-20",
          "2020-21",
          "2021-22"
         ],
         "xaxis": "x3",
         "y": [
          1.9,
          1.6,
          1.6,
          1.8,
          1.5,
          1.2,
          1.6,
          1.4,
          1.7,
          1.9
         ],
         "yaxis": "y3"
        },
        {
         "alignmentgroup": "True",
         "hovertemplate": "ReportingCategory1=Males<br>Injury Type=Falls<br>Time Period=%{x}<br>ASR (per 100,000 population)=%{text}<extra></extra>",
         "insidetextanchor": "middle",
         "legendgroup": "Males",
         "marker": {
          "color": "#EF553B",
          "pattern": {
           "shape": ""
          }
         },
         "name": "Males",
         "offsetgroup": "Males",
         "orientation": "v",
         "showlegend": false,
         "text": [
          15.7,
          15.9,
          17.2,
          16.6,
          17.8,
          17.3,
          18.5,
          18.2,
          18.9,
          19.6
         ],
         "textposition": "inside",
         "texttemplate": "%{text}",
         "type": "bar",
         "x": [
          "2012-13",
          "2013-14",
          "2014-15",
          "2015-16",
          "2016-17",
          "2017-18",
          "2018-19",
          "2019-20",
          "2020-21",
          "2021-22"
         ],
         "xaxis": "x4",
         "y": [
          15.7,
          15.9,
          17.2,
          16.6,
          17.8,
          17.3,
          18.5,
          18.2,
          18.9,
          19.6
         ],
         "yaxis": "y4"
        },
        {
         "alignmentgroup": "True",
         "hovertemplate": "ReportingCategory1=Males<br>Injury Type=Homicide<br>Time Period=%{x}<br>ASR (per 100,000 population)=%{text}<extra></extra>",
         "insidetextanchor": "middle",
         "legendgroup": "Males",
         "marker": {
          "color": "#EF553B",
          "pattern": {
           "shape": ""
          }
         },
         "name": "Males",
         "offsetgroup": "Males",
         "orientation": "v",
         "showlegend": false,
         "text": [
          1.6,
          1.3,
          1.6,
          1.5,
          1.5,
          1.2,
          1.5,
          1.4,
          1.3,
          1.3
         ],
         "textposition": "inside",
         "texttemplate": "%{text}",
         "type": "bar",
         "x": [
          "2012-13",
          "2013-14",
          "2014-15",
          "2015-16",
          "2016-17",
          "2017-18",
          "2018-19",
          "2019-20",
          "2020-21",
          "2021-22"
         ],
         "xaxis": "x5",
         "y": [
          1.6,
          1.3,
          1.6,
          1.5,
          1.5,
          1.2,
          1.5,
          1.4,
          1.3,
          1.3
         ],
         "yaxis": "y5"
        },
        {
         "alignmentgroup": "True",
         "hovertemplate": "ReportingCategory1=Males<br>Injury Type=Other unintentional causes<br>Time Period=%{x}<br>ASR (per 100,000 population)=%{text}<extra></extra>",
         "insidetextanchor": "middle",
         "legendgroup": "Males",
         "marker": {
          "color": "#EF553B",
          "pattern": {
           "shape": ""
          }
         },
         "name": "Males",
         "offsetgroup": "Males",
         "orientation": "v",
         "showlegend": false,
         "text": [
          1.7,
          1.8,
          1.8,
          2.1,
          1.6,
          1.3,
          1.3,
          1.1,
          1,
          1
         ],
         "textposition": "inside",
         "texttemplate": "%{text}",
         "type": "bar",
         "x": [
          "2012-13",
          "2013-14",
          "2014-15",
          "2015-16",
          "2016-17",
          "2017-18",
          "2018-19",
          "2019-20",
          "2020-21",
          "2021-22"
         ],
         "xaxis": "x6",
         "y": [
          1.7,
          1.8,
          1.8,
          2.1,
          1.6,
          1.3,
          1.3,
          1.1,
          1,
          1
         ],
         "yaxis": "y6"
        },
        {
         "alignmentgroup": "True",
         "hovertemplate": "ReportingCategory1=Males<br>Injury Type=Suicide<br>Time Period=%{x}<br>ASR (per 100,000 population)=%{text}<extra></extra>",
         "insidetextanchor": "middle",
         "legendgroup": "Males",
         "marker": {
          "color": "#EF553B",
          "pattern": {
           "shape": ""
          }
         },
         "name": "Males",
         "offsetgroup": "Males",
         "orientation": "v",
         "showlegend": false,
         "text": [
          17.5,
          17.2,
          19.2,
          18.8,
          18.8,
          19,
          19.8,
          19.5,
          18.6,
          18.1
         ],
         "textposition": "inside",
         "texttemplate": "%{text}",
         "type": "bar",
         "x": [
          "2012-13",
          "2013-14",
          "2014-15",
          "2015-16",
          "2016-17",
          "2017-18",
          "2018-19",
          "2019-20",
          "2020-21",
          "2021-22"
         ],
         "xaxis": "x7",
         "y": [
          17.5,
          17.2,
          19.2,
          18.8,
          18.8,
          19,
          19.8,
          19.5,
          18.6,
          18.1
         ],
         "yaxis": "y7"
        },
        {
         "alignmentgroup": "True",
         "hovertemplate": "ReportingCategory1=Males<br>Injury Type=Thermal causes<br>Time Period=%{x}<br>ASR (per 100,000 population)=%{text}<extra></extra>",
         "insidetextanchor": "middle",
         "legendgroup": "Males",
         "marker": {
          "color": "#EF553B",
          "pattern": {
           "shape": ""
          }
         },
         "name": "Males",
         "offsetgroup": "Males",
         "orientation": "v",
         "showlegend": false,
         "text": [
          0.7,
          0.7,
          0.6,
          0.6,
          0.6,
          0.5,
          0.6,
          0.8,
          0.6,
          0.6
         ],
         "textposition": "inside",
         "texttemplate": "%{text}",
         "type": "bar",
         "x": [
          "2012-13",
          "2013-14",
          "2014-15",
          "2015-16",
          "2016-17",
          "2017-18",
          "2018-19",
          "2019-20",
          "2020-21",
          "2021-22"
         ],
         "xaxis": "x8",
         "y": [
          0.7,
          0.7,
          0.6,
          0.6,
          0.6,
          0.5,
          0.6,
          0.8,
          0.6,
          0.6
         ],
         "yaxis": "y8"
        },
        {
         "alignmentgroup": "True",
         "hovertemplate": "ReportingCategory1=Males<br>Injury Type=Transport<br>Time Period=%{x}<br>ASR (per 100,000 population)=%{text}<extra></extra>",
         "insidetextanchor": "middle",
         "legendgroup": "Males",
         "marker": {
          "color": "#EF553B",
          "pattern": {
           "shape": ""
          }
         },
         "name": "Males",
         "offsetgroup": "Males",
         "orientation": "v",
         "showlegend": false,
         "text": [
          9.6,
          9,
          8.7,
          9.4,
          8.8,
          8.5,
          8.7,
          8.1,
          8.3,
          8.5
         ],
         "textposition": "inside",
         "texttemplate": "%{text}",
         "type": "bar",
         "x": [
          "2012-13",
          "2013-14",
          "2014-15",
          "2015-16",
          "2016-17",
          "2017-18",
          "2018-19",
          "2019-20",
          "2020-21",
          "2021-22"
         ],
         "xaxis": "x9",
         "y": [
          9.6,
          9,
          8.7,
          9.4,
          8.8,
          8.5,
          8.7,
          8.1,
          8.3,
          8.5
         ],
         "yaxis": "y9"
        },
        {
         "alignmentgroup": "True",
         "hovertemplate": "ReportingCategory1=Males<br>Injury Type=Undetermined intent<br>Time Period=%{x}<br>ASR (per 100,000 population)=%{text}<extra></extra>",
         "insidetextanchor": "middle",
         "legendgroup": "Males",
         "marker": {
          "color": "#EF553B",
          "pattern": {
           "shape": ""
          }
         },
         "name": "Males",
         "offsetgroup": "Males",
         "orientation": "v",
         "showlegend": false,
         "text": [
          1.2,
          1.1,
          0.8,
          0.9,
          0.6,
          0.6,
          0.8,
          0.9,
          1,
          0.8
         ],
         "textposition": "inside",
         "texttemplate": "%{text}",
         "type": "bar",
         "x": [
          "2012-13",
          "2013-14",
          "2014-15",
          "2015-16",
          "2016-17",
          "2017-18",
          "2018-19",
          "2019-20",
          "2020-21",
          "2021-22"
         ],
         "xaxis": "x10",
         "y": [
          1.2,
          1.1,
          0.8,
          0.9,
          0.6,
          0.6,
          0.8,
          0.9,
          1,
          0.8
         ],
         "yaxis": "y10"
        }
       ],
       "layout": {
        "annotations": [
         {
          "align": "left",
          "font": {
           "size": 12
          },
          "showarrow": false,
          "text": "Accidental poisoning",
          "textangle": 90,
          "x": 0.027500000000000004,
          "xanchor": "center",
          "xref": "paper",
          "y": 0.4,
          "yanchor": "bottom",
          "yref": "paper"
         },
         {
          "align": "left",
          "font": {
           "size": 12
          },
          "showarrow": false,
          "text": "Choking and suffocation",
          "textangle": 90,
          "x": 0.1325,
          "xanchor": "center",
          "xref": "paper",
          "y": 0.4,
          "yanchor": "bottom",
          "yref": "paper"
         },
         {
          "align": "left",
          "font": {
           "size": 12
          },
          "showarrow": false,
          "text": "Drowning and submersion",
          "textangle": 90,
          "x": 0.23750000000000002,
          "xanchor": "center",
          "xref": "paper",
          "y": 0.4,
          "yanchor": "bottom",
          "yref": "paper"
         },
         {
          "align": "left",
          "font": {
           "size": 12
          },
          "showarrow": false,
          "text": "Falls",
          "textangle": 90,
          "x": 0.3425,
          "xanchor": "center",
          "xref": "paper",
          "y": 0.9,
          "yanchor": "bottom",
          "yref": "paper"
         },
         {
          "align": "left",
          "font": {
           "size": 12
          },
          "showarrow": false,
          "text": "Homicide",
          "textangle": 90,
          "x": 0.4475,
          "xanchor": "center",
          "xref": "paper",
          "y": 0.4,
          "yanchor": "bottom",
          "yref": "paper"
         },
         {
          "align": "left",
          "font": {
           "size": 12
          },
          "showarrow": false,
          "text": "Other unintentional causes",
          "textangle": 90,
          "x": 0.5525,
          "xanchor": "center",
          "xref": "paper",
          "y": 0.4,
          "yanchor": "bottom",
          "yref": "paper"
         },
         {
          "align": "left",
          "font": {
           "size": 12
          },
          "showarrow": false,
          "text": "Suicide",
          "textangle": 90,
          "x": 0.6575000000000002,
          "xanchor": "center",
          "xref": "paper",
          "y": 0.9,
          "yanchor": "bottom",
          "yref": "paper"
         },
         {
          "align": "left",
          "font": {
           "size": 12
          },
          "showarrow": false,
          "text": "Thermal causes",
          "textangle": 90,
          "x": 0.7625000000000002,
          "xanchor": "center",
          "xref": "paper",
          "y": 0.4,
          "yanchor": "bottom",
          "yref": "paper"
         },
         {
          "align": "left",
          "font": {
           "size": 12
          },
          "showarrow": false,
          "text": "Transport",
          "textangle": 90,
          "x": 0.8675000000000002,
          "xanchor": "center",
          "xref": "paper",
          "y": 0.4,
          "yanchor": "bottom",
          "yref": "paper"
         },
         {
          "align": "left",
          "font": {
           "size": 12
          },
          "showarrow": false,
          "text": "Undetermined intent",
          "textangle": 90,
          "x": 0.9725,
          "xanchor": "center",
          "xref": "paper",
          "y": 0.4,
          "yanchor": "bottom",
          "yref": "paper"
         }
        ],
        "barmode": "stack",
        "height": 400,
        "legend": {
         "orientation": "h",
         "title": {
          "text": "Gender"
         },
         "tracegroupgap": 0,
         "traceorder": "normal",
         "x": 0.5,
         "xanchor": "center",
         "y": -0.6,
         "yanchor": "top"
        },
        "margin": {
         "t": 60
        },
        "showlegend": true,
        "template": {
         "data": {
          "bar": [
           {
            "error_x": {
             "color": "#2a3f5f"
            },
            "error_y": {
             "color": "#2a3f5f"
            },
            "marker": {
             "line": {
              "color": "white",
              "width": 0.5
             },
             "pattern": {
              "fillmode": "overlay",
              "size": 10,
              "solidity": 0.2
             }
            },
            "type": "bar"
           }
          ],
          "barpolar": [
           {
            "marker": {
             "line": {
              "color": "white",
              "width": 0.5
             },
             "pattern": {
              "fillmode": "overlay",
              "size": 10,
              "solidity": 0.2
             }
            },
            "type": "barpolar"
           }
          ],
          "carpet": [
           {
            "aaxis": {
             "endlinecolor": "#2a3f5f",
             "gridcolor": "#C8D4E3",
             "linecolor": "#C8D4E3",
             "minorgridcolor": "#C8D4E3",
             "startlinecolor": "#2a3f5f"
            },
            "baxis": {
             "endlinecolor": "#2a3f5f",
             "gridcolor": "#C8D4E3",
             "linecolor": "#C8D4E3",
             "minorgridcolor": "#C8D4E3",
             "startlinecolor": "#2a3f5f"
            },
            "type": "carpet"
           }
          ],
          "choropleth": [
           {
            "colorbar": {
             "outlinewidth": 0,
             "ticks": ""
            },
            "type": "choropleth"
           }
          ],
          "contour": [
           {
            "colorbar": {
             "outlinewidth": 0,
             "ticks": ""
            },
            "colorscale": [
             [
              0,
              "#0d0887"
             ],
             [
              0.1111111111111111,
              "#46039f"
             ],
             [
              0.2222222222222222,
              "#7201a8"
             ],
             [
              0.3333333333333333,
              "#9c179e"
             ],
             [
              0.4444444444444444,
              "#bd3786"
             ],
             [
              0.5555555555555556,
              "#d8576b"
             ],
             [
              0.6666666666666666,
              "#ed7953"
             ],
             [
              0.7777777777777778,
              "#fb9f3a"
             ],
             [
              0.8888888888888888,
              "#fdca26"
             ],
             [
              1,
              "#f0f921"
             ]
            ],
            "type": "contour"
           }
          ],
          "contourcarpet": [
           {
            "colorbar": {
             "outlinewidth": 0,
             "ticks": ""
            },
            "type": "contourcarpet"
           }
          ],
          "heatmap": [
           {
            "colorbar": {
             "outlinewidth": 0,
             "ticks": ""
            },
            "colorscale": [
             [
              0,
              "#0d0887"
             ],
             [
              0.1111111111111111,
              "#46039f"
             ],
             [
              0.2222222222222222,
              "#7201a8"
             ],
             [
              0.3333333333333333,
              "#9c179e"
             ],
             [
              0.4444444444444444,
              "#bd3786"
             ],
             [
              0.5555555555555556,
              "#d8576b"
             ],
             [
              0.6666666666666666,
              "#ed7953"
             ],
             [
              0.7777777777777778,
              "#fb9f3a"
             ],
             [
              0.8888888888888888,
              "#fdca26"
             ],
             [
              1,
              "#f0f921"
             ]
            ],
            "type": "heatmap"
           }
          ],
          "heatmapgl": [
           {
            "colorbar": {
             "outlinewidth": 0,
             "ticks": ""
            },
            "colorscale": [
             [
              0,
              "#0d0887"
             ],
             [
              0.1111111111111111,
              "#46039f"
             ],
             [
              0.2222222222222222,
              "#7201a8"
             ],
             [
              0.3333333333333333,
              "#9c179e"
             ],
             [
              0.4444444444444444,
              "#bd3786"
             ],
             [
              0.5555555555555556,
              "#d8576b"
             ],
             [
              0.6666666666666666,
              "#ed7953"
             ],
             [
              0.7777777777777778,
              "#fb9f3a"
             ],
             [
              0.8888888888888888,
              "#fdca26"
             ],
             [
              1,
              "#f0f921"
             ]
            ],
            "type": "heatmapgl"
           }
          ],
          "histogram": [
           {
            "marker": {
             "pattern": {
              "fillmode": "overlay",
              "size": 10,
              "solidity": 0.2
             }
            },
            "type": "histogram"
           }
          ],
          "histogram2d": [
           {
            "colorbar": {
             "outlinewidth": 0,
             "ticks": ""
            },
            "colorscale": [
             [
              0,
              "#0d0887"
             ],
             [
              0.1111111111111111,
              "#46039f"
             ],
             [
              0.2222222222222222,
              "#7201a8"
             ],
             [
              0.3333333333333333,
              "#9c179e"
             ],
             [
              0.4444444444444444,
              "#bd3786"
             ],
             [
              0.5555555555555556,
              "#d8576b"
             ],
             [
              0.6666666666666666,
              "#ed7953"
             ],
             [
              0.7777777777777778,
              "#fb9f3a"
             ],
             [
              0.8888888888888888,
              "#fdca26"
             ],
             [
              1,
              "#f0f921"
             ]
            ],
            "type": "histogram2d"
           }
          ],
          "histogram2dcontour": [
           {
            "colorbar": {
             "outlinewidth": 0,
             "ticks": ""
            },
            "colorscale": [
             [
              0,
              "#0d0887"
             ],
             [
              0.1111111111111111,
              "#46039f"
             ],
             [
              0.2222222222222222,
              "#7201a8"
             ],
             [
              0.3333333333333333,
              "#9c179e"
             ],
             [
              0.4444444444444444,
              "#bd3786"
             ],
             [
              0.5555555555555556,
              "#d8576b"
             ],
             [
              0.6666666666666666,
              "#ed7953"
             ],
             [
              0.7777777777777778,
              "#fb9f3a"
             ],
             [
              0.8888888888888888,
              "#fdca26"
             ],
             [
              1,
              "#f0f921"
             ]
            ],
            "type": "histogram2dcontour"
           }
          ],
          "mesh3d": [
           {
            "colorbar": {
             "outlinewidth": 0,
             "ticks": ""
            },
            "type": "mesh3d"
           }
          ],
          "parcoords": [
           {
            "line": {
             "colorbar": {
              "outlinewidth": 0,
              "ticks": ""
             }
            },
            "type": "parcoords"
           }
          ],
          "pie": [
           {
            "automargin": true,
            "type": "pie"
           }
          ],
          "scatter": [
           {
            "fillpattern": {
             "fillmode": "overlay",
             "size": 10,
             "solidity": 0.2
            },
            "type": "scatter"
           }
          ],
          "scatter3d": [
           {
            "line": {
             "colorbar": {
              "outlinewidth": 0,
              "ticks": ""
             }
            },
            "marker": {
             "colorbar": {
              "outlinewidth": 0,
              "ticks": ""
             }
            },
            "type": "scatter3d"
           }
          ],
          "scattercarpet": [
           {
            "marker": {
             "colorbar": {
              "outlinewidth": 0,
              "ticks": ""
             }
            },
            "type": "scattercarpet"
           }
          ],
          "scattergeo": [
           {
            "marker": {
             "colorbar": {
              "outlinewidth": 0,
              "ticks": ""
             }
            },
            "type": "scattergeo"
           }
          ],
          "scattergl": [
           {
            "marker": {
             "colorbar": {
              "outlinewidth": 0,
              "ticks": ""
             }
            },
            "type": "scattergl"
           }
          ],
          "scattermapbox": [
           {
            "marker": {
             "colorbar": {
              "outlinewidth": 0,
              "ticks": ""
             }
            },
            "type": "scattermapbox"
           }
          ],
          "scatterpolar": [
           {
            "marker": {
             "colorbar": {
              "outlinewidth": 0,
              "ticks": ""
             }
            },
            "type": "scatterpolar"
           }
          ],
          "scatterpolargl": [
           {
            "marker": {
             "colorbar": {
              "outlinewidth": 0,
              "ticks": ""
             }
            },
            "type": "scatterpolargl"
           }
          ],
          "scatterternary": [
           {
            "marker": {
             "colorbar": {
              "outlinewidth": 0,
              "ticks": ""
             }
            },
            "type": "scatterternary"
           }
          ],
          "surface": [
           {
            "colorbar": {
             "outlinewidth": 0,
             "ticks": ""
            },
            "colorscale": [
             [
              0,
              "#0d0887"
             ],
             [
              0.1111111111111111,
              "#46039f"
             ],
             [
              0.2222222222222222,
              "#7201a8"
             ],
             [
              0.3333333333333333,
              "#9c179e"
             ],
             [
              0.4444444444444444,
              "#bd3786"
             ],
             [
              0.5555555555555556,
              "#d8576b"
             ],
             [
              0.6666666666666666,
              "#ed7953"
             ],
             [
              0.7777777777777778,
              "#fb9f3a"
             ],
             [
              0.8888888888888888,
              "#fdca26"
             ],
             [
              1,
              "#f0f921"
             ]
            ],
            "type": "surface"
           }
          ],
          "table": [
           {
            "cells": {
             "fill": {
              "color": "#EBF0F8"
             },
             "line": {
              "color": "white"
             }
            },
            "header": {
             "fill": {
              "color": "#C8D4E3"
             },
             "line": {
              "color": "white"
             }
            },
            "type": "table"
           }
          ]
         },
         "layout": {
          "annotationdefaults": {
           "arrowcolor": "#2a3f5f",
           "arrowhead": 0,
           "arrowwidth": 1
          },
          "autotypenumbers": "strict",
          "coloraxis": {
           "colorbar": {
            "outlinewidth": 0,
            "ticks": ""
           }
          },
          "colorscale": {
           "diverging": [
            [
             0,
             "#8e0152"
            ],
            [
             0.1,
             "#c51b7d"
            ],
            [
             0.2,
             "#de77ae"
            ],
            [
             0.3,
             "#f1b6da"
            ],
            [
             0.4,
             "#fde0ef"
            ],
            [
             0.5,
             "#f7f7f7"
            ],
            [
             0.6,
             "#e6f5d0"
            ],
            [
             0.7,
             "#b8e186"
            ],
            [
             0.8,
             "#7fbc41"
            ],
            [
             0.9,
             "#4d9221"
            ],
            [
             1,
             "#276419"
            ]
           ],
           "sequential": [
            [
             0,
             "#0d0887"
            ],
            [
             0.1111111111111111,
             "#46039f"
            ],
            [
             0.2222222222222222,
             "#7201a8"
            ],
            [
             0.3333333333333333,
             "#9c179e"
            ],
            [
             0.4444444444444444,
             "#bd3786"
            ],
            [
             0.5555555555555556,
             "#d8576b"
            ],
            [
             0.6666666666666666,
             "#ed7953"
            ],
            [
             0.7777777777777778,
             "#fb9f3a"
            ],
            [
             0.8888888888888888,
             "#fdca26"
            ],
            [
             1,
             "#f0f921"
            ]
           ],
           "sequentialminus": [
            [
             0,
             "#0d0887"
            ],
            [
             0.1111111111111111,
             "#46039f"
            ],
            [
             0.2222222222222222,
             "#7201a8"
            ],
            [
             0.3333333333333333,
             "#9c179e"
            ],
            [
             0.4444444444444444,
             "#bd3786"
            ],
            [
             0.5555555555555556,
             "#d8576b"
            ],
            [
             0.6666666666666666,
             "#ed7953"
            ],
            [
             0.7777777777777778,
             "#fb9f3a"
            ],
            [
             0.8888888888888888,
             "#fdca26"
            ],
            [
             1,
             "#f0f921"
            ]
           ]
          },
          "colorway": [
           "#636efa",
           "#EF553B",
           "#00cc96",
           "#ab63fa",
           "#FFA15A",
           "#19d3f3",
           "#FF6692",
           "#B6E880",
           "#FF97FF",
           "#FECB52"
          ],
          "font": {
           "color": "#2a3f5f"
          },
          "geo": {
           "bgcolor": "white",
           "lakecolor": "white",
           "landcolor": "white",
           "showlakes": true,
           "showland": true,
           "subunitcolor": "#C8D4E3"
          },
          "hoverlabel": {
           "align": "left"
          },
          "hovermode": "closest",
          "mapbox": {
           "style": "light"
          },
          "paper_bgcolor": "white",
          "plot_bgcolor": "white",
          "polar": {
           "angularaxis": {
            "gridcolor": "#EBF0F8",
            "linecolor": "#EBF0F8",
            "ticks": ""
           },
           "bgcolor": "white",
           "radialaxis": {
            "gridcolor": "#EBF0F8",
            "linecolor": "#EBF0F8",
            "ticks": ""
           }
          },
          "scene": {
           "xaxis": {
            "backgroundcolor": "white",
            "gridcolor": "#DFE8F3",
            "gridwidth": 2,
            "linecolor": "#EBF0F8",
            "showbackground": true,
            "ticks": "",
            "zerolinecolor": "#EBF0F8"
           },
           "yaxis": {
            "backgroundcolor": "white",
            "gridcolor": "#DFE8F3",
            "gridwidth": 2,
            "linecolor": "#EBF0F8",
            "showbackground": true,
            "ticks": "",
            "zerolinecolor": "#EBF0F8"
           },
           "zaxis": {
            "backgroundcolor": "white",
            "gridcolor": "#DFE8F3",
            "gridwidth": 2,
            "linecolor": "#EBF0F8",
            "showbackground": true,
            "ticks": "",
            "zerolinecolor": "#EBF0F8"
           }
          },
          "shapedefaults": {
           "line": {
            "color": "#2a3f5f"
           }
          },
          "ternary": {
           "aaxis": {
            "gridcolor": "#DFE8F3",
            "linecolor": "#A2B1C6",
            "ticks": ""
           },
           "baxis": {
            "gridcolor": "#DFE8F3",
            "linecolor": "#A2B1C6",
            "ticks": ""
           },
           "bgcolor": "white",
           "caxis": {
            "gridcolor": "#DFE8F3",
            "linecolor": "#A2B1C6",
            "ticks": ""
           }
          },
          "title": {
           "x": 0.05
          },
          "xaxis": {
           "automargin": true,
           "gridcolor": "#EBF0F8",
           "linecolor": "#EBF0F8",
           "ticks": "",
           "title": {
            "standoff": 15
           },
           "zerolinecolor": "#EBF0F8",
           "zerolinewidth": 2
          },
          "yaxis": {
           "automargin": true,
           "gridcolor": "#EBF0F8",
           "linecolor": "#EBF0F8",
           "ticks": "",
           "title": {
            "standoff": 15
           },
           "zerolinecolor": "#EBF0F8",
           "zerolinewidth": 2
          }
         }
        },
        "width": 1300,
        "xaxis": {
         "anchor": "y",
         "domain": [
          0,
          0.05500000000000001
         ],
         "title": {
          "text": "Time Period"
         }
        },
        "xaxis10": {
         "anchor": "y10",
         "domain": [
          0.9450000000000001,
          1
         ],
         "matches": "x",
         "title": {
          "text": "Time Period"
         }
        },
        "xaxis2": {
         "anchor": "y2",
         "domain": [
          0.10500000000000001,
          0.16000000000000003
         ],
         "matches": "x",
         "title": {
          "text": "Time Period"
         }
        },
        "xaxis3": {
         "anchor": "y3",
         "domain": [
          0.21000000000000002,
          0.265
         ],
         "matches": "x",
         "title": {
          "text": "Time Period"
         }
        },
        "xaxis4": {
         "anchor": "y4",
         "domain": [
          0.31500000000000006,
          0.37000000000000005
         ],
         "matches": "x",
         "title": {
          "text": "Time Period"
         }
        },
        "xaxis5": {
         "anchor": "y5",
         "domain": [
          0.42000000000000004,
          0.47500000000000003
         ],
         "matches": "x",
         "title": {
          "text": "Time Period"
         }
        },
        "xaxis6": {
         "anchor": "y6",
         "domain": [
          0.525,
          0.5800000000000001
         ],
         "matches": "x",
         "title": {
          "text": "Time Period"
         }
        },
        "xaxis7": {
         "anchor": "y7",
         "domain": [
          0.6300000000000001,
          0.6850000000000002
         ],
         "matches": "x",
         "title": {
          "text": "Time Period"
         }
        },
        "xaxis8": {
         "anchor": "y8",
         "domain": [
          0.7350000000000001,
          0.7900000000000001
         ],
         "matches": "x",
         "title": {
          "text": "Time Period"
         }
        },
        "xaxis9": {
         "anchor": "y9",
         "domain": [
          0.8400000000000001,
          0.8950000000000001
         ],
         "matches": "x",
         "title": {
          "text": "Time Period"
         }
        },
        "yaxis": {
         "anchor": "x",
         "domain": [
          0,
          1
         ],
         "title": {
          "text": "Age-standardised rate of deaths due to injuries (per 100,000)"
         }
        },
        "yaxis10": {
         "anchor": "x10",
         "domain": [
          0,
          1
         ],
         "matches": "y",
         "showticklabels": false
        },
        "yaxis2": {
         "anchor": "x2",
         "domain": [
          0,
          1
         ],
         "matches": "y",
         "showticklabels": false
        },
        "yaxis3": {
         "anchor": "x3",
         "domain": [
          0,
          1
         ],
         "matches": "y",
         "showticklabels": false
        },
        "yaxis4": {
         "anchor": "x4",
         "domain": [
          0,
          1
         ],
         "matches": "y",
         "showticklabels": false
        },
        "yaxis5": {
         "anchor": "x5",
         "domain": [
          0,
          1
         ],
         "matches": "y",
         "showticklabels": false
        },
        "yaxis6": {
         "anchor": "x6",
         "domain": [
          0,
          1
         ],
         "matches": "y",
         "showticklabels": false
        },
        "yaxis7": {
         "anchor": "x7",
         "domain": [
          0,
          1
         ],
         "matches": "y",
         "showticklabels": false
        },
        "yaxis8": {
         "anchor": "x8",
         "domain": [
          0,
          1
         ],
         "matches": "y",
         "showticklabels": false
        },
        "yaxis9": {
         "anchor": "x9",
         "domain": [
          0,
          1
         ],
         "matches": "y",
         "showticklabels": false
        }
       }
      }
     },
     "metadata": {},
     "output_type": "display_data"
    }
   ],
   "source": [
    "import plotly.express as px\n",
    "\n",
    "# Stacked Bar Chart\n",
    "fig = px.bar(\n",
    "    d2, \n",
    "    x=\"ReportingCategory4\",  # Time period (Year)\n",
    "    y=\"Number of Cases\",  # Age-standardised rate (ASR)\n",
    "    color=\"ReportingCategory1\",  # Stack by gender\n",
    "    # title=\"Age-Standardised Rates per by Gender and Injury Type\",\n",
    "    labels={\"Number of Cases\": \"ASR (per 100,000 population)\", \"ReportingCategory4\": \"Time Period\"},\n",
    "    text=\"Number of Cases\",  # Display values on the bars\n",
    "    facet_col=\"Injury Type\",  # Create a subplot for each injury type\n",
    "    facet_col_spacing=0.05,  # Increase spacing between columns\n",
    "    barmode=\"stack\",  # Stack bars to show contribution by gender\n",
    ")\n",
    "\n",
    "# Customize the chart layout\n",
    "fig.update_traces(\n",
    "    textposition=\"inside\",  # Try moving the text inside or outside\n",
    "    texttemplate=\"%{text}\",  # Display text values directly on the bars\n",
    "    insidetextanchor=\"middle\",  # Anchor the text in the middle of the bars\n",
    ")\n",
    "\n",
    "fig.update_layout(\n",
    "    xaxis_title=\"Time Period\",\n",
    "    yaxis_title=\"Age-standardised rate of deaths due to injuries (per 100,000)\",\n",
    "    template=\"plotly_white\",\n",
    "    legend_title=\"Gender\",\n",
    "    showlegend=True,  # Show legend for gender\n",
    "    width=1300,  # Set the width of the plot\n",
    "    height=400,  # Set the height of the plot,\n",
    "    legend=dict(\n",
    "        x=0.5,  # Position horizontally in the center\n",
    "        y=-0.6,  # Position below the graph (negative values place the legend below)\n",
    "        traceorder=\"normal\",  # Control the order of the legend items\n",
    "        orientation=\"h\",  # Make the legend horizontal\n",
    "        xanchor=\"center\",  # Anchor the legend horizontally in the center\n",
    "        yanchor=\"top\",  # Anchor the legend vertically at the top of its box\n",
    "    )\n",
    ")\n",
    "\n",
    "# Remove \"Injury Type =\" from facet labels and adjust position and angle\n",
    "fig.for_each_annotation(lambda a: a.update(\n",
    "    text=a.text.split('=')[1] if '=' in a.text else a.text,  # Remove \"Injury Type =\" from the label\n",
    "    font=dict(size=12),  # Adjust font size if needed\n",
    "    showarrow=False,  # Disable arrow for the facet title\n",
    "    align='left',  # Center-align the text\n",
    "    textangle=90,  # Rotate the text 90 degrees\n",
    "    y=0.9 if ('Falls' in a.text or 'Suicide' in a.text) else 0.4\n",
    "))\n",
    "\n",
    "fig.show()\n"
   ]
  },
  {
   "cell_type": "code",
   "execution_count": 304,
   "metadata": {},
   "outputs": [],
   "source": [
    "fig.write_html(\"Age_Standardised_rate_of_death_Injury.html\")"
   ]
  },
  {
   "cell_type": "markdown",
   "metadata": {},
   "source": [
    "# II. Table H2: Number and crude rate of injury hospitalisations by cause, age group and sex, Australia, 2022-23                         "
   ]
  },
  {
   "cell_type": "code",
   "execution_count": 348,
   "metadata": {},
   "outputs": [],
   "source": [
    "h2=df[df['TableReference']=='H2']"
   ]
  },
  {
   "cell_type": "code",
   "execution_count": 326,
   "metadata": {},
   "outputs": [
    {
     "data": {
      "text/html": [
       "<div>\n",
       "<style scoped>\n",
       "    .dataframe tbody tr th:only-of-type {\n",
       "        vertical-align: middle;\n",
       "    }\n",
       "\n",
       "    .dataframe tbody tr th {\n",
       "        vertical-align: top;\n",
       "    }\n",
       "\n",
       "    .dataframe thead th {\n",
       "        text-align: right;\n",
       "    }\n",
       "</style>\n",
       "<table border=\"1\" class=\"dataframe\">\n",
       "  <thead>\n",
       "    <tr style=\"text-align: right;\">\n",
       "      <th></th>\n",
       "      <th>TableReference</th>\n",
       "      <th>TableTitle</th>\n",
       "      <th>PeriodFrom</th>\n",
       "      <th>PeriodTo</th>\n",
       "      <th>ReportingCategory1</th>\n",
       "      <th>Injury Type</th>\n",
       "      <th>ReportingCategory3</th>\n",
       "      <th>ReportingCategory4</th>\n",
       "      <th>MeasureName</th>\n",
       "      <th>Footnotes</th>\n",
       "      <th>MeasureValueLabel</th>\n",
       "      <th>Number of Cases</th>\n",
       "    </tr>\n",
       "  </thead>\n",
       "  <tbody>\n",
       "    <tr>\n",
       "      <th>1008</th>\n",
       "      <td>H2</td>\n",
       "      <td>Table H2: Number and crude rate of injury hosp...</td>\n",
       "      <td>2022-2023</td>\n",
       "      <td>2022-2023</td>\n",
       "      <td>Males</td>\n",
       "      <td>Accidental poisoning</td>\n",
       "      <td>NaN</td>\n",
       "      <td>0-4</td>\n",
       "      <td>Hospitalisations</td>\n",
       "      <td>Source: AIHW National Hospital Morbidity Datab...</td>\n",
       "      <td>622</td>\n",
       "      <td>622.0</td>\n",
       "    </tr>\n",
       "    <tr>\n",
       "      <th>1009</th>\n",
       "      <td>H2</td>\n",
       "      <td>Table H2: Number and crude rate of injury hosp...</td>\n",
       "      <td>2022-2023</td>\n",
       "      <td>2022-2023</td>\n",
       "      <td>Males</td>\n",
       "      <td>Accidental poisoning</td>\n",
       "      <td>NaN</td>\n",
       "      <td>5-14</td>\n",
       "      <td>Hospitalisations</td>\n",
       "      <td>Source: AIHW National Hospital Morbidity Datab...</td>\n",
       "      <td>248</td>\n",
       "      <td>248.0</td>\n",
       "    </tr>\n",
       "    <tr>\n",
       "      <th>1010</th>\n",
       "      <td>H2</td>\n",
       "      <td>Table H2: Number and crude rate of injury hosp...</td>\n",
       "      <td>2022-2023</td>\n",
       "      <td>2022-2023</td>\n",
       "      <td>Males</td>\n",
       "      <td>Accidental poisoning</td>\n",
       "      <td>NaN</td>\n",
       "      <td>15-24</td>\n",
       "      <td>Hospitalisations</td>\n",
       "      <td>Source: AIHW National Hospital Morbidity Datab...</td>\n",
       "      <td>487</td>\n",
       "      <td>487.0</td>\n",
       "    </tr>\n",
       "    <tr>\n",
       "      <th>1011</th>\n",
       "      <td>H2</td>\n",
       "      <td>Table H2: Number and crude rate of injury hosp...</td>\n",
       "      <td>2022-2023</td>\n",
       "      <td>2022-2023</td>\n",
       "      <td>Males</td>\n",
       "      <td>Accidental poisoning</td>\n",
       "      <td>NaN</td>\n",
       "      <td>25-44</td>\n",
       "      <td>Hospitalisations</td>\n",
       "      <td>Source: AIHW National Hospital Morbidity Datab...</td>\n",
       "      <td>1466</td>\n",
       "      <td>1466.0</td>\n",
       "    </tr>\n",
       "    <tr>\n",
       "      <th>1012</th>\n",
       "      <td>H2</td>\n",
       "      <td>Table H2: Number and crude rate of injury hosp...</td>\n",
       "      <td>2022-2023</td>\n",
       "      <td>2022-2023</td>\n",
       "      <td>Males</td>\n",
       "      <td>Accidental poisoning</td>\n",
       "      <td>NaN</td>\n",
       "      <td>45-64</td>\n",
       "      <td>Hospitalisations</td>\n",
       "      <td>Source: AIHW National Hospital Morbidity Datab...</td>\n",
       "      <td>960</td>\n",
       "      <td>960.0</td>\n",
       "    </tr>\n",
       "    <tr>\n",
       "      <th>...</th>\n",
       "      <td>...</td>\n",
       "      <td>...</td>\n",
       "      <td>...</td>\n",
       "      <td>...</td>\n",
       "      <td>...</td>\n",
       "      <td>...</td>\n",
       "      <td>...</td>\n",
       "      <td>...</td>\n",
       "      <td>...</td>\n",
       "      <td>...</td>\n",
       "      <td>...</td>\n",
       "      <td>...</td>\n",
       "    </tr>\n",
       "    <tr>\n",
       "      <th>1633</th>\n",
       "      <td>H2</td>\n",
       "      <td>Table H2: Number and crude rate of injury hosp...</td>\n",
       "      <td>2022-2023</td>\n",
       "      <td>2022-2023</td>\n",
       "      <td>Persons</td>\n",
       "      <td>All external causes</td>\n",
       "      <td>NaN</td>\n",
       "      <td>15-24</td>\n",
       "      <td>Hospitalisations per 100,000 population</td>\n",
       "      <td>Source: AIHW National Hospital Morbidity Datab...</td>\n",
       "      <td>2107.4</td>\n",
       "      <td>2107.4</td>\n",
       "    </tr>\n",
       "    <tr>\n",
       "      <th>1634</th>\n",
       "      <td>H2</td>\n",
       "      <td>Table H2: Number and crude rate of injury hosp...</td>\n",
       "      <td>2022-2023</td>\n",
       "      <td>2022-2023</td>\n",
       "      <td>Persons</td>\n",
       "      <td>All external causes</td>\n",
       "      <td>NaN</td>\n",
       "      <td>25-44</td>\n",
       "      <td>Hospitalisations per 100,000 population</td>\n",
       "      <td>Source: AIHW National Hospital Morbidity Datab...</td>\n",
       "      <td>1607.8</td>\n",
       "      <td>1607.8</td>\n",
       "    </tr>\n",
       "    <tr>\n",
       "      <th>1635</th>\n",
       "      <td>H2</td>\n",
       "      <td>Table H2: Number and crude rate of injury hosp...</td>\n",
       "      <td>2022-2023</td>\n",
       "      <td>2022-2023</td>\n",
       "      <td>Persons</td>\n",
       "      <td>All external causes</td>\n",
       "      <td>NaN</td>\n",
       "      <td>45-64</td>\n",
       "      <td>Hospitalisations per 100,000 population</td>\n",
       "      <td>Source: AIHW National Hospital Morbidity Datab...</td>\n",
       "      <td>1747.4</td>\n",
       "      <td>1747.4</td>\n",
       "    </tr>\n",
       "    <tr>\n",
       "      <th>1636</th>\n",
       "      <td>H2</td>\n",
       "      <td>Table H2: Number and crude rate of injury hosp...</td>\n",
       "      <td>2022-2023</td>\n",
       "      <td>2022-2023</td>\n",
       "      <td>Persons</td>\n",
       "      <td>All external causes</td>\n",
       "      <td>NaN</td>\n",
       "      <td>65+</td>\n",
       "      <td>Hospitalisations per 100,000 population</td>\n",
       "      <td>Source: AIHW National Hospital Morbidity Datab...</td>\n",
       "      <td>4187.4</td>\n",
       "      <td>4187.4</td>\n",
       "    </tr>\n",
       "    <tr>\n",
       "      <th>1637</th>\n",
       "      <td>H2</td>\n",
       "      <td>Table H2: Number and crude rate of injury hosp...</td>\n",
       "      <td>2022-2023</td>\n",
       "      <td>2022-2023</td>\n",
       "      <td>Persons</td>\n",
       "      <td>All external causes</td>\n",
       "      <td>NaN</td>\n",
       "      <td>All ages</td>\n",
       "      <td>Hospitalisations per 100,000 population</td>\n",
       "      <td>Source: AIHW National Hospital Morbidity Datab...</td>\n",
       "      <td>2084</td>\n",
       "      <td>2084.0</td>\n",
       "    </tr>\n",
       "  </tbody>\n",
       "</table>\n",
       "<p>630 rows × 12 columns</p>\n",
       "</div>"
      ],
      "text/plain": [
       "     TableReference                                         TableTitle  \\\n",
       "1008             H2  Table H2: Number and crude rate of injury hosp...   \n",
       "1009             H2  Table H2: Number and crude rate of injury hosp...   \n",
       "1010             H2  Table H2: Number and crude rate of injury hosp...   \n",
       "1011             H2  Table H2: Number and crude rate of injury hosp...   \n",
       "1012             H2  Table H2: Number and crude rate of injury hosp...   \n",
       "...             ...                                                ...   \n",
       "1633             H2  Table H2: Number and crude rate of injury hosp...   \n",
       "1634             H2  Table H2: Number and crude rate of injury hosp...   \n",
       "1635             H2  Table H2: Number and crude rate of injury hosp...   \n",
       "1636             H2  Table H2: Number and crude rate of injury hosp...   \n",
       "1637             H2  Table H2: Number and crude rate of injury hosp...   \n",
       "\n",
       "     PeriodFrom   PeriodTo ReportingCategory1           Injury Type  \\\n",
       "1008  2022-2023  2022-2023              Males  Accidental poisoning   \n",
       "1009  2022-2023  2022-2023              Males  Accidental poisoning   \n",
       "1010  2022-2023  2022-2023              Males  Accidental poisoning   \n",
       "1011  2022-2023  2022-2023              Males  Accidental poisoning   \n",
       "1012  2022-2023  2022-2023              Males  Accidental poisoning   \n",
       "...         ...        ...                ...                   ...   \n",
       "1633  2022-2023  2022-2023            Persons   All external causes   \n",
       "1634  2022-2023  2022-2023            Persons   All external causes   \n",
       "1635  2022-2023  2022-2023            Persons   All external causes   \n",
       "1636  2022-2023  2022-2023            Persons   All external causes   \n",
       "1637  2022-2023  2022-2023            Persons   All external causes   \n",
       "\n",
       "     ReportingCategory3 ReportingCategory4  \\\n",
       "1008                NaN                0-4   \n",
       "1009                NaN               5-14   \n",
       "1010                NaN              15-24   \n",
       "1011                NaN              25-44   \n",
       "1012                NaN              45-64   \n",
       "...                 ...                ...   \n",
       "1633                NaN              15-24   \n",
       "1634                NaN              25-44   \n",
       "1635                NaN              45-64   \n",
       "1636                NaN                65+   \n",
       "1637                NaN           All ages   \n",
       "\n",
       "                                  MeasureName  \\\n",
       "1008                         Hospitalisations   \n",
       "1009                         Hospitalisations   \n",
       "1010                         Hospitalisations   \n",
       "1011                         Hospitalisations   \n",
       "1012                         Hospitalisations   \n",
       "...                                       ...   \n",
       "1633  Hospitalisations per 100,000 population   \n",
       "1634  Hospitalisations per 100,000 population   \n",
       "1635  Hospitalisations per 100,000 population   \n",
       "1636  Hospitalisations per 100,000 population   \n",
       "1637  Hospitalisations per 100,000 population   \n",
       "\n",
       "                                              Footnotes MeasureValueLabel  \\\n",
       "1008  Source: AIHW National Hospital Morbidity Datab...               622   \n",
       "1009  Source: AIHW National Hospital Morbidity Datab...               248   \n",
       "1010  Source: AIHW National Hospital Morbidity Datab...               487   \n",
       "1011  Source: AIHW National Hospital Morbidity Datab...              1466   \n",
       "1012  Source: AIHW National Hospital Morbidity Datab...               960   \n",
       "...                                                 ...               ...   \n",
       "1633  Source: AIHW National Hospital Morbidity Datab...            2107.4   \n",
       "1634  Source: AIHW National Hospital Morbidity Datab...            1607.8   \n",
       "1635  Source: AIHW National Hospital Morbidity Datab...            1747.4   \n",
       "1636  Source: AIHW National Hospital Morbidity Datab...            4187.4   \n",
       "1637  Source: AIHW National Hospital Morbidity Datab...              2084   \n",
       "\n",
       "      Number of Cases  \n",
       "1008            622.0  \n",
       "1009            248.0  \n",
       "1010            487.0  \n",
       "1011           1466.0  \n",
       "1012            960.0  \n",
       "...               ...  \n",
       "1633           2107.4  \n",
       "1634           1607.8  \n",
       "1635           1747.4  \n",
       "1636           4187.4  \n",
       "1637           2084.0  \n",
       "\n",
       "[630 rows x 12 columns]"
      ]
     },
     "execution_count": 326,
     "metadata": {},
     "output_type": "execute_result"
    }
   ],
   "source": [
    "h2"
   ]
  },
  {
   "cell_type": "code",
   "execution_count": 327,
   "metadata": {},
   "outputs": [
    {
     "data": {
      "text/plain": [
       "1008      Males\n",
       "1009      Males\n",
       "1010      Males\n",
       "1011      Males\n",
       "1012      Males\n",
       "         ...   \n",
       "1633    Persons\n",
       "1634    Persons\n",
       "1635    Persons\n",
       "1636    Persons\n",
       "1637    Persons\n",
       "Name: ReportingCategory1, Length: 630, dtype: object"
      ]
     },
     "execution_count": 327,
     "metadata": {},
     "output_type": "execute_result"
    }
   ],
   "source": [
    "h2['ReportingCategory1']"
   ]
  },
  {
   "cell_type": "code",
   "execution_count": 349,
   "metadata": {},
   "outputs": [],
   "source": [
    "# Rename columns in df\n",
    "h2 = h2.rename(columns={\n",
    "    'ReportingCategory4': 'Age Group',\n",
    "})"
   ]
  },
  {
   "cell_type": "code",
   "execution_count": 350,
   "metadata": {},
   "outputs": [
    {
     "data": {
      "text/plain": [
       "MeasureName\n",
       "Hospitalisations                           315\n",
       "Hospitalisations per 100,000 population    315\n",
       "Name: count, dtype: int64"
      ]
     },
     "execution_count": 350,
     "metadata": {},
     "output_type": "execute_result"
    }
   ],
   "source": [
    "h2['MeasureName'].value_counts()"
   ]
  },
  {
   "cell_type": "code",
   "execution_count": 351,
   "metadata": {},
   "outputs": [],
   "source": [
    "h2=h2[h2['Age Group']!='All ages']\n",
    "h2=h2[h2['Injury Type']!='All external causes']\n",
    "h2=h2[h2['ReportingCategory1']!='Persons']\n",
    "h2=h2[h2['MeasureName']!='Hospitalisations']"
   ]
  },
  {
   "cell_type": "code",
   "execution_count": 352,
   "metadata": {},
   "outputs": [
    {
     "data": {
      "text/plain": [
       "'Table H2: Number and crude rate of injury hospitalisations by cause, age group and sex, Australia, 2022-23'"
      ]
     },
     "execution_count": 352,
     "metadata": {},
     "output_type": "execute_result"
    }
   ],
   "source": [
    "h2['TableTitle'].iloc[0]"
   ]
  },
  {
   "cell_type": "code",
   "execution_count": 353,
   "metadata": {},
   "outputs": [
    {
     "data": {
      "text/plain": [
       "PeriodFrom\n",
       "2022-2023    168\n",
       "Name: count, dtype: int64"
      ]
     },
     "execution_count": 353,
     "metadata": {},
     "output_type": "execute_result"
    }
   ],
   "source": [
    "h2['PeriodFrom'].value_counts()"
   ]
  },
  {
   "cell_type": "code",
   "execution_count": 354,
   "metadata": {},
   "outputs": [
    {
     "data": {
      "text/plain": [
       "PeriodTo\n",
       "2022-2023    168\n",
       "Name: count, dtype: int64"
      ]
     },
     "execution_count": 354,
     "metadata": {},
     "output_type": "execute_result"
    }
   ],
   "source": [
    "h2['PeriodTo'].value_counts()"
   ]
  },
  {
   "cell_type": "code",
   "execution_count": 355,
   "metadata": {},
   "outputs": [
    {
     "data": {
      "text/plain": [
       "ReportingCategory1\n",
       "Males      90\n",
       "Females    78\n",
       "Name: count, dtype: int64"
      ]
     },
     "execution_count": 355,
     "metadata": {},
     "output_type": "execute_result"
    }
   ],
   "source": [
    "h2['ReportingCategory1'].value_counts()"
   ]
  },
  {
   "cell_type": "code",
   "execution_count": 356,
   "metadata": {},
   "outputs": [
    {
     "data": {
      "text/plain": [
       "Injury Type\n",
       "Accidental poisoning            12\n",
       "Assault                         12\n",
       "Choking and suffocation         12\n",
       "Contact with living things      12\n",
       "Contact with objects            12\n",
       "Drowning and submersion         12\n",
       "Falls                           12\n",
       "Intentional self-harm           12\n",
       "Other unintentional causes      12\n",
       "Overexertion                    12\n",
       "Thermal causes                  12\n",
       "Transport                       12\n",
       "Undetermined intent             12\n",
       "Electricity and air pressure     6\n",
       "Forces of nature                 6\n",
       "Name: count, dtype: int64"
      ]
     },
     "execution_count": 356,
     "metadata": {},
     "output_type": "execute_result"
    }
   ],
   "source": [
    "h2['Injury Type'].value_counts()"
   ]
  },
  {
   "cell_type": "code",
   "execution_count": 357,
   "metadata": {},
   "outputs": [
    {
     "data": {
      "text/plain": [
       "Age Group\n",
       "0-4      28\n",
       "5-14     28\n",
       "15-24    28\n",
       "25-44    28\n",
       "45-64    28\n",
       "65+      28\n",
       "Name: count, dtype: int64"
      ]
     },
     "execution_count": 357,
     "metadata": {},
     "output_type": "execute_result"
    }
   ],
   "source": [
    "h2['Age Group'].value_counts()"
   ]
  },
  {
   "cell_type": "code",
   "execution_count": 358,
   "metadata": {},
   "outputs": [
    {
     "data": {
      "text/html": [
       "<div>\n",
       "<style scoped>\n",
       "    .dataframe tbody tr th:only-of-type {\n",
       "        vertical-align: middle;\n",
       "    }\n",
       "\n",
       "    .dataframe tbody tr th {\n",
       "        vertical-align: top;\n",
       "    }\n",
       "\n",
       "    .dataframe thead th {\n",
       "        text-align: right;\n",
       "    }\n",
       "</style>\n",
       "<table border=\"1\" class=\"dataframe\">\n",
       "  <thead>\n",
       "    <tr style=\"text-align: right;\">\n",
       "      <th></th>\n",
       "      <th>TableReference</th>\n",
       "      <th>TableTitle</th>\n",
       "      <th>PeriodFrom</th>\n",
       "      <th>PeriodTo</th>\n",
       "      <th>ReportingCategory1</th>\n",
       "      <th>Injury Type</th>\n",
       "      <th>ReportingCategory3</th>\n",
       "      <th>Age Group</th>\n",
       "      <th>MeasureName</th>\n",
       "      <th>Footnotes</th>\n",
       "      <th>MeasureValueLabel</th>\n",
       "      <th>Number of Cases</th>\n",
       "    </tr>\n",
       "  </thead>\n",
       "  <tbody>\n",
       "    <tr>\n",
       "      <th>1015</th>\n",
       "      <td>H2</td>\n",
       "      <td>Table H2: Number and crude rate of injury hosp...</td>\n",
       "      <td>2022-2023</td>\n",
       "      <td>2022-2023</td>\n",
       "      <td>Males</td>\n",
       "      <td>Accidental poisoning</td>\n",
       "      <td>NaN</td>\n",
       "      <td>0-4</td>\n",
       "      <td>Hospitalisations per 100,000 population</td>\n",
       "      <td>Source: AIHW National Hospital Morbidity Datab...</td>\n",
       "      <td>80</td>\n",
       "      <td>80.0</td>\n",
       "    </tr>\n",
       "    <tr>\n",
       "      <th>1016</th>\n",
       "      <td>H2</td>\n",
       "      <td>Table H2: Number and crude rate of injury hosp...</td>\n",
       "      <td>2022-2023</td>\n",
       "      <td>2022-2023</td>\n",
       "      <td>Males</td>\n",
       "      <td>Accidental poisoning</td>\n",
       "      <td>NaN</td>\n",
       "      <td>5-14</td>\n",
       "      <td>Hospitalisations per 100,000 population</td>\n",
       "      <td>Source: AIHW National Hospital Morbidity Datab...</td>\n",
       "      <td>14.8</td>\n",
       "      <td>14.8</td>\n",
       "    </tr>\n",
       "    <tr>\n",
       "      <th>1017</th>\n",
       "      <td>H2</td>\n",
       "      <td>Table H2: Number and crude rate of injury hosp...</td>\n",
       "      <td>2022-2023</td>\n",
       "      <td>2022-2023</td>\n",
       "      <td>Males</td>\n",
       "      <td>Accidental poisoning</td>\n",
       "      <td>NaN</td>\n",
       "      <td>15-24</td>\n",
       "      <td>Hospitalisations per 100,000 population</td>\n",
       "      <td>Source: AIHW National Hospital Morbidity Datab...</td>\n",
       "      <td>29</td>\n",
       "      <td>29.0</td>\n",
       "    </tr>\n",
       "    <tr>\n",
       "      <th>1018</th>\n",
       "      <td>H2</td>\n",
       "      <td>Table H2: Number and crude rate of injury hosp...</td>\n",
       "      <td>2022-2023</td>\n",
       "      <td>2022-2023</td>\n",
       "      <td>Males</td>\n",
       "      <td>Accidental poisoning</td>\n",
       "      <td>NaN</td>\n",
       "      <td>25-44</td>\n",
       "      <td>Hospitalisations per 100,000 population</td>\n",
       "      <td>Source: AIHW National Hospital Morbidity Datab...</td>\n",
       "      <td>39.3</td>\n",
       "      <td>39.3</td>\n",
       "    </tr>\n",
       "    <tr>\n",
       "      <th>1019</th>\n",
       "      <td>H2</td>\n",
       "      <td>Table H2: Number and crude rate of injury hosp...</td>\n",
       "      <td>2022-2023</td>\n",
       "      <td>2022-2023</td>\n",
       "      <td>Males</td>\n",
       "      <td>Accidental poisoning</td>\n",
       "      <td>NaN</td>\n",
       "      <td>45-64</td>\n",
       "      <td>Hospitalisations per 100,000 population</td>\n",
       "      <td>Source: AIHW National Hospital Morbidity Datab...</td>\n",
       "      <td>30.9</td>\n",
       "      <td>30.9</td>\n",
       "    </tr>\n",
       "    <tr>\n",
       "      <th>...</th>\n",
       "      <td>...</td>\n",
       "      <td>...</td>\n",
       "      <td>...</td>\n",
       "      <td>...</td>\n",
       "      <td>...</td>\n",
       "      <td>...</td>\n",
       "      <td>...</td>\n",
       "      <td>...</td>\n",
       "      <td>...</td>\n",
       "      <td>...</td>\n",
       "      <td>...</td>\n",
       "      <td>...</td>\n",
       "    </tr>\n",
       "    <tr>\n",
       "      <th>1408</th>\n",
       "      <td>H2</td>\n",
       "      <td>Table H2: Number and crude rate of injury hosp...</td>\n",
       "      <td>2022-2023</td>\n",
       "      <td>2022-2023</td>\n",
       "      <td>Females</td>\n",
       "      <td>Undetermined intent</td>\n",
       "      <td>NaN</td>\n",
       "      <td>5-14</td>\n",
       "      <td>Hospitalisations per 100,000 population</td>\n",
       "      <td>Source: AIHW National Hospital Morbidity Datab...</td>\n",
       "      <td>6.1</td>\n",
       "      <td>6.1</td>\n",
       "    </tr>\n",
       "    <tr>\n",
       "      <th>1409</th>\n",
       "      <td>H2</td>\n",
       "      <td>Table H2: Number and crude rate of injury hosp...</td>\n",
       "      <td>2022-2023</td>\n",
       "      <td>2022-2023</td>\n",
       "      <td>Females</td>\n",
       "      <td>Undetermined intent</td>\n",
       "      <td>NaN</td>\n",
       "      <td>15-24</td>\n",
       "      <td>Hospitalisations per 100,000 population</td>\n",
       "      <td>Source: AIHW National Hospital Morbidity Datab...</td>\n",
       "      <td>18.3</td>\n",
       "      <td>18.3</td>\n",
       "    </tr>\n",
       "    <tr>\n",
       "      <th>1410</th>\n",
       "      <td>H2</td>\n",
       "      <td>Table H2: Number and crude rate of injury hosp...</td>\n",
       "      <td>2022-2023</td>\n",
       "      <td>2022-2023</td>\n",
       "      <td>Females</td>\n",
       "      <td>Undetermined intent</td>\n",
       "      <td>NaN</td>\n",
       "      <td>25-44</td>\n",
       "      <td>Hospitalisations per 100,000 population</td>\n",
       "      <td>Source: AIHW National Hospital Morbidity Datab...</td>\n",
       "      <td>15.8</td>\n",
       "      <td>15.8</td>\n",
       "    </tr>\n",
       "    <tr>\n",
       "      <th>1411</th>\n",
       "      <td>H2</td>\n",
       "      <td>Table H2: Number and crude rate of injury hosp...</td>\n",
       "      <td>2022-2023</td>\n",
       "      <td>2022-2023</td>\n",
       "      <td>Females</td>\n",
       "      <td>Undetermined intent</td>\n",
       "      <td>NaN</td>\n",
       "      <td>45-64</td>\n",
       "      <td>Hospitalisations per 100,000 population</td>\n",
       "      <td>Source: AIHW National Hospital Morbidity Datab...</td>\n",
       "      <td>8.9</td>\n",
       "      <td>8.9</td>\n",
       "    </tr>\n",
       "    <tr>\n",
       "      <th>1412</th>\n",
       "      <td>H2</td>\n",
       "      <td>Table H2: Number and crude rate of injury hosp...</td>\n",
       "      <td>2022-2023</td>\n",
       "      <td>2022-2023</td>\n",
       "      <td>Females</td>\n",
       "      <td>Undetermined intent</td>\n",
       "      <td>NaN</td>\n",
       "      <td>65+</td>\n",
       "      <td>Hospitalisations per 100,000 population</td>\n",
       "      <td>Source: AIHW National Hospital Morbidity Datab...</td>\n",
       "      <td>8.1</td>\n",
       "      <td>8.1</td>\n",
       "    </tr>\n",
       "  </tbody>\n",
       "</table>\n",
       "<p>168 rows × 12 columns</p>\n",
       "</div>"
      ],
      "text/plain": [
       "     TableReference                                         TableTitle  \\\n",
       "1015             H2  Table H2: Number and crude rate of injury hosp...   \n",
       "1016             H2  Table H2: Number and crude rate of injury hosp...   \n",
       "1017             H2  Table H2: Number and crude rate of injury hosp...   \n",
       "1018             H2  Table H2: Number and crude rate of injury hosp...   \n",
       "1019             H2  Table H2: Number and crude rate of injury hosp...   \n",
       "...             ...                                                ...   \n",
       "1408             H2  Table H2: Number and crude rate of injury hosp...   \n",
       "1409             H2  Table H2: Number and crude rate of injury hosp...   \n",
       "1410             H2  Table H2: Number and crude rate of injury hosp...   \n",
       "1411             H2  Table H2: Number and crude rate of injury hosp...   \n",
       "1412             H2  Table H2: Number and crude rate of injury hosp...   \n",
       "\n",
       "     PeriodFrom   PeriodTo ReportingCategory1           Injury Type  \\\n",
       "1015  2022-2023  2022-2023              Males  Accidental poisoning   \n",
       "1016  2022-2023  2022-2023              Males  Accidental poisoning   \n",
       "1017  2022-2023  2022-2023              Males  Accidental poisoning   \n",
       "1018  2022-2023  2022-2023              Males  Accidental poisoning   \n",
       "1019  2022-2023  2022-2023              Males  Accidental poisoning   \n",
       "...         ...        ...                ...                   ...   \n",
       "1408  2022-2023  2022-2023            Females   Undetermined intent   \n",
       "1409  2022-2023  2022-2023            Females   Undetermined intent   \n",
       "1410  2022-2023  2022-2023            Females   Undetermined intent   \n",
       "1411  2022-2023  2022-2023            Females   Undetermined intent   \n",
       "1412  2022-2023  2022-2023            Females   Undetermined intent   \n",
       "\n",
       "     ReportingCategory3 Age Group                              MeasureName  \\\n",
       "1015                NaN       0-4  Hospitalisations per 100,000 population   \n",
       "1016                NaN      5-14  Hospitalisations per 100,000 population   \n",
       "1017                NaN     15-24  Hospitalisations per 100,000 population   \n",
       "1018                NaN     25-44  Hospitalisations per 100,000 population   \n",
       "1019                NaN     45-64  Hospitalisations per 100,000 population   \n",
       "...                 ...       ...                                      ...   \n",
       "1408                NaN      5-14  Hospitalisations per 100,000 population   \n",
       "1409                NaN     15-24  Hospitalisations per 100,000 population   \n",
       "1410                NaN     25-44  Hospitalisations per 100,000 population   \n",
       "1411                NaN     45-64  Hospitalisations per 100,000 population   \n",
       "1412                NaN       65+  Hospitalisations per 100,000 population   \n",
       "\n",
       "                                              Footnotes MeasureValueLabel  \\\n",
       "1015  Source: AIHW National Hospital Morbidity Datab...                80   \n",
       "1016  Source: AIHW National Hospital Morbidity Datab...              14.8   \n",
       "1017  Source: AIHW National Hospital Morbidity Datab...                29   \n",
       "1018  Source: AIHW National Hospital Morbidity Datab...              39.3   \n",
       "1019  Source: AIHW National Hospital Morbidity Datab...              30.9   \n",
       "...                                                 ...               ...   \n",
       "1408  Source: AIHW National Hospital Morbidity Datab...               6.1   \n",
       "1409  Source: AIHW National Hospital Morbidity Datab...              18.3   \n",
       "1410  Source: AIHW National Hospital Morbidity Datab...              15.8   \n",
       "1411  Source: AIHW National Hospital Morbidity Datab...               8.9   \n",
       "1412  Source: AIHW National Hospital Morbidity Datab...               8.1   \n",
       "\n",
       "      Number of Cases  \n",
       "1015             80.0  \n",
       "1016             14.8  \n",
       "1017             29.0  \n",
       "1018             39.3  \n",
       "1019             30.9  \n",
       "...               ...  \n",
       "1408              6.1  \n",
       "1409             18.3  \n",
       "1410             15.8  \n",
       "1411              8.9  \n",
       "1412              8.1  \n",
       "\n",
       "[168 rows x 12 columns]"
      ]
     },
     "execution_count": 358,
     "metadata": {},
     "output_type": "execute_result"
    }
   ],
   "source": [
    "h2"
   ]
  },
  {
   "cell_type": "code",
   "execution_count": 359,
   "metadata": {},
   "outputs": [],
   "source": [
    "# Initialize the dictionary\n",
    "data_dict = {}\n",
    "\n",
    "# Populate the dictionary\n",
    "for _, row in h2.iterrows():\n",
    "    age_group = row[\"Age Group\"]\n",
    "    gender = row[\"ReportingCategory1\"]\n",
    "    injury_type = row[\"Injury Type\"]\n",
    "    num_cases = row[\"Number of Cases\"]\n",
    "    \n",
    "    # Set up nested dictionary structure\n",
    "    if age_group not in data_dict:\n",
    "        data_dict[age_group] = {}\n",
    "    if gender not in data_dict[age_group]:\n",
    "        data_dict[age_group][gender] = {}\n",
    "    \n",
    "    # Assign the value\n",
    "    data_dict[age_group][gender][injury_type] = num_cases"
   ]
  },
  {
   "cell_type": "code",
   "execution_count": 360,
   "metadata": {},
   "outputs": [
    {
     "data": {
      "text/plain": [
       "'Table H2: Number and crude rate of injury hospitalisations by cause, age group and sex, Australia, 2022-23'"
      ]
     },
     "execution_count": 360,
     "metadata": {},
     "output_type": "execute_result"
    }
   ],
   "source": [
    "h2['TableTitle'].iloc[0]"
   ]
  },
  {
   "cell_type": "code",
   "execution_count": 361,
   "metadata": {},
   "outputs": [
    {
     "data": {
      "text/plain": [
       "{'0-4': {'Males': {'Accidental poisoning': 80.0,\n",
       "   'Assault': 13.9,\n",
       "   'Choking and suffocation': 25.3,\n",
       "   'Contact with living things': 85.6,\n",
       "   'Contact with objects': 346.6,\n",
       "   'Drowning and submersion': 14.1,\n",
       "   'Electricity and air pressure': nan,\n",
       "   'Falls': 612.3,\n",
       "   'Forces of nature': nan,\n",
       "   'Intentional self-harm': nan,\n",
       "   'Other unintentional causes': 103.4,\n",
       "   'Overexertion': 4.6,\n",
       "   'Thermal causes': 96.0,\n",
       "   'Transport': 55.0,\n",
       "   'Undetermined intent': 8.2},\n",
       "  'Females': {'Accidental poisoning': 73.7,\n",
       "   'Assault': 9.8,\n",
       "   'Choking and suffocation': 16.8,\n",
       "   'Contact with living things': 72.2,\n",
       "   'Contact with objects': 280.6,\n",
       "   'Drowning and submersion': 9.6,\n",
       "   'Falls': 476.8,\n",
       "   'Intentional self-harm': nan,\n",
       "   'Other unintentional causes': 75.3,\n",
       "   'Overexertion': 3.5,\n",
       "   'Thermal causes': 55.9,\n",
       "   'Transport': 35.0,\n",
       "   'Undetermined intent': 6.8}},\n",
       " '5-14': {'Males': {'Accidental poisoning': 14.8,\n",
       "   'Assault': 18.4,\n",
       "   'Choking and suffocation': 3.3,\n",
       "   'Contact with living things': 143.5,\n",
       "   'Contact with objects': 308.6,\n",
       "   'Drowning and submersion': 3.4,\n",
       "   'Electricity and air pressure': nan,\n",
       "   'Falls': 596.4,\n",
       "   'Forces of nature': nan,\n",
       "   'Intentional self-harm': 13.1,\n",
       "   'Other unintentional causes': 132.8,\n",
       "   'Overexertion': 24.8,\n",
       "   'Thermal causes': 19.6,\n",
       "   'Transport': 257.7,\n",
       "   'Undetermined intent': 7.2},\n",
       "  'Females': {'Accidental poisoning': 11.0,\n",
       "   'Assault': 11.8,\n",
       "   'Choking and suffocation': 1.7,\n",
       "   'Contact with living things': 76.9,\n",
       "   'Contact with objects': 182.9,\n",
       "   'Drowning and submersion': 1.9,\n",
       "   'Falls': 395.8,\n",
       "   'Intentional self-harm': 96.0,\n",
       "   'Other unintentional causes': 81.9,\n",
       "   'Overexertion': 20.0,\n",
       "   'Thermal causes': 14.0,\n",
       "   'Transport': 90.5,\n",
       "   'Undetermined intent': 6.1}},\n",
       " '15-24': {'Males': {'Accidental poisoning': 29.0,\n",
       "   'Assault': 156.2,\n",
       "   'Choking and suffocation': 1.4,\n",
       "   'Contact with living things': 230.8,\n",
       "   'Contact with objects': 572.3,\n",
       "   'Drowning and submersion': 2.7,\n",
       "   'Electricity and air pressure': 5.6,\n",
       "   'Falls': 393.8,\n",
       "   'Forces of nature': 3.8,\n",
       "   'Intentional self-harm': 118.7,\n",
       "   'Other unintentional causes': 520.4,\n",
       "   'Overexertion': 83.2,\n",
       "   'Thermal causes': 21.5,\n",
       "   'Transport': 481.1,\n",
       "   'Undetermined intent': 23.6},\n",
       "  'Females': {'Accidental poisoning': 32.0,\n",
       "   'Assault': 90.3,\n",
       "   'Choking and suffocation': 2.2,\n",
       "   'Contact with living things': 117.4,\n",
       "   'Contact with objects': 176.4,\n",
       "   'Drowning and submersion': 1.0,\n",
       "   'Falls': 205.1,\n",
       "   'Intentional self-harm': 375.7,\n",
       "   'Other unintentional causes': 216.0,\n",
       "   'Overexertion': 42.1,\n",
       "   'Thermal causes': 10.7,\n",
       "   'Transport': 235.9,\n",
       "   'Undetermined intent': 18.3}},\n",
       " '25-44': {'Males': {'Accidental poisoning': 39.3,\n",
       "   'Assault': 160.2,\n",
       "   'Choking and suffocation': 2.6,\n",
       "   'Contact with living things': 139.0,\n",
       "   'Contact with objects': 500.9,\n",
       "   'Drowning and submersion': 1.7,\n",
       "   'Electricity and air pressure': 5.7,\n",
       "   'Falls': 317.0,\n",
       "   'Forces of nature': 4.1,\n",
       "   'Intentional self-harm': 91.2,\n",
       "   'Other unintentional causes': 355.0,\n",
       "   'Overexertion': 76.9,\n",
       "   'Thermal causes': 20.7,\n",
       "   'Transport': 343.1,\n",
       "   'Undetermined intent': 24.2},\n",
       "  'Females': {'Accidental poisoning': 27.0,\n",
       "   'Assault': 115.7,\n",
       "   'Choking and suffocation': 2.3,\n",
       "   'Contact with living things': 99.4,\n",
       "   'Contact with objects': 154.4,\n",
       "   'Drowning and submersion': nan,\n",
       "   'Falls': 238.1,\n",
       "   'Intentional self-harm': 131.1,\n",
       "   'Other unintentional causes': 145.1,\n",
       "   'Overexertion': 38.5,\n",
       "   'Thermal causes': 10.3,\n",
       "   'Transport': 153.5,\n",
       "   'Undetermined intent': 15.8}},\n",
       " '45-64': {'Males': {'Accidental poisoning': 30.9,\n",
       "   'Assault': 91.9,\n",
       "   'Choking and suffocation': 5.5,\n",
       "   'Contact with living things': 111.9,\n",
       "   'Contact with objects': 432.2,\n",
       "   'Drowning and submersion': 1.6,\n",
       "   'Electricity and air pressure': 3.2,\n",
       "   'Falls': 542.3,\n",
       "   'Forces of nature': 3.0,\n",
       "   'Intentional self-harm': 62.2,\n",
       "   'Other unintentional causes': 287.9,\n",
       "   'Overexertion': 62.5,\n",
       "   'Thermal causes': 23.6,\n",
       "   'Transport': 331.3,\n",
       "   'Undetermined intent': 16.5},\n",
       "  'Females': {'Accidental poisoning': 26.0,\n",
       "   'Assault': 49.8,\n",
       "   'Choking and suffocation': 4.3,\n",
       "   'Contact with living things': 110.5,\n",
       "   'Contact with objects': 136.5,\n",
       "   'Drowning and submersion': nan,\n",
       "   'Falls': 666.2,\n",
       "   'Intentional self-harm': 87.3,\n",
       "   'Other unintentional causes': 195.4,\n",
       "   'Overexertion': 40.5,\n",
       "   'Thermal causes': 11.7,\n",
       "   'Transport': 155.8,\n",
       "   'Undetermined intent': 8.9}},\n",
       " '65+': {'Males': {'Accidental poisoning': 46.8,\n",
       "   'Assault': 29.4,\n",
       "   'Choking and suffocation': 11.9,\n",
       "   'Contact with living things': 85.5,\n",
       "   'Contact with objects': 360.2,\n",
       "   'Drowning and submersion': 1.3,\n",
       "   'Electricity and air pressure': 1.3,\n",
       "   'Falls': 2619.8,\n",
       "   'Forces of nature': 5.5,\n",
       "   'Intentional self-harm': 36.4,\n",
       "   'Other unintentional causes': 196.6,\n",
       "   'Overexertion': 54.5,\n",
       "   'Thermal causes': 23.3,\n",
       "   'Transport': 248.2,\n",
       "   'Undetermined intent': 10.3},\n",
       "  'Females': {'Accidental poisoning': 45.2,\n",
       "   'Assault': 15.5,\n",
       "   'Choking and suffocation': 9.5,\n",
       "   'Contact with living things': 87.4,\n",
       "   'Contact with objects': 152.3,\n",
       "   'Drowning and submersion': 1.0,\n",
       "   'Falls': 3742.3,\n",
       "   'Intentional self-harm': 35.8,\n",
       "   'Other unintentional causes': 233.6,\n",
       "   'Overexertion': 76.7,\n",
       "   'Thermal causes': 13.9,\n",
       "   'Transport': 161.5,\n",
       "   'Undetermined intent': 8.1}}}"
      ]
     },
     "execution_count": 361,
     "metadata": {},
     "output_type": "execute_result"
    }
   ],
   "source": [
    "data_dict"
   ]
  },
  {
   "cell_type": "code",
   "execution_count": 362,
   "metadata": {},
   "outputs": [],
   "source": [
    "# Save the dictionary to a JSON file for future use\n",
    "import json\n",
    "\n",
    "file_path = \"crude_rate_dict.json\"\n",
    "\n",
    "with open(file_path, \"w\") as file:\n",
    "    json.dump(data_dict, file, indent=4)"
   ]
  }
 ],
 "metadata": {
  "kernelspec": {
   "display_name": "base",
   "language": "python",
   "name": "python3"
  },
  "language_info": {
   "codemirror_mode": {
    "name": "ipython",
    "version": 3
   },
   "file_extension": ".py",
   "mimetype": "text/x-python",
   "name": "python",
   "nbconvert_exporter": "python",
   "pygments_lexer": "ipython3",
   "version": "3.12.3"
  }
 },
 "nbformat": 4,
 "nbformat_minor": 2
}
